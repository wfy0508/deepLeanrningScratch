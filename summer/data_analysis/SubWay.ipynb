{
 "cells": [
  {
   "attachments": {
    "image.png": {
     "image/png": "[encoded data removed]"
    }
   },
   "cell_type": "markdown",
   "id": "77770ace",
   "metadata": {},
   "source": [
    "## 背景说明\n",
    "\n",
    "随着人们生活水平的提高，越来越多的人们选择假期旅游，然而节假日大量的人员流动造成了热门景点附近的地铁站人员密集，若遇突发情况，人员无法有效疏散。在此背景下，通过对地铁站人流量数据进行分析，推测出人员密集区域和高峰时段，从而提前做好准备，为合理疏导人群、规避交通堵塞提供预警服务。\n",
    "\n",
    "### 数据样例\n",
    "\n",
    "&emsp;&emsp;1、`data.csv` 包含 `2022-01-01.csv` 至`2022-01-10.csv`共`20天`的地铁站数据，共`20万`条。\n",
    "\n",
    "| 列名 | 类型 | 说明 | 示例 |\n",
    "| ---- | ---- | ---- | ---- |\n",
    "| time | String | 刷卡发生时间 | 2022-01-01 02:00:05 |\n",
    "| lineID | String | 地铁线路ID | B |\n",
    "| stationID | int | 地铁站ID | 27 |\n",
    "| deviceID | int | 刷卡设备编号ID | 1354 |\n",
    "| status | int | 进出站状态，0为出站，1为进站 | 0 |\n",
    "| userID | String | 用户身份ID | D13f76f42c9a677c4add94d9e480fb5c5 |\n",
    "| payType | int | 用户刷卡类型 | 3 |\n",
    "\n",
    "&emsp;&emsp;2、`Metro_roadMap.csv` 是一个81x81的二维矩阵。文件中首行和首列表示地铁站ID（stationID），columns为0-80，rows为0-80。roadMap[i][j] = 1 表示stationID为i的地铁站和stationID为j的地铁站直接相连；roadMap[i][j] = 0 表示stationID为i的地铁站和stationID为j的地铁站不相连。\n",
    "\n",
    "![image.png](attachment:image.png)\n",
    "\n",
    "### 分析思路\n",
    "\n",
    "1.对数据整体进行观察。由于数据中存在不合法的数据，如：0点后仍有刷卡记录以及一些值为NaN的数据等，将这类数据进行剔除。对清洗后的数据进行统计。<br>\n",
    "2.分析线路、站点、设备之间的关系。利用分组聚合，分析线路、站点、设备之间的数量关系，并使用matplotlib进行可视化分析。<br>\n",
    "3.分析用户、刷卡类型、时间段之间的关系。利用分组聚合，分析每个时间段的用户数量，并可视化，以便于查看什么时间亦或哪条线路用户进出站达到峰值。<br>\n",
    "4.分析地铁站点在三条线路的分布情况。利用分组聚合，以线路A为例，对1月1日至1月20日共计20天内的地铁站点（站67到站80）人流量进行分析，并使用饼状图对每个站点的情况进行展示。<br>\n",
    "5.按时间段分析线路A、B、C各站的人流量情况。利用分组聚合的方式统计 `早高峰[7:00-9:00]` 和 `晚高峰[17:00-20:00]`的进出站人数，并利用pyecharts库进行地图可视化。"
   ]
  },
  {
   "cell_type": "markdown",
   "id": "e5488964",
   "metadata": {},
   "source": [
    "### 0、导包\n",
    "\n",
    "- 导入数据分析所用的第三方库：`numpy、pandas、matplotlib`；\n",
    "\n",
    "- 为了防止`matplotlib`画图例时中文乱码情况，下面给出 `2种` 解决方案：\n",
    "\n",
    "- 第一种：\n",
    "\n",
    "    - - 1、第一步：安装mplfonts库`!pip install mplfonts -i https://pypi.tuna.tsinghua.edu.cn/simple` \n",
    "\n",
    "    - - 2、第二步：添加下列代码： \n",
    "\n",
    "    - - `from mplfonts import use_font`\n",
    "    - - `use_font('Noto Serif CJK SC')#指定中文字体`\n",
    "    \n",
    "- 第二种：\n",
    "    - -  &emsp;1、升级matplotlib\n",
    "    - -  &emsp;2、写入如下代码\n",
    "    - - &emsp;`# 设置显示中文字体，# 设置font.sans-serif 或 font.family 均可\n",
    "plt.rcParams[\"font.sans-serif\"] = [\"Arial Unicode MS\"] ## mac\n",
    "plt.rcParams['font.family']=['Arial Unicode MS'] ## mac\n",
    "plt.rcParams[\"font.sans-serif\"] = [\"SimHei\"] ## win\n",
    "plt.rcParams['font.family']=['SimHei'] ## win\n",
    "plt.rcParams[\"axes.unicode_minus\"] = False # 设置正常显示符号`"
   ]
  },
  {
   "cell_type": "code",
   "id": "529359e6",
   "metadata": {
    "ExecuteTime": {
     "end_time": "2024-09-12T15:02:15.352812Z",
     "start_time": "2024-09-12T15:02:15.350664Z"
    }
   },
   "source": [
    "import os\n",
    "import pandas as pd\n",
    "import matplotlib.pyplot as plt\n",
    "\n",
    "# 设置显示中文字体，\n",
    "# 设置font.sans-serif 或 font.family 均可\n",
    "plt.rcParams[\"font.sans-serif\"] = [\"Arial Unicode MS\"]  ## mac\n",
    "plt.rcParams['font.family'] = ['Arial Unicode MS']  ## mac\n",
    "#plt.rcParams[\"font.sans-serif\"] = [\"SimHei\"] ## win\n",
    "#plt.rcParams['font.family']=['SimHei'] ## win\n",
    "# 设置正常显示符号\n",
    "plt.rcParams[\"axes.unicode_minus\"] = False"
   ],
   "outputs": [],
   "execution_count": 1
  },
  {
   "cell_type": "markdown",
   "id": "8926a2ed",
   "metadata": {},
   "source": [
    "### 1、数据观察\n",
    "\n",
    "- 查看数据样本信息，如一条数据样本中包含哪些属性；\n",
    "- 查看数据类型，判断是否需要转换数据格式；\n",
    "- 查看数据是否有缺失、无效等情况，若有则对数据进行清洗；"
   ]
  },
  {
   "cell_type": "markdown",
   "id": "71ea01d4",
   "metadata": {},
   "source": "#### 1.1 观察数据"
  },
  {
   "cell_type": "code",
   "id": "8c18f56e",
   "metadata": {
    "ExecuteTime": {
     "end_time": "2024-09-12T15:05:01.109820Z",
     "start_time": "2024-09-12T15:05:00.934300Z"
    }
   },
   "source": [
    "parent_path = os.path.abspath(os.pardir)\n",
    "dataPath = os.path.join(parent_path + '/dataset' + '/subway_data.csv')\n",
    "df = pd.read_csv(dataPath)\n",
    "df.head()  #查看数据样式"
   ],
   "outputs": [
    {
     "data": {
      "text/plain": [
       "                  time lineID  stationID  deviceID  status  \\\n",
       "0  2022-01-01 14:34:23      B         19      1006       1   \n",
       "1  2022-01-01 18:35:52      C         47      2271       1   \n",
       "2  2022-01-01 19:35:45      B         17       952       1   \n",
       "3  2022-01-01 21:00:03      B         27      1351       1   \n",
       "4  2022-01-01 15:47:29      B          0         0       0   \n",
       "\n",
       "                              userID  payType  \n",
       "0  Cff263245447d6ad1fbc2c6166582234e        2  \n",
       "1  A27aff32d8340333a616d62e12434ccbe        0  \n",
       "2  Bedb7c79d26ae95c2a9f14b51b3797ed8        1  \n",
       "3  Cb32ccd5e11669b4c7c5e59fc3ffe7dba        2  \n",
       "4  D964f8837a1a6326d0fe6bb36457874de        3  "
      ],
      "text/html": [
       "<div>\n",
       "<style scoped>\n",
       "    .dataframe tbody tr th:only-of-type {\n",
       "        vertical-align: middle;\n",
       "    }\n",
       "\n",
       "    .dataframe tbody tr th {\n",
       "        vertical-align: top;\n",
       "    }\n",
       "\n",
       "    .dataframe thead th {\n",
       "        text-align: right;\n",
       "    }\n",
       "</style>\n",
       "<table border=\"1\" class=\"dataframe\">\n",
       "  <thead>\n",
       "    <tr style=\"text-align: right;\">\n",
       "      <th></th>\n",
       "      <th>time</th>\n",
       "      <th>lineID</th>\n",
       "      <th>stationID</th>\n",
       "      <th>deviceID</th>\n",
       "      <th>status</th>\n",
       "      <th>userID</th>\n",
       "      <th>payType</th>\n",
       "    </tr>\n",
       "  </thead>\n",
       "  <tbody>\n",
       "    <tr>\n",
       "      <th>0</th>\n",
       "      <td>2022-01-01 14:34:23</td>\n",
       "      <td>B</td>\n",
       "      <td>19</td>\n",
       "      <td>1006</td>\n",
       "      <td>1</td>\n",
       "      <td>Cff263245447d6ad1fbc2c6166582234e</td>\n",
       "      <td>2</td>\n",
       "    </tr>\n",
       "    <tr>\n",
       "      <th>1</th>\n",
       "      <td>2022-01-01 18:35:52</td>\n",
       "      <td>C</td>\n",
       "      <td>47</td>\n",
       "      <td>2271</td>\n",
       "      <td>1</td>\n",
       "      <td>A27aff32d8340333a616d62e12434ccbe</td>\n",
       "      <td>0</td>\n",
       "    </tr>\n",
       "    <tr>\n",
       "      <th>2</th>\n",
       "      <td>2022-01-01 19:35:45</td>\n",
       "      <td>B</td>\n",
       "      <td>17</td>\n",
       "      <td>952</td>\n",
       "      <td>1</td>\n",
       "      <td>Bedb7c79d26ae95c2a9f14b51b3797ed8</td>\n",
       "      <td>1</td>\n",
       "    </tr>\n",
       "    <tr>\n",
       "      <th>3</th>\n",
       "      <td>2022-01-01 21:00:03</td>\n",
       "      <td>B</td>\n",
       "      <td>27</td>\n",
       "      <td>1351</td>\n",
       "      <td>1</td>\n",
       "      <td>Cb32ccd5e11669b4c7c5e59fc3ffe7dba</td>\n",
       "      <td>2</td>\n",
       "    </tr>\n",
       "    <tr>\n",
       "      <th>4</th>\n",
       "      <td>2022-01-01 15:47:29</td>\n",
       "      <td>B</td>\n",
       "      <td>0</td>\n",
       "      <td>0</td>\n",
       "      <td>0</td>\n",
       "      <td>D964f8837a1a6326d0fe6bb36457874de</td>\n",
       "      <td>3</td>\n",
       "    </tr>\n",
       "  </tbody>\n",
       "</table>\n",
       "</div>"
      ]
     },
     "execution_count": 10,
     "metadata": {},
     "output_type": "execute_result"
    }
   ],
   "execution_count": 10
  },
  {
   "cell_type": "code",
   "id": "dd5fbdbd",
   "metadata": {
    "ExecuteTime": {
     "end_time": "2024-09-12T15:02:23.190878Z",
     "start_time": "2024-09-12T15:02:23.188106Z"
    }
   },
   "source": [
    "# 查形状\n",
    "df.shape"
   ],
   "outputs": [
    {
     "data": {
      "text/plain": [
       "(200000, 7)"
      ]
     },
     "execution_count": 3,
     "metadata": {},
     "output_type": "execute_result"
    }
   ],
   "execution_count": 3
  },
  {
   "cell_type": "code",
   "id": "40c7cb28",
   "metadata": {
    "ExecuteTime": {
     "end_time": "2024-09-12T15:02:24.192795Z",
     "start_time": "2024-09-12T15:02:24.188226Z"
    }
   },
   "source": [
    "# 查看数据类型\n",
    "df.dtypes"
   ],
   "outputs": [
    {
     "data": {
      "text/plain": [
       "time         object\n",
       "lineID       object\n",
       "stationID     int64\n",
       "deviceID      int64\n",
       "status        int64\n",
       "userID       object\n",
       "payType       int64\n",
       "dtype: object"
      ]
     },
     "execution_count": 4,
     "metadata": {},
     "output_type": "execute_result"
    }
   ],
   "execution_count": 4
  },
  {
   "cell_type": "code",
   "id": "66783b1f",
   "metadata": {
    "ExecuteTime": {
     "end_time": "2024-09-12T15:02:25.439760Z",
     "start_time": "2024-09-12T15:02:25.415220Z"
    }
   },
   "source": [
    "df.describe()"
   ],
   "outputs": [
    {
     "data": {
      "text/plain": [
       "           stationID       deviceID         status        payType\n",
       "count  200000.000000  200000.000000  200000.000000  200000.000000\n",
       "mean       32.335170    1552.001955       0.499205       1.383740\n",
       "std        23.208249    1061.014492       0.500001       0.844498\n",
       "min         0.000000       0.000000       0.000000       0.000000\n",
       "25%        12.000000     641.000000       0.000000       1.000000\n",
       "50%        25.000000    1273.000000       0.000000       1.000000\n",
       "75%        52.000000    2533.000000       1.000000       2.000000\n",
       "max        80.000000    3638.000000       1.000000       3.000000"
      ],
      "text/html": [
       "<div>\n",
       "<style scoped>\n",
       "    .dataframe tbody tr th:only-of-type {\n",
       "        vertical-align: middle;\n",
       "    }\n",
       "\n",
       "    .dataframe tbody tr th {\n",
       "        vertical-align: top;\n",
       "    }\n",
       "\n",
       "    .dataframe thead th {\n",
       "        text-align: right;\n",
       "    }\n",
       "</style>\n",
       "<table border=\"1\" class=\"dataframe\">\n",
       "  <thead>\n",
       "    <tr style=\"text-align: right;\">\n",
       "      <th></th>\n",
       "      <th>stationID</th>\n",
       "      <th>deviceID</th>\n",
       "      <th>status</th>\n",
       "      <th>payType</th>\n",
       "    </tr>\n",
       "  </thead>\n",
       "  <tbody>\n",
       "    <tr>\n",
       "      <th>count</th>\n",
       "      <td>200000.000000</td>\n",
       "      <td>200000.000000</td>\n",
       "      <td>200000.000000</td>\n",
       "      <td>200000.000000</td>\n",
       "    </tr>\n",
       "    <tr>\n",
       "      <th>mean</th>\n",
       "      <td>32.335170</td>\n",
       "      <td>1552.001955</td>\n",
       "      <td>0.499205</td>\n",
       "      <td>1.383740</td>\n",
       "    </tr>\n",
       "    <tr>\n",
       "      <th>std</th>\n",
       "      <td>23.208249</td>\n",
       "      <td>1061.014492</td>\n",
       "      <td>0.500001</td>\n",
       "      <td>0.844498</td>\n",
       "    </tr>\n",
       "    <tr>\n",
       "      <th>min</th>\n",
       "      <td>0.000000</td>\n",
       "      <td>0.000000</td>\n",
       "      <td>0.000000</td>\n",
       "      <td>0.000000</td>\n",
       "    </tr>\n",
       "    <tr>\n",
       "      <th>25%</th>\n",
       "      <td>12.000000</td>\n",
       "      <td>641.000000</td>\n",
       "      <td>0.000000</td>\n",
       "      <td>1.000000</td>\n",
       "    </tr>\n",
       "    <tr>\n",
       "      <th>50%</th>\n",
       "      <td>25.000000</td>\n",
       "      <td>1273.000000</td>\n",
       "      <td>0.000000</td>\n",
       "      <td>1.000000</td>\n",
       "    </tr>\n",
       "    <tr>\n",
       "      <th>75%</th>\n",
       "      <td>52.000000</td>\n",
       "      <td>2533.000000</td>\n",
       "      <td>1.000000</td>\n",
       "      <td>2.000000</td>\n",
       "    </tr>\n",
       "    <tr>\n",
       "      <th>max</th>\n",
       "      <td>80.000000</td>\n",
       "      <td>3638.000000</td>\n",
       "      <td>1.000000</td>\n",
       "      <td>3.000000</td>\n",
       "    </tr>\n",
       "  </tbody>\n",
       "</table>\n",
       "</div>"
      ]
     },
     "execution_count": 5,
     "metadata": {},
     "output_type": "execute_result"
    }
   ],
   "execution_count": 5
  },
  {
   "cell_type": "markdown",
   "id": "dbcc7b7b",
   "metadata": {},
   "source": [
    "### 结论\n",
    "\n",
    "- lineID的范围是{A, B, C}，有 3 条线路\n",
    "- staionID的范围是[0，80]，有81个站点\n",
    "- deviceID的范围是[0,3638]，有3639个刷卡设备\n",
    "- status的范围是{0,1}，0为出站，1为进站\n",
    "- payType的范围是{0,1,2,3}"
   ]
  },
  {
   "cell_type": "markdown",
   "id": "431de868",
   "metadata": {},
   "source": [
    "## 1.2 数据类型转换\n",
    "\n",
    "- 1、`time` 列为方便后面计算，修改为可计算类型'datetime'\n",
    "- 2、`time` 列为方便后面计算，将原始数据 `2022-01-01 14:34:23` 拆成 `2022-01-01` 和 `14:34:23` 两列"
   ]
  },
  {
   "cell_type": "code",
   "id": "fbb70786",
   "metadata": {
    "scrolled": true,
    "ExecuteTime": {
     "end_time": "2024-09-12T15:05:06.567393Z",
     "start_time": "2024-09-12T15:05:06.048459Z"
    }
   },
   "source": [
    "df['time'] = pd.to_datetime(df['time'], format='%Y-%m-%d %H:%M:%S')\n",
    "df['date1'] = df['time'].dt.strftime('%Y-%m-%d')\n",
    "df['date2'] = df['time'].dt.strftime('%H:%M:%S')\n",
    "df['hours'] = df['time'].dt.hour\n",
    "df.head()"
   ],
   "outputs": [
    {
     "data": {
      "text/plain": [
       "                 time lineID  stationID  deviceID  status  \\\n",
       "0 2022-01-01 14:34:23      B         19      1006       1   \n",
       "1 2022-01-01 18:35:52      C         47      2271       1   \n",
       "2 2022-01-01 19:35:45      B         17       952       1   \n",
       "3 2022-01-01 21:00:03      B         27      1351       1   \n",
       "4 2022-01-01 15:47:29      B          0         0       0   \n",
       "\n",
       "                              userID  payType       date1     date2  hours  \n",
       "0  Cff263245447d6ad1fbc2c6166582234e        2  2022-01-01  14:34:23     14  \n",
       "1  A27aff32d8340333a616d62e12434ccbe        0  2022-01-01  18:35:52     18  \n",
       "2  Bedb7c79d26ae95c2a9f14b51b3797ed8        1  2022-01-01  19:35:45     19  \n",
       "3  Cb32ccd5e11669b4c7c5e59fc3ffe7dba        2  2022-01-01  21:00:03     21  \n",
       "4  D964f8837a1a6326d0fe6bb36457874de        3  2022-01-01  15:47:29     15  "
      ],
      "text/html": [
       "<div>\n",
       "<style scoped>\n",
       "    .dataframe tbody tr th:only-of-type {\n",
       "        vertical-align: middle;\n",
       "    }\n",
       "\n",
       "    .dataframe tbody tr th {\n",
       "        vertical-align: top;\n",
       "    }\n",
       "\n",
       "    .dataframe thead th {\n",
       "        text-align: right;\n",
       "    }\n",
       "</style>\n",
       "<table border=\"1\" class=\"dataframe\">\n",
       "  <thead>\n",
       "    <tr style=\"text-align: right;\">\n",
       "      <th></th>\n",
       "      <th>time</th>\n",
       "      <th>lineID</th>\n",
       "      <th>stationID</th>\n",
       "      <th>deviceID</th>\n",
       "      <th>status</th>\n",
       "      <th>userID</th>\n",
       "      <th>payType</th>\n",
       "      <th>date1</th>\n",
       "      <th>date2</th>\n",
       "      <th>hours</th>\n",
       "    </tr>\n",
       "  </thead>\n",
       "  <tbody>\n",
       "    <tr>\n",
       "      <th>0</th>\n",
       "      <td>2022-01-01 14:34:23</td>\n",
       "      <td>B</td>\n",
       "      <td>19</td>\n",
       "      <td>1006</td>\n",
       "      <td>1</td>\n",
       "      <td>Cff263245447d6ad1fbc2c6166582234e</td>\n",
       "      <td>2</td>\n",
       "      <td>2022-01-01</td>\n",
       "      <td>14:34:23</td>\n",
       "      <td>14</td>\n",
       "    </tr>\n",
       "    <tr>\n",
       "      <th>1</th>\n",
       "      <td>2022-01-01 18:35:52</td>\n",
       "      <td>C</td>\n",
       "      <td>47</td>\n",
       "      <td>2271</td>\n",
       "      <td>1</td>\n",
       "      <td>A27aff32d8340333a616d62e12434ccbe</td>\n",
       "      <td>0</td>\n",
       "      <td>2022-01-01</td>\n",
       "      <td>18:35:52</td>\n",
       "      <td>18</td>\n",
       "    </tr>\n",
       "    <tr>\n",
       "      <th>2</th>\n",
       "      <td>2022-01-01 19:35:45</td>\n",
       "      <td>B</td>\n",
       "      <td>17</td>\n",
       "      <td>952</td>\n",
       "      <td>1</td>\n",
       "      <td>Bedb7c79d26ae95c2a9f14b51b3797ed8</td>\n",
       "      <td>1</td>\n",
       "      <td>2022-01-01</td>\n",
       "      <td>19:35:45</td>\n",
       "      <td>19</td>\n",
       "    </tr>\n",
       "    <tr>\n",
       "      <th>3</th>\n",
       "      <td>2022-01-01 21:00:03</td>\n",
       "      <td>B</td>\n",
       "      <td>27</td>\n",
       "      <td>1351</td>\n",
       "      <td>1</td>\n",
       "      <td>Cb32ccd5e11669b4c7c5e59fc3ffe7dba</td>\n",
       "      <td>2</td>\n",
       "      <td>2022-01-01</td>\n",
       "      <td>21:00:03</td>\n",
       "      <td>21</td>\n",
       "    </tr>\n",
       "    <tr>\n",
       "      <th>4</th>\n",
       "      <td>2022-01-01 15:47:29</td>\n",
       "      <td>B</td>\n",
       "      <td>0</td>\n",
       "      <td>0</td>\n",
       "      <td>0</td>\n",
       "      <td>D964f8837a1a6326d0fe6bb36457874de</td>\n",
       "      <td>3</td>\n",
       "      <td>2022-01-01</td>\n",
       "      <td>15:47:29</td>\n",
       "      <td>15</td>\n",
       "    </tr>\n",
       "  </tbody>\n",
       "</table>\n",
       "</div>"
      ]
     },
     "execution_count": 11,
     "metadata": {},
     "output_type": "execute_result"
    }
   ],
   "execution_count": 11
  },
  {
   "cell_type": "markdown",
   "id": "263590d8",
   "metadata": {},
   "source": [
    "#### 1.3 清除异常值\n",
    "\n",
    "- 假设地铁早上6：00开门，晚上 23：00关门\n",
    "\n",
    "-  删除符合条件的指定行，并替换原始df"
   ]
  },
  {
   "cell_type": "code",
   "id": "154c2adf",
   "metadata": {
    "ExecuteTime": {
     "end_time": "2024-09-12T15:05:11.311064Z",
     "start_time": "2024-09-12T15:05:11.294808Z"
    }
   },
   "source": [
    "print(\"原始数据：\", df.shape[0])\n",
    "# 假设地铁早上6：00开门，晚上 23：00关门\n",
    "D = df[(df['hours'] <= 6) | (df['hours'] >= 23)]\n",
    "print(\"异常值：\", D.shape[0])\n",
    "\n",
    "# 删除符合条件的指定行，原表也变\n",
    "df.drop(df[(df['hours'] <= 6) | (df['hours'] >= 23)].index, inplace=True)\n",
    "df.shape"
   ],
   "outputs": [
    {
     "name": "stdout",
     "output_type": "stream",
     "text": [
      "原始数据： 200000\n",
      "异常值： 4257\n"
     ]
    },
    {
     "data": {
      "text/plain": [
       "(195743, 10)"
      ]
     },
     "execution_count": 12,
     "metadata": {},
     "output_type": "execute_result"
    }
   ],
   "execution_count": 12
  },
  {
   "cell_type": "code",
   "id": "d9db2b63",
   "metadata": {
    "ExecuteTime": {
     "end_time": "2024-09-12T15:08:50.271539Z",
     "start_time": "2024-09-12T15:08:50.261990Z"
    }
   },
   "source": [
    "# 查看地铁矩阵图\n",
    "import seaborn as sns\n",
    "\n",
    "road_map = pd.read_csv(parent_path + '/dataset/Metro_roadMap.csv')\n",
    "print(road_map.shape)  #多了一列Unnamed\n",
    "road_map = road_map.drop(['Unnamed: 0'], axis=1)\n",
    "road_map.head(5)"
   ],
   "outputs": [
    {
     "name": "stdout",
     "output_type": "stream",
     "text": [
      "(81, 82)\n"
     ]
    },
    {
     "data": {
      "text/plain": [
       "   0  1  2  3  4  5  6  7  8  9  ...  71  72  73  74  75  76  77  78  79  80\n",
       "0  0  1  0  0  0  0  0  0  0  0  ...   0   0   0   0   0   0   0   0   0   0\n",
       "1  1  0  1  0  0  0  0  0  0  0  ...   0   0   0   0   0   0   0   0   0   0\n",
       "2  0  1  0  1  0  0  0  0  0  0  ...   0   0   0   0   0   0   0   0   0   0\n",
       "3  0  0  1  0  1  0  0  0  0  0  ...   0   0   0   0   0   0   0   0   0   0\n",
       "4  0  0  0  1  0  1  0  0  0  0  ...   0   0   0   0   0   0   0   0   0   0\n",
       "\n",
       "[5 rows x 81 columns]"
      ],
      "text/html": [
       "<div>\n",
       "<style scoped>\n",
       "    .dataframe tbody tr th:only-of-type {\n",
       "        vertical-align: middle;\n",
       "    }\n",
       "\n",
       "    .dataframe tbody tr th {\n",
       "        vertical-align: top;\n",
       "    }\n",
       "\n",
       "    .dataframe thead th {\n",
       "        text-align: right;\n",
       "    }\n",
       "</style>\n",
       "<table border=\"1\" class=\"dataframe\">\n",
       "  <thead>\n",
       "    <tr style=\"text-align: right;\">\n",
       "      <th></th>\n",
       "      <th>0</th>\n",
       "      <th>1</th>\n",
       "      <th>2</th>\n",
       "      <th>3</th>\n",
       "      <th>4</th>\n",
       "      <th>5</th>\n",
       "      <th>6</th>\n",
       "      <th>7</th>\n",
       "      <th>8</th>\n",
       "      <th>9</th>\n",
       "      <th>...</th>\n",
       "      <th>71</th>\n",
       "      <th>72</th>\n",
       "      <th>73</th>\n",
       "      <th>74</th>\n",
       "      <th>75</th>\n",
       "      <th>76</th>\n",
       "      <th>77</th>\n",
       "      <th>78</th>\n",
       "      <th>79</th>\n",
       "      <th>80</th>\n",
       "    </tr>\n",
       "  </thead>\n",
       "  <tbody>\n",
       "    <tr>\n",
       "      <th>0</th>\n",
       "      <td>0</td>\n",
       "      <td>1</td>\n",
       "      <td>0</td>\n",
       "      <td>0</td>\n",
       "      <td>0</td>\n",
       "      <td>0</td>\n",
       "      <td>0</td>\n",
       "      <td>0</td>\n",
       "      <td>0</td>\n",
       "      <td>0</td>\n",
       "      <td>...</td>\n",
       "      <td>0</td>\n",
       "      <td>0</td>\n",
       "      <td>0</td>\n",
       "      <td>0</td>\n",
       "      <td>0</td>\n",
       "      <td>0</td>\n",
       "      <td>0</td>\n",
       "      <td>0</td>\n",
       "      <td>0</td>\n",
       "      <td>0</td>\n",
       "    </tr>\n",
       "    <tr>\n",
       "      <th>1</th>\n",
       "      <td>1</td>\n",
       "      <td>0</td>\n",
       "      <td>1</td>\n",
       "      <td>0</td>\n",
       "      <td>0</td>\n",
       "      <td>0</td>\n",
       "      <td>0</td>\n",
       "      <td>0</td>\n",
       "      <td>0</td>\n",
       "      <td>0</td>\n",
       "      <td>...</td>\n",
       "      <td>0</td>\n",
       "      <td>0</td>\n",
       "      <td>0</td>\n",
       "      <td>0</td>\n",
       "      <td>0</td>\n",
       "      <td>0</td>\n",
       "      <td>0</td>\n",
       "      <td>0</td>\n",
       "      <td>0</td>\n",
       "      <td>0</td>\n",
       "    </tr>\n",
       "    <tr>\n",
       "      <th>2</th>\n",
       "      <td>0</td>\n",
       "      <td>1</td>\n",
       "      <td>0</td>\n",
       "      <td>1</td>\n",
       "      <td>0</td>\n",
       "      <td>0</td>\n",
       "      <td>0</td>\n",
       "      <td>0</td>\n",
       "      <td>0</td>\n",
       "      <td>0</td>\n",
       "      <td>...</td>\n",
       "      <td>0</td>\n",
       "      <td>0</td>\n",
       "      <td>0</td>\n",
       "      <td>0</td>\n",
       "      <td>0</td>\n",
       "      <td>0</td>\n",
       "      <td>0</td>\n",
       "      <td>0</td>\n",
       "      <td>0</td>\n",
       "      <td>0</td>\n",
       "    </tr>\n",
       "    <tr>\n",
       "      <th>3</th>\n",
       "      <td>0</td>\n",
       "      <td>0</td>\n",
       "      <td>1</td>\n",
       "      <td>0</td>\n",
       "      <td>1</td>\n",
       "      <td>0</td>\n",
       "      <td>0</td>\n",
       "      <td>0</td>\n",
       "      <td>0</td>\n",
       "      <td>0</td>\n",
       "      <td>...</td>\n",
       "      <td>0</td>\n",
       "      <td>0</td>\n",
       "      <td>0</td>\n",
       "      <td>0</td>\n",
       "      <td>0</td>\n",
       "      <td>0</td>\n",
       "      <td>0</td>\n",
       "      <td>0</td>\n",
       "      <td>0</td>\n",
       "      <td>0</td>\n",
       "    </tr>\n",
       "    <tr>\n",
       "      <th>4</th>\n",
       "      <td>0</td>\n",
       "      <td>0</td>\n",
       "      <td>0</td>\n",
       "      <td>1</td>\n",
       "      <td>0</td>\n",
       "      <td>1</td>\n",
       "      <td>0</td>\n",
       "      <td>0</td>\n",
       "      <td>0</td>\n",
       "      <td>0</td>\n",
       "      <td>...</td>\n",
       "      <td>0</td>\n",
       "      <td>0</td>\n",
       "      <td>0</td>\n",
       "      <td>0</td>\n",
       "      <td>0</td>\n",
       "      <td>0</td>\n",
       "      <td>0</td>\n",
       "      <td>0</td>\n",
       "      <td>0</td>\n",
       "      <td>0</td>\n",
       "    </tr>\n",
       "  </tbody>\n",
       "</table>\n",
       "<p>5 rows × 81 columns</p>\n",
       "</div>"
      ]
     },
     "execution_count": 14,
     "metadata": {},
     "output_type": "execute_result"
    }
   ],
   "execution_count": 14
  },
  {
   "cell_type": "code",
   "id": "1362bda7",
   "metadata": {
    "ExecuteTime": {
     "end_time": "2024-09-12T15:09:15.543072Z",
     "start_time": "2024-09-12T15:09:15.095500Z"
    }
   },
   "source": [
    "# TODO: 地铁矩阵--热力图\n",
    "# correlation heatmap of dataset\n",
    "def correlation_heatmap(df):\n",
    "    _, ax = plt.subplots(figsize=(10, 10))\n",
    "    colormap = sns.diverging_palette(150, 10, as_cmap=True)\n",
    "\n",
    "    _ = sns.heatmap(\n",
    "        df,\n",
    "        cmap=colormap,\n",
    "        square=True,\n",
    "        cbar_kws={'shrink': .5},\n",
    "        ax=ax,\n",
    "        linewidths=0.1, vmax=1.0, linecolor='white',\n",
    "    )\n",
    "\n",
    "    plt.title('地铁矩阵--热力图', y=1.05, size=15)\n",
    "\n",
    "\n",
    "correlation_heatmap(road_map)"
   ],
   "outputs": [
    {
     "data": {
      "text/plain": [
       "<Figure size 1000x1000 with 2 Axes>"
      ],
      "image/png": "[encoded data removed]"
     },
     "metadata": {},
     "output_type": "display_data"
    }
   ],
   "execution_count": 17
  },
  {
   "cell_type": "markdown",
   "id": "02a67218",
   "metadata": {},
   "source": [
    "- 地铁热力图分析\n",
    "\n",
    "1、中间正对角线方向可以发现i,j相连表现的是上下站的连接  (参考：roadMap[i][j] = 1 表示stationID为i的地铁站和stationID为j的地铁站直接相连；roadMap[i][j] = 0 表示stationID为i的地铁站和stationID为j的地铁站不相连。)<br>\n",
    "2、其余剩下10个零散点为重点研究对象，可列表统计\n",
    "\n",
    "\n",
    "| 站点i | 站点j |\n",
    "| ---- | ---- |\n",
    "| 28 | 20 |\n",
    "| 51 | 9 |\n",
    "| 50 | 10 |\n",
    "| 51 | 11 |\n",
    "| 52 | 10 |\n",
    "| 74 | 5 |\n",
    "| 75 | 5 |\n",
    "| 80 | 15 |\n",
    "| 77 | 46 |\n",
    "| 78 | 46 |"
   ]
  },
  {
   "cell_type": "markdown",
   "id": "ec2cade1",
   "metadata": {},
   "source": [
    "### 2、线路、站点、设备数分析\n",
    "\n",
    "- 1、基本统计：线路、站点、设备数的基本情况；\n",
    "- 2、借助分组聚合，分析每条线路的站点数；\n",
    "- 3、利用 `groupby` 查看每条线路记录数最多的站点；\n",
    "- 4、假设：越大的站点设备数越多。比如换乘站和人流密集站点会有多个出口；查看设备数最多的站点"
   ]
  },
  {
   "cell_type": "markdown",
   "id": "d50210f4",
   "metadata": {},
   "source": "#### 绘制地铁线路数值分布图柱状图"
  },
  {
   "cell_type": "code",
   "id": "149b51b2",
   "metadata": {
    "ExecuteTime": {
     "end_time": "2024-09-12T15:12:07.435125Z",
     "start_time": "2024-09-12T15:12:07.346034Z"
    }
   },
   "source": [
    "# 每条线路的人流量分布情况\n",
    "y_A = df[df['lineID'] == 'A'].shape[0]\n",
    "y_B = df[df['lineID'] == 'B'].shape[0]\n",
    "y_C = df[df['lineID'] == 'C'].shape[0]\n",
    "\n",
    "# 打印每条线路的记录总数，作为数值考核\n",
    "print(\"LineA记录数:\", y_A, end='\\n')\n",
    "print(\"LineB记录数:\", y_B, end='\\n')\n",
    "print(\"LineC记录数:\", y_C, end='\\n')\n",
    "\n",
    "x = ['Line A', 'Line B', 'Line C']\n",
    "y = [y_A, y_B, y_C]\n",
    "\n",
    "plt.title('2022年1月1日-1月20日期间三条地铁线数值分布')\n",
    "plt.bar(x, y, width=0.3, label=\"线路分布\")\n",
    "plt.xlabel(\"地铁线路\")  #给x轴起名字\n",
    "plt.ylabel(\"数值分布\")  #给y轴起名字\n",
    "plt.show()"
   ],
   "outputs": [
    {
     "name": "stdout",
     "output_type": "stream",
     "text": [
      "LineA记录数: 21139\n",
      "LineB记录数: 112122\n",
      "LineC记录数: 62482\n"
     ]
    },
    {
     "data": {
      "text/plain": [
       "<Figure size 640x480 with 1 Axes>"
      ],
      "image/png": "[encoded data removed]"
     },
     "metadata": {},
     "output_type": "display_data"
    }
   ],
   "execution_count": 20
  },
  {
   "metadata": {
    "ExecuteTime": {
     "end_time": "2024-09-12T15:11:41.554628Z",
     "start_time": "2024-09-12T15:11:41.552054Z"
    }
   },
   "cell_type": "code",
   "source": "df.shape",
   "id": "92e6363f7dbdd582",
   "outputs": [
    {
     "data": {
      "text/plain": [
       "(195743, 10)"
      ]
     },
     "execution_count": 19,
     "metadata": {},
     "output_type": "execute_result"
    }
   ],
   "execution_count": 19
  },
  {
   "cell_type": "markdown",
   "id": "79f8e2f1",
   "metadata": {},
   "source": "#### 使用seaborn库绘制地铁各个站点压力分布柱状图"
  },
  {
   "cell_type": "code",
   "id": "0303d028",
   "metadata": {
    "ExecuteTime": {
     "end_time": "2024-09-12T15:14:00.795668Z",
     "start_time": "2024-09-12T15:14:00.789949Z"
    }
   },
   "source": [
    "## 绘制条形图：站点压力分布图\n",
    "number_of_stationID = df.stationID.value_counts()\n",
    "print(number_of_stationID)"
   ],
   "outputs": [
    {
     "name": "stdout",
     "output_type": "stream",
     "text": [
      "stationID\n",
      "15    16001\n",
      "9      8810\n",
      "4      5573\n",
      "7      5489\n",
      "10     4726\n",
      "      ...  \n",
      "35      706\n",
      "28      672\n",
      "31      656\n",
      "72      643\n",
      "74      523\n",
      "Name: count, Length: 80, dtype: int64\n"
     ]
    }
   ],
   "execution_count": 21
  },
  {
   "metadata": {
    "ExecuteTime": {
     "end_time": "2024-09-12T15:14:31.378017Z",
     "start_time": "2024-09-12T15:14:31.108010Z"
    }
   },
   "cell_type": "code",
   "source": [
    "fig = plt.figure(figsize=(15, 8), dpi=80)\n",
    "\n",
    "plt.title('地铁各个站点压力分布情况')\n",
    "ax = sns.barplot(x=number_of_stationID.index, y=number_of_stationID, label=\"站点压力情况\")\n",
    "plt.ylabel(\"站点压力值\")\n",
    "plt.xlabel(\"地铁站点(共80个)\")\n",
    "plt.legend()\n",
    "plt.show()"
   ],
   "id": "37819c12aba631a3",
   "outputs": [
    {
     "data": {
      "text/plain": [
       "<Figure size 1200x640 with 1 Axes>"
      ],
      "image/png": "[encoded data removed]"
     },
     "metadata": {},
     "output_type": "display_data"
    }
   ],
   "execution_count": 22
  },
  {
   "cell_type": "markdown",
   "id": "bde3dec6",
   "metadata": {},
   "source": [
    "<font size=5> **小结** </font>\n",
    "\n",
    "- 1、路线B是最繁忙的，大概11w条记录，占到总量的57%；路线C有6w条左右记录；路线A最少，2w条左右记录\n",
    "- 2、最繁忙的站点是站点15，1w多条记录，其次是9站点，8810条记录"
   ]
  },
  {
   "cell_type": "markdown",
   "id": "18a5eb23",
   "metadata": {},
   "source": "#### 根据 `lineID列` 对 `stationID`进行分组聚合分析，并转换为DataFrame"
  },
  {
   "cell_type": "code",
   "id": "a6bde996",
   "metadata": {
    "ExecuteTime": {
     "end_time": "2024-09-12T15:18:48.766143Z",
     "start_time": "2024-09-12T15:18:48.755628Z"
    }
   },
   "source": [
    "# 通过分组聚合查看每条路线的站点数\n",
    "a = df.groupby('lineID')['stationID'].nunique()\n",
    "LineStation = pd.DataFrame(a)\n",
    "LineStation.head()"
   ],
   "outputs": [
    {
     "data": {
      "text/plain": [
       "        stationID\n",
       "lineID           \n",
       "A              14\n",
       "B              34\n",
       "C              32"
      ],
      "text/html": [
       "<div>\n",
       "<style scoped>\n",
       "    .dataframe tbody tr th:only-of-type {\n",
       "        vertical-align: middle;\n",
       "    }\n",
       "\n",
       "    .dataframe tbody tr th {\n",
       "        vertical-align: top;\n",
       "    }\n",
       "\n",
       "    .dataframe thead th {\n",
       "        text-align: right;\n",
       "    }\n",
       "</style>\n",
       "<table border=\"1\" class=\"dataframe\">\n",
       "  <thead>\n",
       "    <tr style=\"text-align: right;\">\n",
       "      <th></th>\n",
       "      <th>stationID</th>\n",
       "    </tr>\n",
       "    <tr>\n",
       "      <th>lineID</th>\n",
       "      <th></th>\n",
       "    </tr>\n",
       "  </thead>\n",
       "  <tbody>\n",
       "    <tr>\n",
       "      <th>A</th>\n",
       "      <td>14</td>\n",
       "    </tr>\n",
       "    <tr>\n",
       "      <th>B</th>\n",
       "      <td>34</td>\n",
       "    </tr>\n",
       "    <tr>\n",
       "      <th>C</th>\n",
       "      <td>32</td>\n",
       "    </tr>\n",
       "  </tbody>\n",
       "</table>\n",
       "</div>"
      ]
     },
     "execution_count": 29,
     "metadata": {},
     "output_type": "execute_result"
    }
   ],
   "execution_count": 29
  },
  {
   "cell_type": "markdown",
   "id": "11e44497",
   "metadata": {},
   "source": "#### 筛选出`线路ABC`的进出站数据"
  },
  {
   "cell_type": "code",
   "id": "9964dbf8",
   "metadata": {
    "ExecuteTime": {
     "end_time": "2024-09-12T15:19:39.350Z",
     "start_time": "2024-09-12T15:19:39.289857Z"
    }
   },
   "source": [
    "# 计算每条线路的进出站情况, 0为出站，1为进站\n",
    "A_status_1 = df[(df['lineID'] == 'A') & (df['status'] == 1.0)].shape[0]\n",
    "A_status_0 = df[(df['lineID'] == 'A') & (df['status'] == 0.0)].shape[0]\n",
    "\n",
    "# 筛选线路B的进出站数据\n",
    "B_status_1 = df[(df['lineID'] == 'B') & (df['status'] == 1.0)].shape[0]\n",
    "B_status_0 = df[(df['lineID'] == 'B') & (df['status'] == 0.0)].shape[0]\n",
    "\n",
    "# 筛选线路C的进出站数据\n",
    "C_status_1 = df[(df['lineID'] == 'C') & (df['status'] == 1.0)].shape[0]\n",
    "C_status_0 = df[(df['lineID'] == 'C') & (df['status'] == 0.0)].shape[0]\n",
    "\n",
    "# 数值打印\n",
    "print(\"线路A进出站数据：\", A_status_1, A_status_0)\n",
    "print(\"线路B进出站数据：\", B_status_1, B_status_0)\n",
    "print(\"线路C进出站数据：\", C_status_1, C_status_0)"
   ],
   "outputs": [
    {
     "name": "stdout",
     "output_type": "stream",
     "text": [
      "线路A进出站数据： 10512 10627\n",
      "线路B进出站数据： 55899 56223\n",
      "线路C进出站数据： 30966 31516\n"
     ]
    }
   ],
   "execution_count": 30
  },
  {
   "cell_type": "markdown",
   "id": "977a50ad",
   "metadata": {},
   "source": "#### 绘制三条线路的进出站情况(柱状图)"
  },
  {
   "cell_type": "code",
   "id": "12016465",
   "metadata": {
    "ExecuteTime": {
     "end_time": "2024-09-12T15:19:44.110792Z",
     "start_time": "2024-09-12T15:19:44.049608Z"
    }
   },
   "source": [
    "# 画出三条线路的进出站情况图\n",
    "x = ['Line A', 'Line B', 'Line C']\n",
    "\n",
    "y_1 = [A_status_1, B_status_1, C_status_1]  # 进站数据\n",
    "y_2 = [A_status_0, B_status_0, C_status_0]  # 出站数据\n",
    "\n",
    "# 一个柱状图画完之后，往x轴左移\n",
    "bar_width = 0.2  # 设置柱状图大小不能超过0.3\n",
    "x_1 = list(range(len(x)))\n",
    "x_2 = [i + bar_width for i in x_1]\n",
    "\n",
    "# 设置图片大小\n",
    "fig = plt.figure(figsize=(10, 8), dpi=80)\n",
    "\n",
    "# 设置网格\n",
    "plt.grid(alpha=0.5)\n",
    "plt.title('2022年1月1日-1月20日期间三条地铁线进出站人数统计图')\n",
    "\n",
    "# 绘制三条地铁线进出站人数柱状图\n",
    "plt.bar(range(len(x)), y_1, width=bar_width, color='#FFC0CB', label=\"进站情况\")\n",
    "plt.bar(x_2, y_2, width=bar_width, color='#00FFFF', label=\"出站情况\")\n",
    "\n",
    "#给x、y轴起名字\n",
    "plt.xlabel(\"地铁线路\")\n",
    "plt.ylabel(\"数值分布\")\n",
    "\n",
    "# 设置图列\n",
    "plt.legend()\n",
    "\n",
    "# 调整x轴\n",
    "plt.xticks(range(len(x)), x)\n",
    "\n",
    "# 显示图片\n",
    "plt.show()"
   ],
   "outputs": [
    {
     "data": {
      "text/plain": [
       "<Figure size 800x640 with 1 Axes>"
      ],
      "image/png": "[encoded data removed]"
     },
     "metadata": {},
     "output_type": "display_data"
    }
   ],
   "execution_count": 31
  },
  {
   "cell_type": "markdown",
   "id": "ba00846b",
   "metadata": {},
   "source": [
    "<font size=5> **小结** </font>\n",
    "\n",
    "- 1、根据分析结果可知，线路A有 `14个` 地铁站点，线路B有 `34个` 地铁站点，线路C有 `32个` 地铁站点；\n",
    "- 2、根据图示结果，可以很清晰的发现，线路B的进出站压力相较于A和C较大，可以考虑在线路B上增设地铁站点。"
   ]
  },
  {
   "cell_type": "code",
   "id": "a168752d",
   "metadata": {
    "ExecuteTime": {
     "end_time": "2024-09-12T15:21:12.678028Z",
     "start_time": "2024-09-12T15:21:12.670747Z"
    }
   },
   "source": [
    "# 假设：越大的站点设备数越多。比如换乘站和人流密集站点会有多个出口\n",
    "# 查看各站点设备刷卡记录数\n",
    "# pd.set_option('display.max_rows', None)\n",
    "df.groupby('stationID')['deviceID'].nunique()"
   ],
   "outputs": [
    {
     "data": {
      "text/plain": [
       "stationID\n",
       "0     18\n",
       "1     13\n",
       "2     14\n",
       "3     14\n",
       "4     28\n",
       "5     43\n",
       "6     17\n",
       "7     26\n",
       "8     32\n",
       "9     31\n",
       "10    20\n",
       "11    21\n",
       "12    25\n",
       "13    14\n",
       "14    18\n",
       "15    67\n",
       "16    44\n",
       "17    13\n",
       "18    13\n",
       "19    14\n",
       "20    37\n",
       "21    14\n",
       "22    21\n",
       "23    14\n",
       "24    21\n",
       "25    28\n",
       "26    21\n",
       "27    20\n",
       "28    17\n",
       "29    21\n",
       "30    21\n",
       "31    15\n",
       "32    15\n",
       "33    20\n",
       "34    19\n",
       "35    14\n",
       "36    14\n",
       "37    15\n",
       "38    15\n",
       "39    19\n",
       "40    11\n",
       "41    19\n",
       "42    19\n",
       "43    26\n",
       "44    23\n",
       "45    27\n",
       "46    41\n",
       "47    22\n",
       "48    16\n",
       "49    25\n",
       "50    21\n",
       "51    26\n",
       "52    25\n",
       "53    19\n",
       "55    19\n",
       "56    19\n",
       "57    17\n",
       "58    22\n",
       "59    27\n",
       "60    19\n",
       "61    20\n",
       "62    21\n",
       "63    30\n",
       "64    14\n",
       "65    24\n",
       "66    19\n",
       "67    11\n",
       "68    16\n",
       "69    22\n",
       "70    15\n",
       "71    13\n",
       "72    14\n",
       "73    22\n",
       "74    14\n",
       "75    24\n",
       "76    26\n",
       "77    26\n",
       "78    17\n",
       "79    11\n",
       "80    14\n",
       "Name: deviceID, dtype: int64"
      ]
     },
     "execution_count": 33,
     "metadata": {},
     "output_type": "execute_result"
    }
   ],
   "execution_count": 33
  },
  {
   "cell_type": "markdown",
   "id": "b9a6aad5",
   "metadata": {},
   "source": [
    "<font size=5>  **小结** </font>\n",
    "\n",
    "<font size=4>分析前提：假设越大的站点设备数越多，如换乘站和人流密集站点会有多个出口</font>\n",
    "\n",
    "- 根据上述分析可得，最繁忙的15、9站点都在路线B上；站点15的设备数有`67`个，后期可以适当增加。"
   ]
  },
  {
   "cell_type": "markdown",
   "id": "9f6d8af4",
   "metadata": {},
   "source": [
    "### 3、用户、刷卡类型\n",
    "\n",
    "- 分析用户ID是否唯一\n",
    "- 分析同一刷卡类型下，用户分布情况\n",
    "- 用户当天乘坐地铁情况分析"
   ]
  },
  {
   "cell_type": "markdown",
   "id": "4de9259c",
   "metadata": {},
   "source": "### 分析不同刷卡类型用户分布情况"
  },
  {
   "cell_type": "code",
   "id": "2f66e745",
   "metadata": {
    "ExecuteTime": {
     "end_time": "2024-09-12T15:21:57.771118Z",
     "start_time": "2024-09-12T15:21:57.703259Z"
    }
   },
   "source": [
    "# 用户数\n",
    "print('用户数：', df.userID.nunique())\n",
    "\n",
    "# 刷卡类型\n",
    "print('刷卡类型统计：', df.payType.value_counts())\n",
    "\n",
    "# 刷卡类型用户分布\n",
    "print('刷卡类型用户分布：', df.groupby('payType')['userID'].nunique())"
   ],
   "outputs": [
    {
     "name": "stdout",
     "output_type": "stream",
     "text": [
      "用户数： 184146\n",
      "刷卡类型统计： payType\n",
      "1    91049\n",
      "2    58086\n",
      "0    25637\n",
      "3    20971\n",
      "Name: count, dtype: int64\n",
      "刷卡类型用户分布： payType\n",
      "0    23624\n",
      "1    86210\n",
      "2    54346\n",
      "3    19966\n",
      "Name: userID, dtype: int64\n"
     ]
    }
   ],
   "execution_count": 35
  },
  {
   "cell_type": "code",
   "id": "3119df5b",
   "metadata": {
    "ExecuteTime": {
     "end_time": "2024-09-12T15:24:00.477658Z",
     "start_time": "2024-09-12T15:24:00.398806Z"
    }
   },
   "source": [
    "# 绘制直方图\n",
    "fig = plt.figure()\n",
    "ax = fig.add_subplot(111)\n",
    "plt.grid()  # 设置网格模式\n",
    "ax.hist(df['hours'], bins=16, color='#00CED1', edgecolor='white')\n",
    "plt.title('每小时乘客流量')\n",
    "plt.xlabel('每小时')\n",
    "plt.ylabel('数值分布')\n",
    "# 设置坐标轴刻度\n",
    "x_list = [x for x in range(7, 23)]\n",
    "plt.xticks(x_list)\n",
    "plt.show()"
   ],
   "outputs": [
    {
     "data": {
      "text/plain": [
       "<Figure size 640x480 with 1 Axes>"
      ],
      "image/png": "[encoded data removed]"
     },
     "metadata": {},
     "output_type": "display_data"
    }
   ],
   "execution_count": 39
  },
  {
   "cell_type": "code",
   "id": "93814afe",
   "metadata": {
    "ExecuteTime": {
     "end_time": "2024-09-12T15:24:43.758364Z",
     "start_time": "2024-09-12T15:24:43.457616Z"
    }
   },
   "source": [
    "# 根据进出站状态对直方图进行调整\n",
    "g = sns.FacetGrid(df, col='status')\n",
    "g.map(plt.hist, 'hours', color='#3CB371', edgecolor='white', alpha=.75, bins=16)\n",
    "x_list = [x for x in range(7, 23, 2)]\n",
    "plt.xticks(x_list)\n",
    "plt.show()"
   ],
   "outputs": [
    {
     "data": {
      "text/plain": [
       "<Figure size 600x300 with 2 Axes>"
      ],
      "image/png": "[encoded data removed]"
     },
     "metadata": {},
     "output_type": "display_data"
    }
   ],
   "execution_count": 40
  },
  {
   "cell_type": "markdown",
   "id": "150b5f75",
   "metadata": {},
   "source": [
    "<font size=5>  **小结** </font>\n",
    "\n",
    "- 约有2000条用户ID重复，可能与payTpye = 3有关；\n",
    "- 根据上述分析可得，早上 `[8:00-9:00]` 以及 晚上 `[17:00-18:00]` 地铁站客流量最大。"
   ]
  },
  {
   "cell_type": "markdown",
   "id": "9956942a",
   "metadata": {},
   "source": [
    "### 4、 从时间角度进行分析\n",
    "\n",
    "- 按天分析，分别对节假日情况、周内情况、周末情况进行分析；\n",
    "- 按时间段分析，分析各个时段的进出站情况；\n",
    "- 按早晚高峰分析，假设早高峰是 `7:00-9:00`，晚高峰是 `17:00 - 20:00`。\n"
   ]
  },
  {
   "cell_type": "markdown",
   "id": "c09877ff",
   "metadata": {},
   "source": "#### 4.1 线路A各个地铁站点压力情况"
  },
  {
   "cell_type": "code",
   "id": "3f54bdb0",
   "metadata": {
    "ExecuteTime": {
     "end_time": "2024-09-12T15:27:34.410816Z",
     "start_time": "2024-09-12T15:27:34.395007Z"
    }
   },
   "source": [
    "df2 = df[(df['lineID'] == 'A')]\n",
    "df2.head()"
   ],
   "outputs": [
    {
     "data": {
      "text/plain": [
       "                  time lineID  stationID  deviceID  status  \\\n",
       "11 2022-01-01 15:24:45      A         75      3407       0   \n",
       "13 2022-01-01 21:53:26      A         67      3134       0   \n",
       "31 2022-01-01 13:23:24      A         67      3129       1   \n",
       "32 2022-01-01 13:13:13      A         74      3381       0   \n",
       "39 2022-01-01 12:34:53      A         71      3274       1   \n",
       "\n",
       "                               userID  payType       date1     date2  hours  \n",
       "11  B18afab4740da695f296e1c9cd509e0ea        1  2022-01-01  15:24:45     15  \n",
       "13  Bb06e2f019f1ceb6f5417bd0180c6f1f5        1  2022-01-01  21:53:26     21  \n",
       "31  C00c73dda8ab928d4d3ad05043acdbc10        2  2022-01-01  13:23:24     13  \n",
       "32  C223eff6d5caac0dd0f41ec9e8b1f8be4        2  2022-01-01  13:13:13     13  \n",
       "39  Bac588d271ececc273a789e83cf5254af        1  2022-01-01  12:34:53     12  "
      ],
      "text/html": [
       "<div>\n",
       "<style scoped>\n",
       "    .dataframe tbody tr th:only-of-type {\n",
       "        vertical-align: middle;\n",
       "    }\n",
       "\n",
       "    .dataframe tbody tr th {\n",
       "        vertical-align: top;\n",
       "    }\n",
       "\n",
       "    .dataframe thead th {\n",
       "        text-align: right;\n",
       "    }\n",
       "</style>\n",
       "<table border=\"1\" class=\"dataframe\">\n",
       "  <thead>\n",
       "    <tr style=\"text-align: right;\">\n",
       "      <th></th>\n",
       "      <th>time</th>\n",
       "      <th>lineID</th>\n",
       "      <th>stationID</th>\n",
       "      <th>deviceID</th>\n",
       "      <th>status</th>\n",
       "      <th>userID</th>\n",
       "      <th>payType</th>\n",
       "      <th>date1</th>\n",
       "      <th>date2</th>\n",
       "      <th>hours</th>\n",
       "    </tr>\n",
       "  </thead>\n",
       "  <tbody>\n",
       "    <tr>\n",
       "      <th>11</th>\n",
       "      <td>2022-01-01 15:24:45</td>\n",
       "      <td>A</td>\n",
       "      <td>75</td>\n",
       "      <td>3407</td>\n",
       "      <td>0</td>\n",
       "      <td>B18afab4740da695f296e1c9cd509e0ea</td>\n",
       "      <td>1</td>\n",
       "      <td>2022-01-01</td>\n",
       "      <td>15:24:45</td>\n",
       "      <td>15</td>\n",
       "    </tr>\n",
       "    <tr>\n",
       "      <th>13</th>\n",
       "      <td>2022-01-01 21:53:26</td>\n",
       "      <td>A</td>\n",
       "      <td>67</td>\n",
       "      <td>3134</td>\n",
       "      <td>0</td>\n",
       "      <td>Bb06e2f019f1ceb6f5417bd0180c6f1f5</td>\n",
       "      <td>1</td>\n",
       "      <td>2022-01-01</td>\n",
       "      <td>21:53:26</td>\n",
       "      <td>21</td>\n",
       "    </tr>\n",
       "    <tr>\n",
       "      <th>31</th>\n",
       "      <td>2022-01-01 13:23:24</td>\n",
       "      <td>A</td>\n",
       "      <td>67</td>\n",
       "      <td>3129</td>\n",
       "      <td>1</td>\n",
       "      <td>C00c73dda8ab928d4d3ad05043acdbc10</td>\n",
       "      <td>2</td>\n",
       "      <td>2022-01-01</td>\n",
       "      <td>13:23:24</td>\n",
       "      <td>13</td>\n",
       "    </tr>\n",
       "    <tr>\n",
       "      <th>32</th>\n",
       "      <td>2022-01-01 13:13:13</td>\n",
       "      <td>A</td>\n",
       "      <td>74</td>\n",
       "      <td>3381</td>\n",
       "      <td>0</td>\n",
       "      <td>C223eff6d5caac0dd0f41ec9e8b1f8be4</td>\n",
       "      <td>2</td>\n",
       "      <td>2022-01-01</td>\n",
       "      <td>13:13:13</td>\n",
       "      <td>13</td>\n",
       "    </tr>\n",
       "    <tr>\n",
       "      <th>39</th>\n",
       "      <td>2022-01-01 12:34:53</td>\n",
       "      <td>A</td>\n",
       "      <td>71</td>\n",
       "      <td>3274</td>\n",
       "      <td>1</td>\n",
       "      <td>Bac588d271ececc273a789e83cf5254af</td>\n",
       "      <td>1</td>\n",
       "      <td>2022-01-01</td>\n",
       "      <td>12:34:53</td>\n",
       "      <td>12</td>\n",
       "    </tr>\n",
       "  </tbody>\n",
       "</table>\n",
       "</div>"
      ]
     },
     "execution_count": 41,
     "metadata": {},
     "output_type": "execute_result"
    }
   ],
   "execution_count": 41
  },
  {
   "cell_type": "code",
   "id": "eafed2b8",
   "metadata": {
    "ExecuteTime": {
     "end_time": "2024-09-12T15:27:38.964970Z",
     "start_time": "2024-09-12T15:27:38.956260Z"
    }
   },
   "source": [
    "# 对 stationID 进行升序排列\n",
    "df2 = df2.sort_values(by='stationID', ascending=True)\n",
    "df2.head(10)"
   ],
   "outputs": [
    {
     "data": {
      "text/plain": [
       "                      time lineID  stationID  deviceID  status  \\\n",
       "139556 2022-01-14 17:39:07      A         67      3134       0   \n",
       "192207 2022-01-20 19:23:16      A         67      3124       0   \n",
       "106515 2022-01-11 11:46:36      A         67      3126       1   \n",
       "9523   2022-01-01 18:00:15      A         67      3126       1   \n",
       "23081  2022-01-03 11:26:59      A         67      3134       0   \n",
       "185712 2022-01-19 17:06:51      A         67      3135       0   \n",
       "89452  2022-01-09 20:30:58      A         67      3136       0   \n",
       "167921 2022-01-17 08:37:33      A         67      3125       1   \n",
       "61699  2022-01-07 18:44:56      A         67      3123       0   \n",
       "9452   2022-01-01 22:21:03      A         67      3136       0   \n",
       "\n",
       "                                   userID  payType       date1     date2  \\\n",
       "139556  B07a07235fc42e0ef06f71a934789f5fa        1  2022-01-14  17:39:07   \n",
       "192207  D77d12562e0a0fc94ff1a416286c1a2ff        3  2022-01-20  19:23:16   \n",
       "106515  B803c89c9efaf607f3bdce860f3ee1af8        1  2022-01-11  11:46:36   \n",
       "9523    Cad5b7f0be9c8c2f39460133061f372ba        2  2022-01-01  18:00:15   \n",
       "23081   Cb1b86ee716bec8e6d8fecec074b6e01e        2  2022-01-03  11:26:59   \n",
       "185712  Bf196c23a5116c4491069c6ac4c5c14a8        1  2022-01-19  17:06:51   \n",
       "89452   C01ed707cc88386562c95730893a054d3        2  2022-01-09  20:30:58   \n",
       "167921  D074d90661efb73a482344d7df0b8ea13        3  2022-01-17  08:37:33   \n",
       "61699   B88849553bdf18e069c7da8c36f3188df        1  2022-01-07  18:44:56   \n",
       "9452    B6102272a00963316434e905521b92e8d        1  2022-01-01  22:21:03   \n",
       "\n",
       "        hours  \n",
       "139556     17  \n",
       "192207     19  \n",
       "106515     11  \n",
       "9523       18  \n",
       "23081      11  \n",
       "185712     17  \n",
       "89452      20  \n",
       "167921      8  \n",
       "61699      18  \n",
       "9452       22  "
      ],
      "text/html": [
       "<div>\n",
       "<style scoped>\n",
       "    .dataframe tbody tr th:only-of-type {\n",
       "        vertical-align: middle;\n",
       "    }\n",
       "\n",
       "    .dataframe tbody tr th {\n",
       "        vertical-align: top;\n",
       "    }\n",
       "\n",
       "    .dataframe thead th {\n",
       "        text-align: right;\n",
       "    }\n",
       "</style>\n",
       "<table border=\"1\" class=\"dataframe\">\n",
       "  <thead>\n",
       "    <tr style=\"text-align: right;\">\n",
       "      <th></th>\n",
       "      <th>time</th>\n",
       "      <th>lineID</th>\n",
       "      <th>stationID</th>\n",
       "      <th>deviceID</th>\n",
       "      <th>status</th>\n",
       "      <th>userID</th>\n",
       "      <th>payType</th>\n",
       "      <th>date1</th>\n",
       "      <th>date2</th>\n",
       "      <th>hours</th>\n",
       "    </tr>\n",
       "  </thead>\n",
       "  <tbody>\n",
       "    <tr>\n",
       "      <th>139556</th>\n",
       "      <td>2022-01-14 17:39:07</td>\n",
       "      <td>A</td>\n",
       "      <td>67</td>\n",
       "      <td>3134</td>\n",
       "      <td>0</td>\n",
       "      <td>B07a07235fc42e0ef06f71a934789f5fa</td>\n",
       "      <td>1</td>\n",
       "      <td>2022-01-14</td>\n",
       "      <td>17:39:07</td>\n",
       "      <td>17</td>\n",
       "    </tr>\n",
       "    <tr>\n",
       "      <th>192207</th>\n",
       "      <td>2022-01-20 19:23:16</td>\n",
       "      <td>A</td>\n",
       "      <td>67</td>\n",
       "      <td>3124</td>\n",
       "      <td>0</td>\n",
       "      <td>D77d12562e0a0fc94ff1a416286c1a2ff</td>\n",
       "      <td>3</td>\n",
       "      <td>2022-01-20</td>\n",
       "      <td>19:23:16</td>\n",
       "      <td>19</td>\n",
       "    </tr>\n",
       "    <tr>\n",
       "      <th>106515</th>\n",
       "      <td>2022-01-11 11:46:36</td>\n",
       "      <td>A</td>\n",
       "      <td>67</td>\n",
       "      <td>3126</td>\n",
       "      <td>1</td>\n",
       "      <td>B803c89c9efaf607f3bdce860f3ee1af8</td>\n",
       "      <td>1</td>\n",
       "      <td>2022-01-11</td>\n",
       "      <td>11:46:36</td>\n",
       "      <td>11</td>\n",
       "    </tr>\n",
       "    <tr>\n",
       "      <th>9523</th>\n",
       "      <td>2022-01-01 18:00:15</td>\n",
       "      <td>A</td>\n",
       "      <td>67</td>\n",
       "      <td>3126</td>\n",
       "      <td>1</td>\n",
       "      <td>Cad5b7f0be9c8c2f39460133061f372ba</td>\n",
       "      <td>2</td>\n",
       "      <td>2022-01-01</td>\n",
       "      <td>18:00:15</td>\n",
       "      <td>18</td>\n",
       "    </tr>\n",
       "    <tr>\n",
       "      <th>23081</th>\n",
       "      <td>2022-01-03 11:26:59</td>\n",
       "      <td>A</td>\n",
       "      <td>67</td>\n",
       "      <td>3134</td>\n",
       "      <td>0</td>\n",
       "      <td>Cb1b86ee716bec8e6d8fecec074b6e01e</td>\n",
       "      <td>2</td>\n",
       "      <td>2022-01-03</td>\n",
       "      <td>11:26:59</td>\n",
       "      <td>11</td>\n",
       "    </tr>\n",
       "    <tr>\n",
       "      <th>185712</th>\n",
       "      <td>2022-01-19 17:06:51</td>\n",
       "      <td>A</td>\n",
       "      <td>67</td>\n",
       "      <td>3135</td>\n",
       "      <td>0</td>\n",
       "      <td>Bf196c23a5116c4491069c6ac4c5c14a8</td>\n",
       "      <td>1</td>\n",
       "      <td>2022-01-19</td>\n",
       "      <td>17:06:51</td>\n",
       "      <td>17</td>\n",
       "    </tr>\n",
       "    <tr>\n",
       "      <th>89452</th>\n",
       "      <td>2022-01-09 20:30:58</td>\n",
       "      <td>A</td>\n",
       "      <td>67</td>\n",
       "      <td>3136</td>\n",
       "      <td>0</td>\n",
       "      <td>C01ed707cc88386562c95730893a054d3</td>\n",
       "      <td>2</td>\n",
       "      <td>2022-01-09</td>\n",
       "      <td>20:30:58</td>\n",
       "      <td>20</td>\n",
       "    </tr>\n",
       "    <tr>\n",
       "      <th>167921</th>\n",
       "      <td>2022-01-17 08:37:33</td>\n",
       "      <td>A</td>\n",
       "      <td>67</td>\n",
       "      <td>3125</td>\n",
       "      <td>1</td>\n",
       "      <td>D074d90661efb73a482344d7df0b8ea13</td>\n",
       "      <td>3</td>\n",
       "      <td>2022-01-17</td>\n",
       "      <td>08:37:33</td>\n",
       "      <td>8</td>\n",
       "    </tr>\n",
       "    <tr>\n",
       "      <th>61699</th>\n",
       "      <td>2022-01-07 18:44:56</td>\n",
       "      <td>A</td>\n",
       "      <td>67</td>\n",
       "      <td>3123</td>\n",
       "      <td>0</td>\n",
       "      <td>B88849553bdf18e069c7da8c36f3188df</td>\n",
       "      <td>1</td>\n",
       "      <td>2022-01-07</td>\n",
       "      <td>18:44:56</td>\n",
       "      <td>18</td>\n",
       "    </tr>\n",
       "    <tr>\n",
       "      <th>9452</th>\n",
       "      <td>2022-01-01 22:21:03</td>\n",
       "      <td>A</td>\n",
       "      <td>67</td>\n",
       "      <td>3136</td>\n",
       "      <td>0</td>\n",
       "      <td>B6102272a00963316434e905521b92e8d</td>\n",
       "      <td>1</td>\n",
       "      <td>2022-01-01</td>\n",
       "      <td>22:21:03</td>\n",
       "      <td>22</td>\n",
       "    </tr>\n",
       "  </tbody>\n",
       "</table>\n",
       "</div>"
      ]
     },
     "execution_count": 42,
     "metadata": {},
     "output_type": "execute_result"
    }
   ],
   "execution_count": 42
  },
  {
   "cell_type": "code",
   "id": "2770d144",
   "metadata": {
    "ExecuteTime": {
     "end_time": "2024-09-12T15:30:58.010999Z",
     "start_time": "2024-09-12T15:30:58.007097Z"
    }
   },
   "source": [
    "# 查看 stationID 中的站点刷卡情况\n",
    "arr = df2['stationID'].value_counts().sort_index()\n",
    "print(arr)"
   ],
   "outputs": [
    {
     "name": "stdout",
     "output_type": "stream",
     "text": [
      "stationID\n",
      "67    1070\n",
      "68    1038\n",
      "69    1683\n",
      "70    1606\n",
      "71    1108\n",
      "72     643\n",
      "73    1734\n",
      "74     523\n",
      "75    2079\n",
      "76    2611\n",
      "77    2337\n",
      "78    2914\n",
      "79    1009\n",
      "80     784\n",
      "Name: count, dtype: int64\n"
     ]
    }
   ],
   "execution_count": 44
  },
  {
   "cell_type": "code",
   "id": "48dca9a7",
   "metadata": {
    "ExecuteTime": {
     "end_time": "2024-09-12T15:31:34.661412Z",
     "start_time": "2024-09-12T15:31:34.653633Z"
    }
   },
   "source": [
    "# 根据 arr.index 得出 stationID 中的站点情况，进行数值统计并可视化分析\n",
    "\n",
    "def num_station_id(num):\n",
    "    return df2[df2['stationID'] == num]\n",
    "\n",
    "\n",
    "# 调用函数求值\n",
    "x_67 = num_station_id(67.0)\n",
    "x_68 = num_station_id(68.0)\n",
    "x_69 = num_station_id(69.0)\n",
    "x_70 = num_station_id(70.0)\n",
    "x_71 = num_station_id(71.0)\n",
    "x_72 = num_station_id(72.0)\n",
    "x_73 = num_station_id(73.0)\n",
    "x_74 = num_station_id(74.0)\n",
    "x_75 = num_station_id(75.0)\n",
    "x_76 = num_station_id(76.0)\n",
    "x_77 = num_station_id(77.0)\n",
    "x_78 = num_station_id(78.0)\n",
    "x_79 = num_station_id(79.0)\n",
    "x_80 = num_station_id(80.0)\n",
    "\n",
    "# 将 每个站点的数值情况填入数组 arr2\n",
    "arr2 = [x_67.shape[0], x_68.shape[0], x_69.shape[0], x_70.shape[0],\n",
    "        x_71.shape[0], x_72.shape[0], x_73.shape[0], x_74.shape[0],\n",
    "        x_75.shape[0], x_76.shape[0], x_77.shape[0], x_78.shape[0],\n",
    "        x_79.shape[0], x_80.shape[0]]\n",
    "arr2"
   ],
   "outputs": [
    {
     "data": {
      "text/plain": [
       "[1070,\n",
       " 1038,\n",
       " 1683,\n",
       " 1606,\n",
       " 1108,\n",
       " 643,\n",
       " 1734,\n",
       " 523,\n",
       " 2079,\n",
       " 2611,\n",
       " 2337,\n",
       " 2914,\n",
       " 1009,\n",
       " 784]"
      ]
     },
     "execution_count": 45,
     "metadata": {},
     "output_type": "execute_result"
    }
   ],
   "execution_count": 45
  },
  {
   "cell_type": "markdown",
   "id": "70d837b1",
   "metadata": {},
   "source": "#### 对A线路各站点人流量（刷卡记录）进行分析，并绘制饼图"
  },
  {
   "cell_type": "code",
   "id": "9aa8f1e4",
   "metadata": {
    "ExecuteTime": {
     "end_time": "2024-09-12T15:32:15.919002Z",
     "start_time": "2024-09-12T15:32:15.824494Z"
    }
   },
   "source": [
    "# 根据 arr2中的数值，画出 2022年1月1日至1月20日A线路各个地铁站人流量占比分布图\n",
    "import matplotlib.pyplot as plt\n",
    "\n",
    "# 定义数据\n",
    "labels = ['S_67', 'S_68', 'S_69', 'S_70', 'S_71', 'S_72', 'S_73',\n",
    "          'S_74', 'S_75', 'S_76', 'S_77', 'S_78', 'S_79', 'S_80']\n",
    "sizes = arr2\n",
    "colors = ['#FFC0CB', '#DC143C', '#C71585', '#EE82EE', '#800080', '#4B0082', '#4169E1',\n",
    "          '#AFEEEE', '#00FA9A', '#2E8B57', '#EEE8AA', '#FF8C00', '#FF4500', '#B22222']\n",
    "\n",
    "inner_radius = 0.5\n",
    "\n",
    "fig, ax = plt.subplots(figsize=(6, 6))\n",
    "ax.set_title('2022年1月1日至1月20日A线路各个地铁站人流量占比分布图')\n",
    "\n",
    "# 绘制饼图\n",
    "wedges, texts, autotexts = ax.pie(sizes, \n",
    "                                  labels=labels,\n",
    "                                  colors=colors, \n",
    "                                  autopct='%1.1f%%', \n",
    "                                  startangle=90,\n",
    "                                  pctdistance=0.85, \n",
    "                                  wedgeprops=dict(width=0.5, edgecolor='w'))\n",
    "ax.legend(wedges, labels, loc='best', bbox_to_anchor=(1, 1))\n",
    "for text, autotext in zip(texts, autotexts):\n",
    "    text.set_color('grey')\n",
    "    autotext.set_color('white')\n",
    "    autotext.set_fontsize(12)\n",
    "\n",
    "# 设置内圆半径\n",
    "centre_circle = plt.Circle((0, 0), inner_radius, color='white', fc='white', linewidth=1.25)\n",
    "fig.gca().add_artist(centre_circle)\n",
    "\n",
    "# 显示图形\n",
    "plt.show()"
   ],
   "outputs": [
    {
     "data": {
      "text/plain": [
       "<Figure size 600x600 with 1 Axes>"
      ],
      "image/png": "[encoded data removed]"
     },
     "metadata": {},
     "output_type": "display_data"
    }
   ],
   "execution_count": 47
  },
  {
   "cell_type": "markdown",
   "id": "f9bb4292",
   "metadata": {},
   "source": [
    "### 4.2 元旦期间乘客流量情况分析\n",
    "\n",
    "<font size=3> **分析前提：假设节假日会比平时人流量大。**</font>\n",
    "- 将`1月1日` 与 `1月2日` 两天的数据进行组合，建立新表；\n",
    "- 分析各个线路、地铁站、之间的情况；\n",
    "- 分别与周内、周末进行对比。"
   ]
  },
  {
   "cell_type": "markdown",
   "id": "f9d2e126",
   "metadata": {},
   "source": "#### 根据 `date1列` 筛选出 `2022-01-01` 和 `2022-01-02`两天的数据，给到表`df3`"
  },
  {
   "cell_type": "code",
   "id": "06d5a16f",
   "metadata": {
    "ExecuteTime": {
     "end_time": "2024-09-12T15:33:18.171742Z",
     "start_time": "2024-09-12T15:33:18.150709Z"
    }
   },
   "source": [
    "# 使用逻辑运算进行数据筛选\n",
    "df3 = df[(df['date1'] == '2022-01-01') | (df['date1'] == '2022-01-02')]\n",
    "print(df3.shape)\n",
    "df3.head()"
   ],
   "outputs": [
    {
     "name": "stdout",
     "output_type": "stream",
     "text": [
      "(19549, 10)\n"
     ]
    },
    {
     "data": {
      "text/plain": [
       "                 time lineID  stationID  deviceID  status  \\\n",
       "0 2022-01-01 14:34:23      B         19      1006       1   \n",
       "1 2022-01-01 18:35:52      C         47      2271       1   \n",
       "2 2022-01-01 19:35:45      B         17       952       1   \n",
       "3 2022-01-01 21:00:03      B         27      1351       1   \n",
       "4 2022-01-01 15:47:29      B          0         0       0   \n",
       "\n",
       "                              userID  payType       date1     date2  hours  \n",
       "0  Cff263245447d6ad1fbc2c6166582234e        2  2022-01-01  14:34:23     14  \n",
       "1  A27aff32d8340333a616d62e12434ccbe        0  2022-01-01  18:35:52     18  \n",
       "2  Bedb7c79d26ae95c2a9f14b51b3797ed8        1  2022-01-01  19:35:45     19  \n",
       "3  Cb32ccd5e11669b4c7c5e59fc3ffe7dba        2  2022-01-01  21:00:03     21  \n",
       "4  D964f8837a1a6326d0fe6bb36457874de        3  2022-01-01  15:47:29     15  "
      ],
      "text/html": [
       "<div>\n",
       "<style scoped>\n",
       "    .dataframe tbody tr th:only-of-type {\n",
       "        vertical-align: middle;\n",
       "    }\n",
       "\n",
       "    .dataframe tbody tr th {\n",
       "        vertical-align: top;\n",
       "    }\n",
       "\n",
       "    .dataframe thead th {\n",
       "        text-align: right;\n",
       "    }\n",
       "</style>\n",
       "<table border=\"1\" class=\"dataframe\">\n",
       "  <thead>\n",
       "    <tr style=\"text-align: right;\">\n",
       "      <th></th>\n",
       "      <th>time</th>\n",
       "      <th>lineID</th>\n",
       "      <th>stationID</th>\n",
       "      <th>deviceID</th>\n",
       "      <th>status</th>\n",
       "      <th>userID</th>\n",
       "      <th>payType</th>\n",
       "      <th>date1</th>\n",
       "      <th>date2</th>\n",
       "      <th>hours</th>\n",
       "    </tr>\n",
       "  </thead>\n",
       "  <tbody>\n",
       "    <tr>\n",
       "      <th>0</th>\n",
       "      <td>2022-01-01 14:34:23</td>\n",
       "      <td>B</td>\n",
       "      <td>19</td>\n",
       "      <td>1006</td>\n",
       "      <td>1</td>\n",
       "      <td>Cff263245447d6ad1fbc2c6166582234e</td>\n",
       "      <td>2</td>\n",
       "      <td>2022-01-01</td>\n",
       "      <td>14:34:23</td>\n",
       "      <td>14</td>\n",
       "    </tr>\n",
       "    <tr>\n",
       "      <th>1</th>\n",
       "      <td>2022-01-01 18:35:52</td>\n",
       "      <td>C</td>\n",
       "      <td>47</td>\n",
       "      <td>2271</td>\n",
       "      <td>1</td>\n",
       "      <td>A27aff32d8340333a616d62e12434ccbe</td>\n",
       "      <td>0</td>\n",
       "      <td>2022-01-01</td>\n",
       "      <td>18:35:52</td>\n",
       "      <td>18</td>\n",
       "    </tr>\n",
       "    <tr>\n",
       "      <th>2</th>\n",
       "      <td>2022-01-01 19:35:45</td>\n",
       "      <td>B</td>\n",
       "      <td>17</td>\n",
       "      <td>952</td>\n",
       "      <td>1</td>\n",
       "      <td>Bedb7c79d26ae95c2a9f14b51b3797ed8</td>\n",
       "      <td>1</td>\n",
       "      <td>2022-01-01</td>\n",
       "      <td>19:35:45</td>\n",
       "      <td>19</td>\n",
       "    </tr>\n",
       "    <tr>\n",
       "      <th>3</th>\n",
       "      <td>2022-01-01 21:00:03</td>\n",
       "      <td>B</td>\n",
       "      <td>27</td>\n",
       "      <td>1351</td>\n",
       "      <td>1</td>\n",
       "      <td>Cb32ccd5e11669b4c7c5e59fc3ffe7dba</td>\n",
       "      <td>2</td>\n",
       "      <td>2022-01-01</td>\n",
       "      <td>21:00:03</td>\n",
       "      <td>21</td>\n",
       "    </tr>\n",
       "    <tr>\n",
       "      <th>4</th>\n",
       "      <td>2022-01-01 15:47:29</td>\n",
       "      <td>B</td>\n",
       "      <td>0</td>\n",
       "      <td>0</td>\n",
       "      <td>0</td>\n",
       "      <td>D964f8837a1a6326d0fe6bb36457874de</td>\n",
       "      <td>3</td>\n",
       "      <td>2022-01-01</td>\n",
       "      <td>15:47:29</td>\n",
       "      <td>15</td>\n",
       "    </tr>\n",
       "  </tbody>\n",
       "</table>\n",
       "</div>"
      ]
     },
     "execution_count": 48,
     "metadata": {},
     "output_type": "execute_result"
    }
   ],
   "execution_count": 48
  },
  {
   "cell_type": "markdown",
   "id": "09b2ee27",
   "metadata": {},
   "source": "#### 为了定量分析，对`表df3`按行随机抽取`19512条数据`，重新赋值给表df3"
  },
  {
   "cell_type": "code",
   "id": "86fe78d0",
   "metadata": {
    "ExecuteTime": {
     "end_time": "2024-09-12T15:34:06.175622Z",
     "start_time": "2024-09-12T15:34:06.169792Z"
    }
   },
   "source": [
    "# 对表df3按行随机抽取19512条数据（行数据），重新赋值给表df3\n",
    "# DataFrame.sample(n=None, frac=None, replace=False, weights=None, random_state=None, axis=None)[source]\n",
    "df3 = df3.sample(n=19512, axis=0)\n",
    "df3.head()"
   ],
   "outputs": [
    {
     "data": {
      "text/plain": [
       "                     time lineID  stationID  deviceID  status  \\\n",
       "13969 2022-01-02 22:12:23      C         62      2909       0   \n",
       "3875  2022-01-01 10:37:42      C         38      1789       0   \n",
       "19255 2022-01-02 13:34:20      B          5       235       0   \n",
       "15162 2022-01-02 18:12:33      C         44      2038       0   \n",
       "7964  2022-01-01 18:55:29      B         18       984       0   \n",
       "\n",
       "                                  userID  payType       date1     date2  hours  \n",
       "13969  B2d6fb1049032cd1b3a2c318c4e2d1ffc        1  2022-01-02  22:12:23     22  \n",
       "3875   B2e1173159cd13ee428beb6f7ed4ff1f0        1  2022-01-01  10:37:42     10  \n",
       "19255  B8ad7e20563487803c9dda9d050de7903        1  2022-01-02  13:34:20     13  \n",
       "15162  B3c29a08569bcce96cfcc6fac028fc521        1  2022-01-02  18:12:33     18  \n",
       "7964   Bdde39510b017ac83aa4098ec0aa2ba02        1  2022-01-01  18:55:29     18  "
      ],
      "text/html": [
       "<div>\n",
       "<style scoped>\n",
       "    .dataframe tbody tr th:only-of-type {\n",
       "        vertical-align: middle;\n",
       "    }\n",
       "\n",
       "    .dataframe tbody tr th {\n",
       "        vertical-align: top;\n",
       "    }\n",
       "\n",
       "    .dataframe thead th {\n",
       "        text-align: right;\n",
       "    }\n",
       "</style>\n",
       "<table border=\"1\" class=\"dataframe\">\n",
       "  <thead>\n",
       "    <tr style=\"text-align: right;\">\n",
       "      <th></th>\n",
       "      <th>time</th>\n",
       "      <th>lineID</th>\n",
       "      <th>stationID</th>\n",
       "      <th>deviceID</th>\n",
       "      <th>status</th>\n",
       "      <th>userID</th>\n",
       "      <th>payType</th>\n",
       "      <th>date1</th>\n",
       "      <th>date2</th>\n",
       "      <th>hours</th>\n",
       "    </tr>\n",
       "  </thead>\n",
       "  <tbody>\n",
       "    <tr>\n",
       "      <th>13969</th>\n",
       "      <td>2022-01-02 22:12:23</td>\n",
       "      <td>C</td>\n",
       "      <td>62</td>\n",
       "      <td>2909</td>\n",
       "      <td>0</td>\n",
       "      <td>B2d6fb1049032cd1b3a2c318c4e2d1ffc</td>\n",
       "      <td>1</td>\n",
       "      <td>2022-01-02</td>\n",
       "      <td>22:12:23</td>\n",
       "      <td>22</td>\n",
       "    </tr>\n",
       "    <tr>\n",
       "      <th>3875</th>\n",
       "      <td>2022-01-01 10:37:42</td>\n",
       "      <td>C</td>\n",
       "      <td>38</td>\n",
       "      <td>1789</td>\n",
       "      <td>0</td>\n",
       "      <td>B2e1173159cd13ee428beb6f7ed4ff1f0</td>\n",
       "      <td>1</td>\n",
       "      <td>2022-01-01</td>\n",
       "      <td>10:37:42</td>\n",
       "      <td>10</td>\n",
       "    </tr>\n",
       "    <tr>\n",
       "      <th>19255</th>\n",
       "      <td>2022-01-02 13:34:20</td>\n",
       "      <td>B</td>\n",
       "      <td>5</td>\n",
       "      <td>235</td>\n",
       "      <td>0</td>\n",
       "      <td>B8ad7e20563487803c9dda9d050de7903</td>\n",
       "      <td>1</td>\n",
       "      <td>2022-01-02</td>\n",
       "      <td>13:34:20</td>\n",
       "      <td>13</td>\n",
       "    </tr>\n",
       "    <tr>\n",
       "      <th>15162</th>\n",
       "      <td>2022-01-02 18:12:33</td>\n",
       "      <td>C</td>\n",
       "      <td>44</td>\n",
       "      <td>2038</td>\n",
       "      <td>0</td>\n",
       "      <td>B3c29a08569bcce96cfcc6fac028fc521</td>\n",
       "      <td>1</td>\n",
       "      <td>2022-01-02</td>\n",
       "      <td>18:12:33</td>\n",
       "      <td>18</td>\n",
       "    </tr>\n",
       "    <tr>\n",
       "      <th>7964</th>\n",
       "      <td>2022-01-01 18:55:29</td>\n",
       "      <td>B</td>\n",
       "      <td>18</td>\n",
       "      <td>984</td>\n",
       "      <td>0</td>\n",
       "      <td>Bdde39510b017ac83aa4098ec0aa2ba02</td>\n",
       "      <td>1</td>\n",
       "      <td>2022-01-01</td>\n",
       "      <td>18:55:29</td>\n",
       "      <td>18</td>\n",
       "    </tr>\n",
       "  </tbody>\n",
       "</table>\n",
       "</div>"
      ]
     },
     "execution_count": 50,
     "metadata": {},
     "output_type": "execute_result"
    }
   ],
   "execution_count": 50
  },
  {
   "cell_type": "code",
   "id": "9f44ac82",
   "metadata": {
    "ExecuteTime": {
     "end_time": "2024-09-12T15:34:35.026480Z",
     "start_time": "2024-09-12T15:34:35.020653Z"
    }
   },
   "source": [
    "# 计算三条线路的进出站情况\n",
    "\n",
    "# 线路A\n",
    "df3_A_0 = df3[(df3['lineID'] == 'A') & (df3['status'] == 0)]\n",
    "df3_A_1 = df3[(df3['lineID'] == 'A') & (df3['status'] == 1)]\n",
    "\n",
    "# 线路B\n",
    "df3_B_0 = df3[(df3['lineID'] == 'B') & (df3['status'] == 0)]\n",
    "df3_B_1 = df3[(df3['lineID'] == 'B') & (df3['status'] == 1)]\n",
    "\n",
    "# 线路C\n",
    "df3_C_0 = df3[(df3['lineID'] == 'C') & (df3['status'] == 0)]\n",
    "df3_C_1 = df3[(df3['lineID'] == 'C') & (df3['status'] == 1)]\n",
    "\n",
    "# 数值打印检测\n",
    "# print(df3_A_1.shape[0], df3_A_0.shape[0])\n",
    "# print(df3_B_1.shape[0], df3_B_0.shape[0])\n",
    "# print(df3_C_1.shape[0], df3_C_0.shape[0])"
   ],
   "outputs": [],
   "execution_count": 51
  },
  {
   "cell_type": "markdown",
   "id": "1f13a7db",
   "metadata": {},
   "source": [
    "<font size=4 color=#0000dd>绘制饼图+圆环的组合图，要求饼图1半径为1.2，饼图2半径为1</font>\n"
   ]
  },
  {
   "cell_type": "code",
   "id": "fc33113c",
   "metadata": {
    "ExecuteTime": {
     "end_time": "2024-09-12T15:34:41.585215Z",
     "start_time": "2024-09-12T15:34:41.543752Z"
    }
   },
   "source": [
    "# 绘制元旦期间三条地铁线路的进出站百分比图\n",
    "\n",
    "# 数据\n",
    "labels = ['Line A', 'Line B', 'Line C']\n",
    "sizes1 = [df3_A_0.shape[0], df3_B_0.shape[0], df3_C_0.shape[0]]\n",
    "sizes2 = [df3_A_1.shape[0], df3_B_1.shape[0], df3_C_1.shape[0]]\n",
    "\n",
    "# 绘制饼图1\n",
    "plt.pie(sizes1, radius=1.2, colors=['#c2c2f0', '#ffb3e6', '#c2f0c2'], startangle=90)\n",
    "\n",
    "# 绘制饼图2\n",
    "plt.pie(sizes2, labels=labels, autopct='%1.1f%%', startangle=90, radius=1, colors=['#ff9999', '#66b3ff', '#99ff99'])\n",
    "\n",
    "# 添加标题\n",
    "plt.title('元旦期间三条地铁线路的进出站情况')\n",
    "\n",
    "# 显示图形\n",
    "plt.show()\n"
   ],
   "outputs": [
    {
     "data": {
      "text/plain": [
       "<Figure size 640x480 with 1 Axes>"
      ],
      "image/png": "[encoded data removed]"
     },
     "metadata": {},
     "output_type": "display_data"
    }
   ],
   "execution_count": 52
  },
  {
   "cell_type": "code",
   "id": "a8abde7c",
   "metadata": {
    "ExecuteTime": {
     "end_time": "2024-09-12T15:35:00.064597Z",
     "start_time": "2024-09-12T15:35:00.042264Z"
    }
   },
   "source": [
    "# 选取周内两天作为对比：这里以 1月3日(周一) 和 1月5日（周三）为例，对三条线路情况进行分析\n",
    "\n",
    "df4 = df[(df['date1'] == '2022-01-03') | (df['date1'] == '2022-01-05')]\n",
    "df4 = df4.sample(n=19512, axis=0)\n",
    "df4.shape"
   ],
   "outputs": [
    {
     "data": {
      "text/plain": [
       "(19512, 10)"
      ]
     },
     "execution_count": 53,
     "metadata": {},
     "output_type": "execute_result"
    }
   ],
   "execution_count": 53
  },
  {
   "cell_type": "code",
   "id": "47b191f6",
   "metadata": {
    "ExecuteTime": {
     "end_time": "2024-09-12T15:35:04.031584Z",
     "start_time": "2024-09-12T15:35:04.009992Z"
    }
   },
   "source": [
    "df4.sample(n=10).head()"
   ],
   "outputs": [
    {
     "data": {
      "text/plain": [
       "                     time lineID  stationID  deviceID  status  \\\n",
       "29770 2022-01-03 10:15:35      B         15       804       1   \n",
       "20371 2022-01-03 07:46:18      B         10       542       0   \n",
       "22729 2022-01-03 07:34:53      B         26      1320       1   \n",
       "22895 2022-01-03 19:06:56      C         43      1987       0   \n",
       "41044 2022-01-05 19:49:00      C         49      2359       1   \n",
       "\n",
       "                                  userID  payType       date1     date2  hours  \n",
       "29770  B70456b25cbab1b80e3920543ad1ccc33        1  2022-01-03  10:15:35     10  \n",
       "20371  A66418697fe600c5e608a4f114c39641a        0  2022-01-03  07:46:18      7  \n",
       "22729  B71f177de72bf12132465074303a5c220        1  2022-01-03  07:34:53      7  \n",
       "22895  A31372c24f04b0488e2c1f2ef96582af5        0  2022-01-03  19:06:56     19  \n",
       "41044  B5cf3185a5ee9b35d1932536f7ca9956a        1  2022-01-05  19:49:00     19  "
      ],
      "text/html": [
       "<div>\n",
       "<style scoped>\n",
       "    .dataframe tbody tr th:only-of-type {\n",
       "        vertical-align: middle;\n",
       "    }\n",
       "\n",
       "    .dataframe tbody tr th {\n",
       "        vertical-align: top;\n",
       "    }\n",
       "\n",
       "    .dataframe thead th {\n",
       "        text-align: right;\n",
       "    }\n",
       "</style>\n",
       "<table border=\"1\" class=\"dataframe\">\n",
       "  <thead>\n",
       "    <tr style=\"text-align: right;\">\n",
       "      <th></th>\n",
       "      <th>time</th>\n",
       "      <th>lineID</th>\n",
       "      <th>stationID</th>\n",
       "      <th>deviceID</th>\n",
       "      <th>status</th>\n",
       "      <th>userID</th>\n",
       "      <th>payType</th>\n",
       "      <th>date1</th>\n",
       "      <th>date2</th>\n",
       "      <th>hours</th>\n",
       "    </tr>\n",
       "  </thead>\n",
       "  <tbody>\n",
       "    <tr>\n",
       "      <th>29770</th>\n",
       "      <td>2022-01-03 10:15:35</td>\n",
       "      <td>B</td>\n",
       "      <td>15</td>\n",
       "      <td>804</td>\n",
       "      <td>1</td>\n",
       "      <td>B70456b25cbab1b80e3920543ad1ccc33</td>\n",
       "      <td>1</td>\n",
       "      <td>2022-01-03</td>\n",
       "      <td>10:15:35</td>\n",
       "      <td>10</td>\n",
       "    </tr>\n",
       "    <tr>\n",
       "      <th>20371</th>\n",
       "      <td>2022-01-03 07:46:18</td>\n",
       "      <td>B</td>\n",
       "      <td>10</td>\n",
       "      <td>542</td>\n",
       "      <td>0</td>\n",
       "      <td>A66418697fe600c5e608a4f114c39641a</td>\n",
       "      <td>0</td>\n",
       "      <td>2022-01-03</td>\n",
       "      <td>07:46:18</td>\n",
       "      <td>7</td>\n",
       "    </tr>\n",
       "    <tr>\n",
       "      <th>22729</th>\n",
       "      <td>2022-01-03 07:34:53</td>\n",
       "      <td>B</td>\n",
       "      <td>26</td>\n",
       "      <td>1320</td>\n",
       "      <td>1</td>\n",
       "      <td>B71f177de72bf12132465074303a5c220</td>\n",
       "      <td>1</td>\n",
       "      <td>2022-01-03</td>\n",
       "      <td>07:34:53</td>\n",
       "      <td>7</td>\n",
       "    </tr>\n",
       "    <tr>\n",
       "      <th>22895</th>\n",
       "      <td>2022-01-03 19:06:56</td>\n",
       "      <td>C</td>\n",
       "      <td>43</td>\n",
       "      <td>1987</td>\n",
       "      <td>0</td>\n",
       "      <td>A31372c24f04b0488e2c1f2ef96582af5</td>\n",
       "      <td>0</td>\n",
       "      <td>2022-01-03</td>\n",
       "      <td>19:06:56</td>\n",
       "      <td>19</td>\n",
       "    </tr>\n",
       "    <tr>\n",
       "      <th>41044</th>\n",
       "      <td>2022-01-05 19:49:00</td>\n",
       "      <td>C</td>\n",
       "      <td>49</td>\n",
       "      <td>2359</td>\n",
       "      <td>1</td>\n",
       "      <td>B5cf3185a5ee9b35d1932536f7ca9956a</td>\n",
       "      <td>1</td>\n",
       "      <td>2022-01-05</td>\n",
       "      <td>19:49:00</td>\n",
       "      <td>19</td>\n",
       "    </tr>\n",
       "  </tbody>\n",
       "</table>\n",
       "</div>"
      ]
     },
     "execution_count": 54,
     "metadata": {},
     "output_type": "execute_result"
    }
   ],
   "execution_count": 54
  },
  {
   "cell_type": "code",
   "id": "2088590a",
   "metadata": {
    "ExecuteTime": {
     "end_time": "2024-09-12T15:35:04.070963Z",
     "start_time": "2024-09-12T15:35:04.061203Z"
    }
   },
   "source": [
    "# 计算三条线路的进出站情况\n",
    "\n",
    "# 线路A\n",
    "df4_A_0 = df4[(df4['lineID'] == 'A') & (df4['status'] == 0)]\n",
    "df4_A_1 = df4[(df4['lineID'] == 'A') & (df4['status'] == 1)]\n",
    "\n",
    "# 线路B\n",
    "df4_B_0 = df4[(df4['lineID'] == 'B') & (df4['status'] == 0)]\n",
    "df4_B_1 = df4[(df4['lineID'] == 'B') & (df4['status'] == 1)]\n",
    "\n",
    "# 线路C\n",
    "df4_C_0 = df4[(df4['lineID'] == 'C') & (df4['status'] == 0)]\n",
    "df4_C_1 = df4[(df4['lineID'] == 'C') & (df4['status'] == 1)]\n",
    "\n",
    "# 数值打印检测\n",
    "# print(df4_A_1.shape[0], df4_A_0.shape[0])\n",
    "# print(df4_B_1.shape[0], df4_B_0.shape[0])\n",
    "# print(df4_C_1.shape[0], df4_C_0.shape[0])"
   ],
   "outputs": [],
   "execution_count": 55
  },
  {
   "cell_type": "code",
   "id": "da3f6e4a",
   "metadata": {
    "ExecuteTime": {
     "end_time": "2024-09-12T15:35:04.159775Z",
     "start_time": "2024-09-12T15:35:04.121798Z"
    }
   },
   "source": [
    "# 选取周末两天作为对比：这里选择 1月7日(周六) 和 1月8日（周日）为例，对三条线路情况进行分析\n",
    "\n",
    "df5 = df[(df['date1'] == '2022-01-07') | (df['date1'] == '2022-01-08')]\n",
    "df5.shape"
   ],
   "outputs": [
    {
     "data": {
      "text/plain": [
       "(19512, 10)"
      ]
     },
     "execution_count": 56,
     "metadata": {},
     "output_type": "execute_result"
    }
   ],
   "execution_count": 56
  },
  {
   "cell_type": "code",
   "id": "45471738",
   "metadata": {
    "ExecuteTime": {
     "end_time": "2024-09-12T15:35:08.548278Z",
     "start_time": "2024-09-12T15:35:08.539265Z"
    }
   },
   "source": [
    "# 计算三条线路的进出站情况\n",
    "\n",
    "# 线路A\n",
    "df5_A_0 = df5[(df5['lineID'] == 'A') & (df5['status'] == 0)]\n",
    "df5_A_1 = df5[(df5['lineID'] == 'A') & (df5['status'] == 1)]\n",
    "\n",
    "# 线路B\n",
    "df5_B_0 = df5[(df5['lineID'] == 'B') & (df5['status'] == 0)]\n",
    "df5_B_1 = df5[(df5['lineID'] == 'B') & (df5['status'] == 1)]\n",
    "\n",
    "# 线路C\n",
    "df5_C_0 = df5[(df5['lineID'] == 'C') & (df5['status'] == 0)]\n",
    "df5_C_1 = df5[(df5['lineID'] == 'C') & (df5['status'] == 1)]\n",
    "\n",
    "# 数值打印检测\n",
    "# print(df5_A_1.shape[0], df5_A_0.shape[0])\n",
    "# print(df5_B_1.shape[0], df5_B_0.shape[0])\n",
    "# print(df5_C_1.shape[0], df5_C_0.shape[0])"
   ],
   "outputs": [],
   "execution_count": 57
  },
  {
   "cell_type": "markdown",
   "id": "04cf5452",
   "metadata": {},
   "source": [
    "<font size=4 color=#0000dd>绘制横向柱状图</font>"
   ]
  },
  {
   "cell_type": "code",
   "id": "06cf87e8",
   "metadata": {
    "ExecuteTime": {
     "end_time": "2024-09-12T15:35:08.610029Z",
     "start_time": "2024-09-12T15:35:08.551184Z"
    }
   },
   "source": [
    "# 元旦(df3)、周内(df4)、周末(df5)情况下三条线路的乘客进站情况分析对比\n",
    "\n",
    "import matplotlib.pyplot as plt\n",
    "import numpy as np\n",
    "\n",
    "# 数据\n",
    "data = np.array([[df3_A_1.shape[0], df3_B_1.shape[0], df3_C_1.shape[0]],\n",
    "                 [df4_A_1.shape[0], df4_B_1.shape[0], df4_C_1.shape[0]],\n",
    "                 [df5_A_1.shape[0], df5_B_1.shape[0], df5_C_1.shape[0]]]\n",
    "                )\n",
    "\n",
    "name = [\"元旦\", \"周内\", \"周末\"]\n",
    "\n",
    "# 颜色\n",
    "colors = ['#87CEEB', '#20B2AA', '#90EE90']\n",
    "\n",
    "# 宽度\n",
    "width = 0.25\n",
    "\n",
    "# 绘图\n",
    "fig, ax = plt.subplots()\n",
    "for i in range(data.shape[0]):\n",
    "    ax.barh(np.arange(data.shape[1]) + i * width, data[i], width, color=colors[i], label=name[i])\n",
    "\n",
    "plt.title('元旦、周内、周末情况下三条线路的乘客进站情况分析对比')\n",
    "\n",
    "# 坐标轴标签\n",
    "ax.set_xlabel('进站人数')\n",
    "ax.set_ylabel('地铁线路')\n",
    "# 设置刻度\n",
    "ax.set_yticks([0.25, 1.25, 2.25])\n",
    "# 设置刻度标签\n",
    "ax.set_yticklabels(['A', 'B', 'C'])\n",
    "# 图例\n",
    "ax.legend()\n",
    "\n",
    "# 美化\n",
    "ax.spines['top'].set_visible(False)\n",
    "ax.spines['right'].set_visible(False)\n",
    "\n",
    "plt.show()"
   ],
   "outputs": [
    {
     "data": {
      "text/plain": [
       "<Figure size 640x480 with 1 Axes>"
      ],
      "image/png": "[encoded data removed]"
     },
     "metadata": {},
     "output_type": "display_data"
    }
   ],
   "execution_count": 58
  },
  {
   "attachments": {
    "image.png": {
     "image/png": "[encoded data removed]"
    }
   },
   "cell_type": "markdown",
   "id": "4e4fff57",
   "metadata": {},
   "source": [
    "<font size=5> **小结** </font>\n",
    "\n",
    "- 根据饼图结果可得，元旦期间，`地铁线路B` 的客流量占总体的 `60%` 左右；\n",
    "- 根据条形图结果可得，可知周内期间 `地铁线路B` 高出节假日和周末大概`2000人` 左右\n",
    "![image.png](attachment:image.png)"
   ]
  },
  {
   "cell_type": "markdown",
   "id": "c88d470d",
   "metadata": {},
   "source": [
    "## 4.3 分析某一天的客流量情况\n",
    "\n",
    "- 以 `2022-01-16` 当天的数据为例，分析各个时间段的进出站情况\n",
    "- 假设早高峰是 `7:00-9:00`，晚高峰是 `17:00 - 20:00`，分析 `2022-01-16` 当天的早晚高峰情况。"
   ]
  },
  {
   "cell_type": "markdown",
   "id": "5520e39c",
   "metadata": {},
   "source": [
    "<font size=4 color=#0000dd>将 data表中 `date1列`中所有`2022-01-16`这一天的数据提取出来，赋值给`表df6`</font>"
   ]
  },
  {
   "cell_type": "code",
   "execution_count": null,
   "id": "21b7b5dc",
   "metadata": {},
   "outputs": [],
   "source": [
    "df6 = df[(df['date1'] == '2022-01-16')]\n",
    "print(df6.shape)\n",
    "df6.head()"
   ]
  },
  {
   "cell_type": "code",
   "execution_count": null,
   "id": "8520328f",
   "metadata": {},
   "outputs": [],
   "source": [
    "# 对 df6 按 hours 这一列 升序排列\n",
    "\n",
    "df6 = df6.sort_values(by='hours', ascending=True)\n",
    "df6.head(10)"
   ]
  },
  {
   "cell_type": "code",
   "execution_count": null,
   "id": "91debc73",
   "metadata": {},
   "outputs": [],
   "source": [
    "# 线路 A 每小时乘客记录统计\n",
    "df6_A = df6[df6['lineID'] == 'A']\n",
    "df6_A['hours'].value_counts()"
   ]
  },
  {
   "cell_type": "markdown",
   "id": "939ca902",
   "metadata": {},
   "source": [
    "<font size=4 color=#0000dd>按照`df6_A`的方法，筛选出线路B和线路C</font>"
   ]
  },
  {
   "cell_type": "code",
   "execution_count": null,
   "id": "39f088dd",
   "metadata": {},
   "outputs": [],
   "source": [
    "# 线路 B 每小时乘客记录统计\n",
    "df6_B = df6[df6['lineID'] == 'B']\n",
    "df6_B['hours'].value_counts()"
   ]
  },
  {
   "cell_type": "code",
   "execution_count": null,
   "id": "98b5d31e",
   "metadata": {},
   "outputs": [],
   "source": [
    "# 线路 C 每小时乘客记录统计\n",
    "df6_C = df6[df6['lineID'] == 'C']\n",
    "df6_C['hours'].value_counts()"
   ]
  },
  {
   "cell_type": "code",
   "execution_count": null,
   "id": "8094cd75",
   "metadata": {},
   "outputs": [],
   "source": [
    "# 对线路A、B、C每个时间段进出站人数情况的可视化分析\n",
    "\n",
    "# 数据\n",
    "category_names = ['LineA', 'LineB', 'LineC']\n",
    "results = {\n",
    "    '7点-9点': [326, 1527, 992],\n",
    "    '10点-12点': [114, 801, 396],\n",
    "    '13点-15点': [161, 891, 379],\n",
    "    '16点-18点': [311, 1327, 827],\n",
    "    '19点-21点': [171, 817, 491],\n",
    "    '22点-24点': [23, 136, 92]\n",
    "}\n",
    "\n",
    "\n",
    "# 绘图\n",
    "def survey(results, category_names):\n",
    "    labels = list(results.keys())\n",
    "    data = np.array(list(results.values()))\n",
    "    data_cum = data.cumsum(axis=1)\n",
    "    category_colors = plt.get_cmap('RdYlGn')(np.linspace(0.15, 0.85, data.shape[1]))\n",
    "\n",
    "    fig, ax = plt.subplots(figsize=(9.2, 5))\n",
    "    ax.invert_yaxis()\n",
    "    ax.xaxis.set_visible(False)\n",
    "    ax.set_xlim(0, np.sum(data, axis=1).max())\n",
    "\n",
    "    for i, (colname, color) in enumerate(zip(category_names, category_colors)):\n",
    "        widths = data[:, i]\n",
    "        starts = data_cum[:, i] - widths\n",
    "        rects = ax.barh(labels, widths, left=starts, height=0.5,\n",
    "                        label=colname, color=color)\n",
    "    #        ax.text(color, colname, labels[i], ha='center')\n",
    "    #\n",
    "    #        r, g, b, _ = color\n",
    "    #        text_color = 'white' if r * g * b < 0.5 else 'darkgrey'\n",
    "    #        ax.bar_label(rects, label_type='center', color=text_color)\n",
    "    #    ax.legend(ncols=len(category_names), bbox_to_anchor=(0, 1),\n",
    "    #                loc='lower left', fontsize='small')\n",
    "\n",
    "    return fig, ax\n",
    "\n",
    "\n",
    "survey(results, category_names)\n",
    "plt.legend()\n",
    "plt.show()"
   ]
  },
  {
   "cell_type": "markdown",
   "id": "0a26a59c",
   "metadata": {},
   "source": [
    "<font size=5> **小结** </font>\n",
    "\n",
    "- 根据上述图示结果可得，`2022-01-16` 这一天中，7点到9点以及16点到18点，各个线路的乘客流量都比较大，值得注意的是压力最大的线路仍然是线路B。"
   ]
  },
  {
   "cell_type": "markdown",
   "id": "d8516cc7",
   "metadata": {},
   "source": [
    "## 4.4  早晚高峰情况分析\n",
    "\n"
   ]
  },
  {
   "cell_type": "markdown",
   "id": "51e82339",
   "metadata": {},
   "source": [
    "<font size=4 color=#0000dd>根据`表df6`中的`hours列`筛选出`7点至9点`的所有数据</font>"
   ]
  },
  {
   "cell_type": "code",
   "execution_count": null,
   "id": "60700858",
   "metadata": {},
   "outputs": [],
   "source": [
    "# 早高峰\n",
    "\n",
    "MornPeak = df6[(df6['hours'] >= 7) & (df6['hours'] <= 9)]\n",
    "MornPeak.shape"
   ]
  },
  {
   "cell_type": "code",
   "execution_count": null,
   "id": "adb31411",
   "metadata": {},
   "outputs": [],
   "source": [
    "MornPeak.sample(n=10)"
   ]
  },
  {
   "cell_type": "code",
   "execution_count": null,
   "id": "cd8c6afa",
   "metadata": {},
   "outputs": [],
   "source": [
    "# 提取早高峰线路A、B、C进出站数据\n",
    "def MornExtract(name):\n",
    "    a_1 = MornPeak[(MornPeak['lineID'] == name) & (MornPeak['status'] == 1.0)]\n",
    "    a_0 = MornPeak[(MornPeak['lineID'] == name) & (MornPeak['status'] == 0.0)]\n",
    "\n",
    "    return a_1, a_0\n",
    "\n",
    "\n",
    "lineA_1, lineA_0 = MornExtract('A')\n",
    "lineB_1, lineB_0 = MornExtract('B')\n",
    "lineC_1, lineC_0 = MornExtract('C')\n",
    "\n",
    "# print(lineA_1.shape[0], lineA_0.shape[0])\n",
    "# print(lineB_1.shape[0], lineB_0.shape[0])\n",
    "# print(lineC_1.shape[0], lineC_0.shape[0])"
   ]
  },
  {
   "cell_type": "code",
   "execution_count": null,
   "id": "101eb2cf",
   "metadata": {},
   "outputs": [],
   "source": [
    "# 创建新表\n",
    "columns = ['lineID', 'status_1', 'status_0']\n",
    "values = [['A', lineA_1.shape[0], lineA_0.shape[0]], ['B', lineB_1.shape[0], lineB_0.shape[0]],\n",
    "          ['C', lineC_1.shape[0], lineC_0.shape[0]]]\n",
    "NMPeak = pd.DataFrame(data=values, index=None, columns=columns)\n",
    "NMPeak.head()"
   ]
  },
  {
   "cell_type": "code",
   "execution_count": null,
   "id": "da3a2518",
   "metadata": {},
   "outputs": [],
   "source": [
    "# 晚高峰\n",
    "EvenPeak = df6[(df6['hours'] >= 17) & (df6['hours'] <= 20)]\n",
    "EvenPeak.shape"
   ]
  },
  {
   "cell_type": "code",
   "execution_count": null,
   "id": "67c1aab5",
   "metadata": {},
   "outputs": [],
   "source": [
    "EvenPeak.sample(n=10)"
   ]
  },
  {
   "cell_type": "markdown",
   "id": "f7e336bb",
   "metadata": {},
   "source": [
    "<font size=4 color=#0000dd>根据早高峰提取函数`def MornExtract(name):` 完善晚高峰提取函数</font>"
   ]
  },
  {
   "cell_type": "code",
   "execution_count": null,
   "id": "358d7535",
   "metadata": {},
   "outputs": [],
   "source": [
    "# 提取晚高峰线路A、B、C进出站数据\n",
    "\n",
    "def even_extract(name):\n",
    "    a_1 = EvenPeak[(EvenPeak['lineID'] == name) & (EvenPeak['status'] == 1.0)]\n",
    "    a_0 = EvenPeak[(EvenPeak['lineID'] == name) & (EvenPeak['status'] == 0.0)]\n",
    "\n",
    "    return a_1, a_0\n",
    "\n",
    "\n",
    "E_lineA_1, E_lineA_0 = even_extract('A')\n",
    "E_lineB_1, E_lineB_0 = even_extract('B')\n",
    "E_lineC_1, E_lineC_0 = even_extract('C')\n",
    "\n",
    "# print(E_lineA_1.shape[0], E_lineA_0.shape[0])\n",
    "# print(E_lineB_1.shape[0], E_lineB_0.shape[0])\n",
    "# print(E_lineC_1.shape[0], E_lineC_0.shape[0])"
   ]
  },
  {
   "cell_type": "code",
   "execution_count": null,
   "id": "9fadb842",
   "metadata": {},
   "outputs": [],
   "source": [
    "# 创建新表\n",
    "columns = ['lineID', 'status_1', 'status_0']\n",
    "values = [['A', E_lineA_1.shape[0], E_lineA_0.shape[0]], ['B', E_lineB_1.shape[0], E_lineB_0.shape[0]],\n",
    "          ['C', E_lineC_1.shape[0], E_lineC_0.shape[0]]]\n",
    "NEPeak = pd.DataFrame(data=values, index=None, columns=columns)\n",
    "NEPeak.head()"
   ]
  },
  {
   "cell_type": "markdown",
   "id": "e697e939",
   "metadata": {},
   "source": [
    "<font size=4 color=#0000dd>绘制堆叠柱状图，绘制子图</font>"
   ]
  },
  {
   "cell_type": "code",
   "execution_count": null,
   "id": "a8012937",
   "metadata": {
    "scrolled": false
   },
   "outputs": [],
   "source": [
    "# 设置图像大小为（10,10）\n",
    "fig = plt.figure(figsize=(10, 8), dpi=80)\n",
    "\n",
    "## 早高峰图\n",
    "plt.subplot(1, 2, 1)\n",
    "plt.bar(NMPeak['lineID'], NMPeak['status_1'], align='center', width=0.4, color='#66c2a5',\n",
    "        tick_label='Line' + NMPeak['lineID'], label='进站')\n",
    "plt.bar(NMPeak['lineID'], NMPeak['status_0'], width=0.4, bottom=NMPeak['status_1'], color='#8da0cb', label='出站')\n",
    "\n",
    "plt.title(\"2022年1月1日至1月20日A、B、C三条地铁线的早高峰情况\")\n",
    "# 设置x轴标签\n",
    "plt.xlabel('地铁线路')\n",
    "# 设置y轴标签\n",
    "plt.ylabel('进出站情况')\n",
    "# 刻度标签倾斜60度\n",
    "plt.xticks(rotation=60)\n",
    "# 显示图例\n",
    "plt.legend()\n",
    "\n",
    "## 晚高峰图\n",
    "plt.subplot(1, 2, 2)\n",
    "\n",
    "# 颜色\n",
    "colors = ['#FF7F50', '#0000FF']\n",
    "\n",
    "# 绘图\n",
    "plt.bar(NEPeak['lineID'], NEPeak['status_1'], align='center', width=0.4, color='#66c2a5',\n",
    "        tick_label='Line' + NEPeak['lineID'], label='进站')\n",
    "plt.bar(NEPeak['lineID'], NEPeak['status_0'], width=0.4, bottom=NEPeak['status_1'], color='#8da0cb', label='出站')\n",
    "\n",
    "plt.title(\"2022年1月1日至1月20日A、B、C三条地铁线的晚高峰情况\")\n",
    "\n",
    "# 设置x轴标签\n",
    "plt.xlabel('地铁线路')\n",
    "# 设置y轴标签\n",
    "plt.ylabel('进出站情况')\n",
    "# 刻度标签倾斜60度\n",
    "plt.xticks(rotation=60)\n",
    "# 显示图例\n",
    "plt.legend()\n",
    "plt.show()\n"
   ]
  },
  {
   "cell_type": "markdown",
   "id": "3aae26a1",
   "metadata": {},
   "source": [
    "<font size=5> **小结** </font>\n",
    "\n",
    "- 根据上述图示结果可以清晰的看到 `2022-01-16` 这一天早晚高峰各条线路的进出站情况，压力最大的线路是`B`，其次是线路 `C`, 压力最小的线路是 `A`"
   ]
  }
 ],
 "metadata": {
  "kernelspec": {
   "display_name": "Python 3 (ipykernel)",
   "language": "python",
   "name": "python3"
  },
  "language_info": {
   "codemirror_mode": {
    "name": "ipython",
    "version": 3
   },
   "file_extension": ".py",
   "mimetype": "text/x-python",
   "name": "python",
   "nbconvert_exporter": "python",
   "pygments_lexer": "ipython3",
   "version": "3.8.5"
  }
 },
 "nbformat": 4,
 "nbformat_minor": 5
}
