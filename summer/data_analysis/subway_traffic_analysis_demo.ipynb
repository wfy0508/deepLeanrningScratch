{
 "cells": [
  {
   "metadata": {},
   "cell_type": "markdown",
   "source": "# 地铁交通数据分析",
   "id": "de050673e219c7e6"
  },
  {
   "metadata": {
    "ExecuteTime": {
     "end_time": "2024-09-08T02:03:06.696476Z",
     "start_time": "2024-09-08T02:03:06.693927Z"
    }
   },
   "cell_type": "code",
   "source": [
    "from os.path import abspath\n",
    "\n",
    "#from cProfile import label\n",
    "\n",
    "import numpy as np\n",
    "import pandas as pd\n",
    "import matplotlib.pyplot as plt\n",
    "from IPython.utils.process import abbrev_cwd\n",
    "\n",
    "#from PyQt5.QtWidgets.QWidget import width\n",
    "#from matplotlib.pyplot import figure\n",
    "#from pandas.io.formats.style import color\n",
    "plt.rcParams['font.sans-serif'] = ['SimHei']  ## Mac\n",
    "#plt.rcParams['font.family'] = 'sans-serif'  ## Mac\n",
    "plt.rcParams['axes.unicode_minus'] = False"
   ],
   "id": "9ff7b81d7544af53",
   "outputs": [],
   "execution_count": 4
  },
  {
   "metadata": {},
   "cell_type": "markdown",
   "source": "#### 1、观察数据",
   "id": "cd7cb7d188b14603"
  },
  {
   "metadata": {
    "ExecuteTime": {
     "end_time": "2024-09-08T02:08:58.658727Z",
     "start_time": "2024-09-08T02:08:58.508174Z"
    }
   },
   "cell_type": "code",
   "source": [
    "dataPath = '/Users/summer/PycharmProjects/deepLearningScratch/summer/dataset/subway_data.csv'\n",
    "df = pd.read_csv(dataPath)\n",
    "df.head()"
   ],
   "id": "a846e7a4448a94ca",
   "outputs": [
    {
     "data": {
      "text/plain": [
       "                  time lineID  stationID  deviceID  status  \\\n",
       "0  2022-01-01 14:34:23      B       19.0    1006.0     1.0   \n",
       "1  2022-01-01 18:35:52      C       47.0    2271.0     1.0   \n",
       "2  2022-01-01 19:35:45      B       17.0     952.0     1.0   \n",
       "3  2022-01-01 21:00:03      B       27.0    1351.0     1.0   \n",
       "4  2022-01-01 15:47:29      B        0.0       0.0     0.0   \n",
       "\n",
       "                              userID  payType  \n",
       "0  Cff263245447d6ad1fbc2c6166582234e      2.0  \n",
       "1  A27aff32d8340333a616d62e12434ccbe      0.0  \n",
       "2  Bedb7c79d26ae95c2a9f14b51b3797ed8      1.0  \n",
       "3  Cb32ccd5e11669b4c7c5e59fc3ffe7dba      2.0  \n",
       "4  D964f8837a1a6326d0fe6bb36457874de      3.0  "
      ],
      "text/html": [
       "<div>\n",
       "<style scoped>\n",
       "    .dataframe tbody tr th:only-of-type {\n",
       "        vertical-align: middle;\n",
       "    }\n",
       "\n",
       "    .dataframe tbody tr th {\n",
       "        vertical-align: top;\n",
       "    }\n",
       "\n",
       "    .dataframe thead th {\n",
       "        text-align: right;\n",
       "    }\n",
       "</style>\n",
       "<table border=\"1\" class=\"dataframe\">\n",
       "  <thead>\n",
       "    <tr style=\"text-align: right;\">\n",
       "      <th></th>\n",
       "      <th>time</th>\n",
       "      <th>lineID</th>\n",
       "      <th>stationID</th>\n",
       "      <th>deviceID</th>\n",
       "      <th>status</th>\n",
       "      <th>userID</th>\n",
       "      <th>payType</th>\n",
       "    </tr>\n",
       "  </thead>\n",
       "  <tbody>\n",
       "    <tr>\n",
       "      <th>0</th>\n",
       "      <td>2022-01-01 14:34:23</td>\n",
       "      <td>B</td>\n",
       "      <td>19.0</td>\n",
       "      <td>1006.0</td>\n",
       "      <td>1.0</td>\n",
       "      <td>Cff263245447d6ad1fbc2c6166582234e</td>\n",
       "      <td>2.0</td>\n",
       "    </tr>\n",
       "    <tr>\n",
       "      <th>1</th>\n",
       "      <td>2022-01-01 18:35:52</td>\n",
       "      <td>C</td>\n",
       "      <td>47.0</td>\n",
       "      <td>2271.0</td>\n",
       "      <td>1.0</td>\n",
       "      <td>A27aff32d8340333a616d62e12434ccbe</td>\n",
       "      <td>0.0</td>\n",
       "    </tr>\n",
       "    <tr>\n",
       "      <th>2</th>\n",
       "      <td>2022-01-01 19:35:45</td>\n",
       "      <td>B</td>\n",
       "      <td>17.0</td>\n",
       "      <td>952.0</td>\n",
       "      <td>1.0</td>\n",
       "      <td>Bedb7c79d26ae95c2a9f14b51b3797ed8</td>\n",
       "      <td>1.0</td>\n",
       "    </tr>\n",
       "    <tr>\n",
       "      <th>3</th>\n",
       "      <td>2022-01-01 21:00:03</td>\n",
       "      <td>B</td>\n",
       "      <td>27.0</td>\n",
       "      <td>1351.0</td>\n",
       "      <td>1.0</td>\n",
       "      <td>Cb32ccd5e11669b4c7c5e59fc3ffe7dba</td>\n",
       "      <td>2.0</td>\n",
       "    </tr>\n",
       "    <tr>\n",
       "      <th>4</th>\n",
       "      <td>2022-01-01 15:47:29</td>\n",
       "      <td>B</td>\n",
       "      <td>0.0</td>\n",
       "      <td>0.0</td>\n",
       "      <td>0.0</td>\n",
       "      <td>D964f8837a1a6326d0fe6bb36457874de</td>\n",
       "      <td>3.0</td>\n",
       "    </tr>\n",
       "  </tbody>\n",
       "</table>\n",
       "</div>"
      ]
     },
     "execution_count": 14,
     "metadata": {},
     "output_type": "execute_result"
    }
   ],
   "execution_count": 14
  },
  {
   "metadata": {
    "ExecuteTime": {
     "end_time": "2024-09-08T02:26:33.606527Z",
     "start_time": "2024-09-08T02:26:33.598704Z"
    }
   },
   "cell_type": "code",
   "source": "df.shape",
   "id": "1af35a1a971b76c9",
   "outputs": [
    {
     "data": {
      "text/plain": [
       "(138933, 7)"
      ]
     },
     "execution_count": 15,
     "metadata": {},
     "output_type": "execute_result"
    }
   ],
   "execution_count": 15
  },
  {
   "metadata": {
    "ExecuteTime": {
     "end_time": "2024-09-08T02:26:35.195767Z",
     "start_time": "2024-09-08T02:26:35.153781Z"
    }
   },
   "cell_type": "code",
   "source": "df.isnull()",
   "id": "ff5ade7625203efc",
   "outputs": [
    {
     "data": {
      "text/plain": [
       "         time  lineID  stationID  deviceID  status  userID  payType\n",
       "0       False   False      False     False   False   False    False\n",
       "1       False   False      False     False   False   False    False\n",
       "2       False   False      False     False   False   False    False\n",
       "3       False   False      False     False   False   False    False\n",
       "4       False   False      False     False   False   False    False\n",
       "...       ...     ...        ...       ...     ...     ...      ...\n",
       "138928  False   False      False     False   False   False    False\n",
       "138929  False   False      False     False   False   False    False\n",
       "138930  False   False      False     False   False   False    False\n",
       "138931  False   False      False     False   False   False    False\n",
       "138932  False    True       True      True    True    True     True\n",
       "\n",
       "[138933 rows x 7 columns]"
      ],
      "text/html": [
       "<div>\n",
       "<style scoped>\n",
       "    .dataframe tbody tr th:only-of-type {\n",
       "        vertical-align: middle;\n",
       "    }\n",
       "\n",
       "    .dataframe tbody tr th {\n",
       "        vertical-align: top;\n",
       "    }\n",
       "\n",
       "    .dataframe thead th {\n",
       "        text-align: right;\n",
       "    }\n",
       "</style>\n",
       "<table border=\"1\" class=\"dataframe\">\n",
       "  <thead>\n",
       "    <tr style=\"text-align: right;\">\n",
       "      <th></th>\n",
       "      <th>time</th>\n",
       "      <th>lineID</th>\n",
       "      <th>stationID</th>\n",
       "      <th>deviceID</th>\n",
       "      <th>status</th>\n",
       "      <th>userID</th>\n",
       "      <th>payType</th>\n",
       "    </tr>\n",
       "  </thead>\n",
       "  <tbody>\n",
       "    <tr>\n",
       "      <th>0</th>\n",
       "      <td>False</td>\n",
       "      <td>False</td>\n",
       "      <td>False</td>\n",
       "      <td>False</td>\n",
       "      <td>False</td>\n",
       "      <td>False</td>\n",
       "      <td>False</td>\n",
       "    </tr>\n",
       "    <tr>\n",
       "      <th>1</th>\n",
       "      <td>False</td>\n",
       "      <td>False</td>\n",
       "      <td>False</td>\n",
       "      <td>False</td>\n",
       "      <td>False</td>\n",
       "      <td>False</td>\n",
       "      <td>False</td>\n",
       "    </tr>\n",
       "    <tr>\n",
       "      <th>2</th>\n",
       "      <td>False</td>\n",
       "      <td>False</td>\n",
       "      <td>False</td>\n",
       "      <td>False</td>\n",
       "      <td>False</td>\n",
       "      <td>False</td>\n",
       "      <td>False</td>\n",
       "    </tr>\n",
       "    <tr>\n",
       "      <th>3</th>\n",
       "      <td>False</td>\n",
       "      <td>False</td>\n",
       "      <td>False</td>\n",
       "      <td>False</td>\n",
       "      <td>False</td>\n",
       "      <td>False</td>\n",
       "      <td>False</td>\n",
       "    </tr>\n",
       "    <tr>\n",
       "      <th>4</th>\n",
       "      <td>False</td>\n",
       "      <td>False</td>\n",
       "      <td>False</td>\n",
       "      <td>False</td>\n",
       "      <td>False</td>\n",
       "      <td>False</td>\n",
       "      <td>False</td>\n",
       "    </tr>\n",
       "    <tr>\n",
       "      <th>...</th>\n",
       "      <td>...</td>\n",
       "      <td>...</td>\n",
       "      <td>...</td>\n",
       "      <td>...</td>\n",
       "      <td>...</td>\n",
       "      <td>...</td>\n",
       "      <td>...</td>\n",
       "    </tr>\n",
       "    <tr>\n",
       "      <th>138928</th>\n",
       "      <td>False</td>\n",
       "      <td>False</td>\n",
       "      <td>False</td>\n",
       "      <td>False</td>\n",
       "      <td>False</td>\n",
       "      <td>False</td>\n",
       "      <td>False</td>\n",
       "    </tr>\n",
       "    <tr>\n",
       "      <th>138929</th>\n",
       "      <td>False</td>\n",
       "      <td>False</td>\n",
       "      <td>False</td>\n",
       "      <td>False</td>\n",
       "      <td>False</td>\n",
       "      <td>False</td>\n",
       "      <td>False</td>\n",
       "    </tr>\n",
       "    <tr>\n",
       "      <th>138930</th>\n",
       "      <td>False</td>\n",
       "      <td>False</td>\n",
       "      <td>False</td>\n",
       "      <td>False</td>\n",
       "      <td>False</td>\n",
       "      <td>False</td>\n",
       "      <td>False</td>\n",
       "    </tr>\n",
       "    <tr>\n",
       "      <th>138931</th>\n",
       "      <td>False</td>\n",
       "      <td>False</td>\n",
       "      <td>False</td>\n",
       "      <td>False</td>\n",
       "      <td>False</td>\n",
       "      <td>False</td>\n",
       "      <td>False</td>\n",
       "    </tr>\n",
       "    <tr>\n",
       "      <th>138932</th>\n",
       "      <td>False</td>\n",
       "      <td>True</td>\n",
       "      <td>True</td>\n",
       "      <td>True</td>\n",
       "      <td>True</td>\n",
       "      <td>True</td>\n",
       "      <td>True</td>\n",
       "    </tr>\n",
       "  </tbody>\n",
       "</table>\n",
       "<p>138933 rows × 7 columns</p>\n",
       "</div>"
      ]
     },
     "execution_count": 16,
     "metadata": {},
     "output_type": "execute_result"
    }
   ],
   "execution_count": 16
  },
  {
   "metadata": {
    "ExecuteTime": {
     "end_time": "2024-09-08T02:26:37.128970Z",
     "start_time": "2024-09-08T02:26:37.125766Z"
    }
   },
   "cell_type": "code",
   "source": "df.dtypes",
   "id": "c9d2f0172617d685",
   "outputs": [
    {
     "data": {
      "text/plain": [
       "time          object\n",
       "lineID        object\n",
       "stationID    float64\n",
       "deviceID     float64\n",
       "status       float64\n",
       "userID        object\n",
       "payType      float64\n",
       "dtype: object"
      ]
     },
     "execution_count": 17,
     "metadata": {},
     "output_type": "execute_result"
    }
   ],
   "execution_count": 17
  },
  {
   "metadata": {
    "ExecuteTime": {
     "end_time": "2024-09-08T02:26:38.894148Z",
     "start_time": "2024-09-08T02:26:38.861999Z"
    }
   },
   "cell_type": "code",
   "source": "df.describe()",
   "id": "8293944e6ea92e9c",
   "outputs": [
    {
     "data": {
      "text/plain": [
       "           stationID       deviceID         status        payType\n",
       "count  138932.000000  138932.000000  138932.000000  138932.000000\n",
       "mean       32.390148    1554.836452       0.499093       1.383605\n",
       "std        23.179823    1059.630292       0.500001       0.842657\n",
       "min         0.000000       0.000000       0.000000       0.000000\n",
       "25%        12.000000     642.000000       0.000000       1.000000\n",
       "50%        25.000000    1277.000000       0.000000       1.000000\n",
       "75%        52.000000    2533.000000       1.000000       2.000000\n",
       "max        80.000000    3638.000000       1.000000       3.000000"
      ],
      "text/html": [
       "<div>\n",
       "<style scoped>\n",
       "    .dataframe tbody tr th:only-of-type {\n",
       "        vertical-align: middle;\n",
       "    }\n",
       "\n",
       "    .dataframe tbody tr th {\n",
       "        vertical-align: top;\n",
       "    }\n",
       "\n",
       "    .dataframe thead th {\n",
       "        text-align: right;\n",
       "    }\n",
       "</style>\n",
       "<table border=\"1\" class=\"dataframe\">\n",
       "  <thead>\n",
       "    <tr style=\"text-align: right;\">\n",
       "      <th></th>\n",
       "      <th>stationID</th>\n",
       "      <th>deviceID</th>\n",
       "      <th>status</th>\n",
       "      <th>payType</th>\n",
       "    </tr>\n",
       "  </thead>\n",
       "  <tbody>\n",
       "    <tr>\n",
       "      <th>count</th>\n",
       "      <td>138932.000000</td>\n",
       "      <td>138932.000000</td>\n",
       "      <td>138932.000000</td>\n",
       "      <td>138932.000000</td>\n",
       "    </tr>\n",
       "    <tr>\n",
       "      <th>mean</th>\n",
       "      <td>32.390148</td>\n",
       "      <td>1554.836452</td>\n",
       "      <td>0.499093</td>\n",
       "      <td>1.383605</td>\n",
       "    </tr>\n",
       "    <tr>\n",
       "      <th>std</th>\n",
       "      <td>23.179823</td>\n",
       "      <td>1059.630292</td>\n",
       "      <td>0.500001</td>\n",
       "      <td>0.842657</td>\n",
       "    </tr>\n",
       "    <tr>\n",
       "      <th>min</th>\n",
       "      <td>0.000000</td>\n",
       "      <td>0.000000</td>\n",
       "      <td>0.000000</td>\n",
       "      <td>0.000000</td>\n",
       "    </tr>\n",
       "    <tr>\n",
       "      <th>25%</th>\n",
       "      <td>12.000000</td>\n",
       "      <td>642.000000</td>\n",
       "      <td>0.000000</td>\n",
       "      <td>1.000000</td>\n",
       "    </tr>\n",
       "    <tr>\n",
       "      <th>50%</th>\n",
       "      <td>25.000000</td>\n",
       "      <td>1277.000000</td>\n",
       "      <td>0.000000</td>\n",
       "      <td>1.000000</td>\n",
       "    </tr>\n",
       "    <tr>\n",
       "      <th>75%</th>\n",
       "      <td>52.000000</td>\n",
       "      <td>2533.000000</td>\n",
       "      <td>1.000000</td>\n",
       "      <td>2.000000</td>\n",
       "    </tr>\n",
       "    <tr>\n",
       "      <th>max</th>\n",
       "      <td>80.000000</td>\n",
       "      <td>3638.000000</td>\n",
       "      <td>1.000000</td>\n",
       "      <td>3.000000</td>\n",
       "    </tr>\n",
       "  </tbody>\n",
       "</table>\n",
       "</div>"
      ]
     },
     "execution_count": 18,
     "metadata": {},
     "output_type": "execute_result"
    }
   ],
   "execution_count": 18
  },
  {
   "metadata": {},
   "cell_type": "markdown",
   "source": "#### 1.2 数据类型转换",
   "id": "b8093f85a92e1ce"
  },
  {
   "metadata": {
    "ExecuteTime": {
     "end_time": "2024-09-08T02:32:28.420867Z",
     "start_time": "2024-09-08T02:32:28.380094Z"
    }
   },
   "cell_type": "code",
   "source": [
    "df['time'] = pd.to_datetime(df['time'])\n",
    "df.head()\n",
    "df.dtypes"
   ],
   "id": "c8b12f64efbe78ae",
   "outputs": [
    {
     "data": {
      "text/plain": [
       "time         datetime64[ns]\n",
       "lineID               object\n",
       "stationID           float64\n",
       "deviceID            float64\n",
       "status              float64\n",
       "userID               object\n",
       "payType             float64\n",
       "dtype: object"
      ]
     },
     "execution_count": 19,
     "metadata": {},
     "output_type": "execute_result"
    }
   ],
   "execution_count": 19
  },
  {
   "metadata": {
    "ExecuteTime": {
     "end_time": "2024-09-08T02:32:59.469922Z",
     "start_time": "2024-09-08T02:32:59.417466Z"
    }
   },
   "cell_type": "code",
   "source": [
    "df['date1'] = pd.to_datetime(df['time'], format='%Y-%m-%d %H:%M:%S').dt.strftime('%Y-%m-%d')\n",
    "df.head()"
   ],
   "id": "1da63d623885293b",
   "outputs": [
    {
     "data": {
      "text/plain": [
       "                 time lineID  stationID  deviceID  status  \\\n",
       "0 2022-01-01 14:34:23      B       19.0    1006.0     1.0   \n",
       "1 2022-01-01 18:35:52      C       47.0    2271.0     1.0   \n",
       "2 2022-01-01 19:35:45      B       17.0     952.0     1.0   \n",
       "3 2022-01-01 21:00:03      B       27.0    1351.0     1.0   \n",
       "4 2022-01-01 15:47:29      B        0.0       0.0     0.0   \n",
       "\n",
       "                              userID  payType       date1  \n",
       "0  Cff263245447d6ad1fbc2c6166582234e      2.0  2022-01-01  \n",
       "1  A27aff32d8340333a616d62e12434ccbe      0.0  2022-01-01  \n",
       "2  Bedb7c79d26ae95c2a9f14b51b3797ed8      1.0  2022-01-01  \n",
       "3  Cb32ccd5e11669b4c7c5e59fc3ffe7dba      2.0  2022-01-01  \n",
       "4  D964f8837a1a6326d0fe6bb36457874de      3.0  2022-01-01  "
      ],
      "text/html": [
       "<div>\n",
       "<style scoped>\n",
       "    .dataframe tbody tr th:only-of-type {\n",
       "        vertical-align: middle;\n",
       "    }\n",
       "\n",
       "    .dataframe tbody tr th {\n",
       "        vertical-align: top;\n",
       "    }\n",
       "\n",
       "    .dataframe thead th {\n",
       "        text-align: right;\n",
       "    }\n",
       "</style>\n",
       "<table border=\"1\" class=\"dataframe\">\n",
       "  <thead>\n",
       "    <tr style=\"text-align: right;\">\n",
       "      <th></th>\n",
       "      <th>time</th>\n",
       "      <th>lineID</th>\n",
       "      <th>stationID</th>\n",
       "      <th>deviceID</th>\n",
       "      <th>status</th>\n",
       "      <th>userID</th>\n",
       "      <th>payType</th>\n",
       "      <th>date1</th>\n",
       "    </tr>\n",
       "  </thead>\n",
       "  <tbody>\n",
       "    <tr>\n",
       "      <th>0</th>\n",
       "      <td>2022-01-01 14:34:23</td>\n",
       "      <td>B</td>\n",
       "      <td>19.0</td>\n",
       "      <td>1006.0</td>\n",
       "      <td>1.0</td>\n",
       "      <td>Cff263245447d6ad1fbc2c6166582234e</td>\n",
       "      <td>2.0</td>\n",
       "      <td>2022-01-01</td>\n",
       "    </tr>\n",
       "    <tr>\n",
       "      <th>1</th>\n",
       "      <td>2022-01-01 18:35:52</td>\n",
       "      <td>C</td>\n",
       "      <td>47.0</td>\n",
       "      <td>2271.0</td>\n",
       "      <td>1.0</td>\n",
       "      <td>A27aff32d8340333a616d62e12434ccbe</td>\n",
       "      <td>0.0</td>\n",
       "      <td>2022-01-01</td>\n",
       "    </tr>\n",
       "    <tr>\n",
       "      <th>2</th>\n",
       "      <td>2022-01-01 19:35:45</td>\n",
       "      <td>B</td>\n",
       "      <td>17.0</td>\n",
       "      <td>952.0</td>\n",
       "      <td>1.0</td>\n",
       "      <td>Bedb7c79d26ae95c2a9f14b51b3797ed8</td>\n",
       "      <td>1.0</td>\n",
       "      <td>2022-01-01</td>\n",
       "    </tr>\n",
       "    <tr>\n",
       "      <th>3</th>\n",
       "      <td>2022-01-01 21:00:03</td>\n",
       "      <td>B</td>\n",
       "      <td>27.0</td>\n",
       "      <td>1351.0</td>\n",
       "      <td>1.0</td>\n",
       "      <td>Cb32ccd5e11669b4c7c5e59fc3ffe7dba</td>\n",
       "      <td>2.0</td>\n",
       "      <td>2022-01-01</td>\n",
       "    </tr>\n",
       "    <tr>\n",
       "      <th>4</th>\n",
       "      <td>2022-01-01 15:47:29</td>\n",
       "      <td>B</td>\n",
       "      <td>0.0</td>\n",
       "      <td>0.0</td>\n",
       "      <td>0.0</td>\n",
       "      <td>D964f8837a1a6326d0fe6bb36457874de</td>\n",
       "      <td>3.0</td>\n",
       "      <td>2022-01-01</td>\n",
       "    </tr>\n",
       "  </tbody>\n",
       "</table>\n",
       "</div>"
      ]
     },
     "execution_count": 21,
     "metadata": {},
     "output_type": "execute_result"
    }
   ],
   "execution_count": 21
  },
  {
   "metadata": {
    "ExecuteTime": {
     "end_time": "2024-09-08T02:33:06.236257Z",
     "start_time": "2024-09-08T02:33:06.016768Z"
    }
   },
   "cell_type": "code",
   "source": [
    "df['date2'] = pd.to_datetime(df['time'], format='%Y-%m-%d %H:%M:%S').dt.strftime('%H:%M:%S')\n",
    "df.head()"
   ],
   "id": "4824cc5e525c460f",
   "outputs": [
    {
     "data": {
      "text/plain": [
       "                 time lineID  stationID  deviceID  status  \\\n",
       "0 2022-01-01 14:34:23      B       19.0    1006.0     1.0   \n",
       "1 2022-01-01 18:35:52      C       47.0    2271.0     1.0   \n",
       "2 2022-01-01 19:35:45      B       17.0     952.0     1.0   \n",
       "3 2022-01-01 21:00:03      B       27.0    1351.0     1.0   \n",
       "4 2022-01-01 15:47:29      B        0.0       0.0     0.0   \n",
       "\n",
       "                              userID  payType       date1     date2  \n",
       "0  Cff263245447d6ad1fbc2c6166582234e      2.0  2022-01-01  14:34:23  \n",
       "1  A27aff32d8340333a616d62e12434ccbe      0.0  2022-01-01  18:35:52  \n",
       "2  Bedb7c79d26ae95c2a9f14b51b3797ed8      1.0  2022-01-01  19:35:45  \n",
       "3  Cb32ccd5e11669b4c7c5e59fc3ffe7dba      2.0  2022-01-01  21:00:03  \n",
       "4  D964f8837a1a6326d0fe6bb36457874de      3.0  2022-01-01  15:47:29  "
      ],
      "text/html": [
       "<div>\n",
       "<style scoped>\n",
       "    .dataframe tbody tr th:only-of-type {\n",
       "        vertical-align: middle;\n",
       "    }\n",
       "\n",
       "    .dataframe tbody tr th {\n",
       "        vertical-align: top;\n",
       "    }\n",
       "\n",
       "    .dataframe thead th {\n",
       "        text-align: right;\n",
       "    }\n",
       "</style>\n",
       "<table border=\"1\" class=\"dataframe\">\n",
       "  <thead>\n",
       "    <tr style=\"text-align: right;\">\n",
       "      <th></th>\n",
       "      <th>time</th>\n",
       "      <th>lineID</th>\n",
       "      <th>stationID</th>\n",
       "      <th>deviceID</th>\n",
       "      <th>status</th>\n",
       "      <th>userID</th>\n",
       "      <th>payType</th>\n",
       "      <th>date1</th>\n",
       "      <th>date2</th>\n",
       "    </tr>\n",
       "  </thead>\n",
       "  <tbody>\n",
       "    <tr>\n",
       "      <th>0</th>\n",
       "      <td>2022-01-01 14:34:23</td>\n",
       "      <td>B</td>\n",
       "      <td>19.0</td>\n",
       "      <td>1006.0</td>\n",
       "      <td>1.0</td>\n",
       "      <td>Cff263245447d6ad1fbc2c6166582234e</td>\n",
       "      <td>2.0</td>\n",
       "      <td>2022-01-01</td>\n",
       "      <td>14:34:23</td>\n",
       "    </tr>\n",
       "    <tr>\n",
       "      <th>1</th>\n",
       "      <td>2022-01-01 18:35:52</td>\n",
       "      <td>C</td>\n",
       "      <td>47.0</td>\n",
       "      <td>2271.0</td>\n",
       "      <td>1.0</td>\n",
       "      <td>A27aff32d8340333a616d62e12434ccbe</td>\n",
       "      <td>0.0</td>\n",
       "      <td>2022-01-01</td>\n",
       "      <td>18:35:52</td>\n",
       "    </tr>\n",
       "    <tr>\n",
       "      <th>2</th>\n",
       "      <td>2022-01-01 19:35:45</td>\n",
       "      <td>B</td>\n",
       "      <td>17.0</td>\n",
       "      <td>952.0</td>\n",
       "      <td>1.0</td>\n",
       "      <td>Bedb7c79d26ae95c2a9f14b51b3797ed8</td>\n",
       "      <td>1.0</td>\n",
       "      <td>2022-01-01</td>\n",
       "      <td>19:35:45</td>\n",
       "    </tr>\n",
       "    <tr>\n",
       "      <th>3</th>\n",
       "      <td>2022-01-01 21:00:03</td>\n",
       "      <td>B</td>\n",
       "      <td>27.0</td>\n",
       "      <td>1351.0</td>\n",
       "      <td>1.0</td>\n",
       "      <td>Cb32ccd5e11669b4c7c5e59fc3ffe7dba</td>\n",
       "      <td>2.0</td>\n",
       "      <td>2022-01-01</td>\n",
       "      <td>21:00:03</td>\n",
       "    </tr>\n",
       "    <tr>\n",
       "      <th>4</th>\n",
       "      <td>2022-01-01 15:47:29</td>\n",
       "      <td>B</td>\n",
       "      <td>0.0</td>\n",
       "      <td>0.0</td>\n",
       "      <td>0.0</td>\n",
       "      <td>D964f8837a1a6326d0fe6bb36457874de</td>\n",
       "      <td>3.0</td>\n",
       "      <td>2022-01-01</td>\n",
       "      <td>15:47:29</td>\n",
       "    </tr>\n",
       "  </tbody>\n",
       "</table>\n",
       "</div>"
      ]
     },
     "execution_count": 22,
     "metadata": {},
     "output_type": "execute_result"
    }
   ],
   "execution_count": 22
  },
  {
   "metadata": {
    "ExecuteTime": {
     "end_time": "2024-09-08T02:33:28.929305Z",
     "start_time": "2024-09-08T02:33:28.918564Z"
    }
   },
   "cell_type": "code",
   "source": [
    "df['hours'] = pd.to_datetime(df['time'], format='%Y-%m-%d %H:%M:%S').dt.hour\n",
    "df.head()"
   ],
   "id": "a1e39779313b54f6",
   "outputs": [
    {
     "data": {
      "text/plain": [
       "                 time lineID  stationID  deviceID  status  \\\n",
       "0 2022-01-01 14:34:23      B       19.0    1006.0     1.0   \n",
       "1 2022-01-01 18:35:52      C       47.0    2271.0     1.0   \n",
       "2 2022-01-01 19:35:45      B       17.0     952.0     1.0   \n",
       "3 2022-01-01 21:00:03      B       27.0    1351.0     1.0   \n",
       "4 2022-01-01 15:47:29      B        0.0       0.0     0.0   \n",
       "\n",
       "                              userID  payType       date1     date2  hours  \n",
       "0  Cff263245447d6ad1fbc2c6166582234e      2.0  2022-01-01  14:34:23     14  \n",
       "1  A27aff32d8340333a616d62e12434ccbe      0.0  2022-01-01  18:35:52     18  \n",
       "2  Bedb7c79d26ae95c2a9f14b51b3797ed8      1.0  2022-01-01  19:35:45     19  \n",
       "3  Cb32ccd5e11669b4c7c5e59fc3ffe7dba      2.0  2022-01-01  21:00:03     21  \n",
       "4  D964f8837a1a6326d0fe6bb36457874de      3.0  2022-01-01  15:47:29     15  "
      ],
      "text/html": [
       "<div>\n",
       "<style scoped>\n",
       "    .dataframe tbody tr th:only-of-type {\n",
       "        vertical-align: middle;\n",
       "    }\n",
       "\n",
       "    .dataframe tbody tr th {\n",
       "        vertical-align: top;\n",
       "    }\n",
       "\n",
       "    .dataframe thead th {\n",
       "        text-align: right;\n",
       "    }\n",
       "</style>\n",
       "<table border=\"1\" class=\"dataframe\">\n",
       "  <thead>\n",
       "    <tr style=\"text-align: right;\">\n",
       "      <th></th>\n",
       "      <th>time</th>\n",
       "      <th>lineID</th>\n",
       "      <th>stationID</th>\n",
       "      <th>deviceID</th>\n",
       "      <th>status</th>\n",
       "      <th>userID</th>\n",
       "      <th>payType</th>\n",
       "      <th>date1</th>\n",
       "      <th>date2</th>\n",
       "      <th>hours</th>\n",
       "    </tr>\n",
       "  </thead>\n",
       "  <tbody>\n",
       "    <tr>\n",
       "      <th>0</th>\n",
       "      <td>2022-01-01 14:34:23</td>\n",
       "      <td>B</td>\n",
       "      <td>19.0</td>\n",
       "      <td>1006.0</td>\n",
       "      <td>1.0</td>\n",
       "      <td>Cff263245447d6ad1fbc2c6166582234e</td>\n",
       "      <td>2.0</td>\n",
       "      <td>2022-01-01</td>\n",
       "      <td>14:34:23</td>\n",
       "      <td>14</td>\n",
       "    </tr>\n",
       "    <tr>\n",
       "      <th>1</th>\n",
       "      <td>2022-01-01 18:35:52</td>\n",
       "      <td>C</td>\n",
       "      <td>47.0</td>\n",
       "      <td>2271.0</td>\n",
       "      <td>1.0</td>\n",
       "      <td>A27aff32d8340333a616d62e12434ccbe</td>\n",
       "      <td>0.0</td>\n",
       "      <td>2022-01-01</td>\n",
       "      <td>18:35:52</td>\n",
       "      <td>18</td>\n",
       "    </tr>\n",
       "    <tr>\n",
       "      <th>2</th>\n",
       "      <td>2022-01-01 19:35:45</td>\n",
       "      <td>B</td>\n",
       "      <td>17.0</td>\n",
       "      <td>952.0</td>\n",
       "      <td>1.0</td>\n",
       "      <td>Bedb7c79d26ae95c2a9f14b51b3797ed8</td>\n",
       "      <td>1.0</td>\n",
       "      <td>2022-01-01</td>\n",
       "      <td>19:35:45</td>\n",
       "      <td>19</td>\n",
       "    </tr>\n",
       "    <tr>\n",
       "      <th>3</th>\n",
       "      <td>2022-01-01 21:00:03</td>\n",
       "      <td>B</td>\n",
       "      <td>27.0</td>\n",
       "      <td>1351.0</td>\n",
       "      <td>1.0</td>\n",
       "      <td>Cb32ccd5e11669b4c7c5e59fc3ffe7dba</td>\n",
       "      <td>2.0</td>\n",
       "      <td>2022-01-01</td>\n",
       "      <td>21:00:03</td>\n",
       "      <td>21</td>\n",
       "    </tr>\n",
       "    <tr>\n",
       "      <th>4</th>\n",
       "      <td>2022-01-01 15:47:29</td>\n",
       "      <td>B</td>\n",
       "      <td>0.0</td>\n",
       "      <td>0.0</td>\n",
       "      <td>0.0</td>\n",
       "      <td>D964f8837a1a6326d0fe6bb36457874de</td>\n",
       "      <td>3.0</td>\n",
       "      <td>2022-01-01</td>\n",
       "      <td>15:47:29</td>\n",
       "      <td>15</td>\n",
       "    </tr>\n",
       "  </tbody>\n",
       "</table>\n",
       "</div>"
      ]
     },
     "execution_count": 25,
     "metadata": {},
     "output_type": "execute_result"
    }
   ],
   "execution_count": 25
  },
  {
   "metadata": {},
   "cell_type": "markdown",
   "source": "#### 1.3 清除异常值",
   "id": "b4bafbe871335ac1"
  },
  {
   "metadata": {
    "ExecuteTime": {
     "end_time": "2024-09-08T02:33:53.760494Z",
     "start_time": "2024-09-08T02:33:53.733533Z"
    }
   },
   "cell_type": "code",
   "source": [
    "print(\"原始数据: \", df.shape[0])\n",
    "D = df[(df['hours'] <= 6) | (df['hours'] >= 23)]\n",
    "print(\"异常值: \", D.shape[0])\n",
    "\n",
    "df.drop(df[(df['hours'] <= 6) | (df['hours'] >= 23)].index, inplace=True)\n",
    "df.shape"
   ],
   "id": "4d23910afb9b161",
   "outputs": [
    {
     "name": "stdout",
     "output_type": "stream",
     "text": [
      "原始数据:  138933\n",
      "异常值:  2996\n"
     ]
    },
    {
     "data": {
      "text/plain": [
       "(135937, 10)"
      ]
     },
     "execution_count": 27,
     "metadata": {},
     "output_type": "execute_result"
    }
   ],
   "execution_count": 27
  },
  {
   "metadata": {
    "ExecuteTime": {
     "end_time": "2024-09-08T02:43:14.677445Z",
     "start_time": "2024-09-08T02:43:14.672118Z"
    }
   },
   "cell_type": "code",
   "source": [
    "# 查看地铁矩阵图\n",
    "import seaborn as sns\n",
    "road_map_path = '/Users/summer/PycharmProjects/deepLearningScratch/summer/dataset/Metro_roadMap.csv'\n",
    "road_map = pd.read_csv(road_map_path)\n",
    "print(road_map.shape)"
   ],
   "id": "74065c6060ca2380",
   "outputs": [
    {
     "name": "stdout",
     "output_type": "stream",
     "text": [
      "(81, 82)\n"
     ]
    }
   ],
   "execution_count": 30
  },
  {
   "metadata": {
    "ExecuteTime": {
     "end_time": "2024-09-08T02:45:16.696254Z",
     "start_time": "2024-09-08T02:45:16.687033Z"
    }
   },
   "cell_type": "code",
   "source": [
    "road_map = road_map.drop(['Unnamed: 0'], axis=1)\n",
    "road_map.head(5)"
   ],
   "id": "5bd857cb32e73b5f",
   "outputs": [
    {
     "data": {
      "text/plain": [
       "   0  1  2  3  4  5  6  7  8  9  ...  71  72  73  74  75  76  77  78  79  80\n",
       "0  0  1  0  0  0  0  0  0  0  0  ...   0   0   0   0   0   0   0   0   0   0\n",
       "1  1  0  1  0  0  0  0  0  0  0  ...   0   0   0   0   0   0   0   0   0   0\n",
       "2  0  1  0  1  0  0  0  0  0  0  ...   0   0   0   0   0   0   0   0   0   0\n",
       "3  0  0  1  0  1  0  0  0  0  0  ...   0   0   0   0   0   0   0   0   0   0\n",
       "4  0  0  0  1  0  1  0  0  0  0  ...   0   0   0   0   0   0   0   0   0   0\n",
       "\n",
       "[5 rows x 81 columns]"
      ],
      "text/html": [
       "<div>\n",
       "<style scoped>\n",
       "    .dataframe tbody tr th:only-of-type {\n",
       "        vertical-align: middle;\n",
       "    }\n",
       "\n",
       "    .dataframe tbody tr th {\n",
       "        vertical-align: top;\n",
       "    }\n",
       "\n",
       "    .dataframe thead th {\n",
       "        text-align: right;\n",
       "    }\n",
       "</style>\n",
       "<table border=\"1\" class=\"dataframe\">\n",
       "  <thead>\n",
       "    <tr style=\"text-align: right;\">\n",
       "      <th></th>\n",
       "      <th>0</th>\n",
       "      <th>1</th>\n",
       "      <th>2</th>\n",
       "      <th>3</th>\n",
       "      <th>4</th>\n",
       "      <th>5</th>\n",
       "      <th>6</th>\n",
       "      <th>7</th>\n",
       "      <th>8</th>\n",
       "      <th>9</th>\n",
       "      <th>...</th>\n",
       "      <th>71</th>\n",
       "      <th>72</th>\n",
       "      <th>73</th>\n",
       "      <th>74</th>\n",
       "      <th>75</th>\n",
       "      <th>76</th>\n",
       "      <th>77</th>\n",
       "      <th>78</th>\n",
       "      <th>79</th>\n",
       "      <th>80</th>\n",
       "    </tr>\n",
       "  </thead>\n",
       "  <tbody>\n",
       "    <tr>\n",
       "      <th>0</th>\n",
       "      <td>0</td>\n",
       "      <td>1</td>\n",
       "      <td>0</td>\n",
       "      <td>0</td>\n",
       "      <td>0</td>\n",
       "      <td>0</td>\n",
       "      <td>0</td>\n",
       "      <td>0</td>\n",
       "      <td>0</td>\n",
       "      <td>0</td>\n",
       "      <td>...</td>\n",
       "      <td>0</td>\n",
       "      <td>0</td>\n",
       "      <td>0</td>\n",
       "      <td>0</td>\n",
       "      <td>0</td>\n",
       "      <td>0</td>\n",
       "      <td>0</td>\n",
       "      <td>0</td>\n",
       "      <td>0</td>\n",
       "      <td>0</td>\n",
       "    </tr>\n",
       "    <tr>\n",
       "      <th>1</th>\n",
       "      <td>1</td>\n",
       "      <td>0</td>\n",
       "      <td>1</td>\n",
       "      <td>0</td>\n",
       "      <td>0</td>\n",
       "      <td>0</td>\n",
       "      <td>0</td>\n",
       "      <td>0</td>\n",
       "      <td>0</td>\n",
       "      <td>0</td>\n",
       "      <td>...</td>\n",
       "      <td>0</td>\n",
       "      <td>0</td>\n",
       "      <td>0</td>\n",
       "      <td>0</td>\n",
       "      <td>0</td>\n",
       "      <td>0</td>\n",
       "      <td>0</td>\n",
       "      <td>0</td>\n",
       "      <td>0</td>\n",
       "      <td>0</td>\n",
       "    </tr>\n",
       "    <tr>\n",
       "      <th>2</th>\n",
       "      <td>0</td>\n",
       "      <td>1</td>\n",
       "      <td>0</td>\n",
       "      <td>1</td>\n",
       "      <td>0</td>\n",
       "      <td>0</td>\n",
       "      <td>0</td>\n",
       "      <td>0</td>\n",
       "      <td>0</td>\n",
       "      <td>0</td>\n",
       "      <td>...</td>\n",
       "      <td>0</td>\n",
       "      <td>0</td>\n",
       "      <td>0</td>\n",
       "      <td>0</td>\n",
       "      <td>0</td>\n",
       "      <td>0</td>\n",
       "      <td>0</td>\n",
       "      <td>0</td>\n",
       "      <td>0</td>\n",
       "      <td>0</td>\n",
       "    </tr>\n",
       "    <tr>\n",
       "      <th>3</th>\n",
       "      <td>0</td>\n",
       "      <td>0</td>\n",
       "      <td>1</td>\n",
       "      <td>0</td>\n",
       "      <td>1</td>\n",
       "      <td>0</td>\n",
       "      <td>0</td>\n",
       "      <td>0</td>\n",
       "      <td>0</td>\n",
       "      <td>0</td>\n",
       "      <td>...</td>\n",
       "      <td>0</td>\n",
       "      <td>0</td>\n",
       "      <td>0</td>\n",
       "      <td>0</td>\n",
       "      <td>0</td>\n",
       "      <td>0</td>\n",
       "      <td>0</td>\n",
       "      <td>0</td>\n",
       "      <td>0</td>\n",
       "      <td>0</td>\n",
       "    </tr>\n",
       "    <tr>\n",
       "      <th>4</th>\n",
       "      <td>0</td>\n",
       "      <td>0</td>\n",
       "      <td>0</td>\n",
       "      <td>1</td>\n",
       "      <td>0</td>\n",
       "      <td>1</td>\n",
       "      <td>0</td>\n",
       "      <td>0</td>\n",
       "      <td>0</td>\n",
       "      <td>0</td>\n",
       "      <td>...</td>\n",
       "      <td>0</td>\n",
       "      <td>0</td>\n",
       "      <td>0</td>\n",
       "      <td>0</td>\n",
       "      <td>0</td>\n",
       "      <td>0</td>\n",
       "      <td>0</td>\n",
       "      <td>0</td>\n",
       "      <td>0</td>\n",
       "      <td>0</td>\n",
       "    </tr>\n",
       "  </tbody>\n",
       "</table>\n",
       "<p>5 rows × 81 columns</p>\n",
       "</div>"
      ]
     },
     "execution_count": 32,
     "metadata": {},
     "output_type": "execute_result"
    }
   ],
   "execution_count": 32
  },
  {
   "metadata": {
    "ExecuteTime": {
     "end_time": "2024-09-07T04:41:31.025360Z",
     "start_time": "2024-09-07T04:41:31.016899Z"
    }
   },
   "cell_type": "code",
   "source": [
    "# 地铁热力图\n",
    "def correlation_heatmap(df):\n",
    "    _, ax = plt.subplots(figsize=(16, 16))\n",
    "    colormap = sns.diverging_palette(150, 10, as_cmap=True)\n",
    "\n",
    "    _ = sns.heatmap(\n",
    "        df,\n",
    "        cmap=colormap,\n",
    "        square=True,\n",
    "        cbar_kws={\"shrink\": 0.5},\n",
    "        ax=ax,\n",
    "        linewidths=0.1, vmax=1.0, linecolor='white',\n",
    "    )\n",
    "    plt.title(\"\", y=1.05, size=15)\n",
    "\n",
    "\n",
    "correlation_heatmap(road_map)"
   ],
   "id": "3af7de4e47d8ce5c",
   "outputs": [
    {
     "ename": "SyntaxError",
     "evalue": "positional argument follows keyword argument (1948023293.py, line 13)",
     "output_type": "error",
     "traceback": [
      "\u001B[0;36m  Cell \u001B[0;32mIn[13], line 13\u001B[0;36m\u001B[0m\n\u001B[0;31m    )\u001B[0m\n\u001B[0m    ^\u001B[0m\n\u001B[0;31mSyntaxError\u001B[0m\u001B[0;31m:\u001B[0m positional argument follows keyword argument\n"
     ]
    }
   ],
   "execution_count": 13
  },
  {
   "metadata": {},
   "cell_type": "markdown",
   "source": "#### 绘制地铁线路数值分布柱状图",
   "id": "506751c4fefa4159"
  },
  {
   "metadata": {
    "ExecuteTime": {
     "end_time": "2024-09-07T04:46:24.592236Z",
     "start_time": "2024-09-07T04:46:24.561Z"
    }
   },
   "cell_type": "code",
   "source": [
    "y_A = df[df['lineID'] == 'A'].shape[0]\n",
    "y_B = df[df['lineID'] == 'B'].shape[0]\n",
    "y_C = df[df['lineID'] == 'C'].shape[0]\n",
    "print(\"LineA记录数: \", y_A, end='  ')\n",
    "print(\"LineB记录数: \", y_B, end='  ')\n",
    "print(\"LineC记录数: \", y_C, end='  ')\n",
    "\n",
    "x = ['Line A', 'Line B', 'Line C']\n",
    "y = [y_A, y_B, y_C]\n",
    "plt.title(\"\")\n",
    "plt.bar(x, y, width=0.3, label='线路分布')\n",
    "plt.xlabel(\"地铁线路\")\n",
    "plt.ylabel(\"数值分布\")\n",
    "plt.show()"
   ],
   "id": "a765250efc3d913c",
   "outputs": [
    {
     "ename": "NameError",
     "evalue": "name 'df' is not defined",
     "output_type": "error",
     "traceback": [
      "\u001B[0;31m---------------------------------------------------------------------------\u001B[0m",
      "\u001B[0;31mNameError\u001B[0m                                 Traceback (most recent call last)",
      "Cell \u001B[0;32mIn[14], line 1\u001B[0m\n\u001B[0;32m----> 1\u001B[0m y_A \u001B[38;5;241m=\u001B[39m \u001B[43mdf\u001B[49m[df[\u001B[38;5;124m'\u001B[39m\u001B[38;5;124mlineID\u001B[39m\u001B[38;5;124m'\u001B[39m]\u001B[38;5;241m==\u001B[39m\u001B[38;5;124m'\u001B[39m\u001B[38;5;124mA\u001B[39m\u001B[38;5;124m'\u001B[39m]\u001B[38;5;241m.\u001B[39mshape[\u001B[38;5;241m0\u001B[39m]\n\u001B[1;32m      2\u001B[0m y_B \u001B[38;5;241m=\u001B[39m df[df[\u001B[38;5;124m'\u001B[39m\u001B[38;5;124mlineID\u001B[39m\u001B[38;5;124m'\u001B[39m]\u001B[38;5;241m==\u001B[39m\u001B[38;5;124m'\u001B[39m\u001B[38;5;124mB\u001B[39m\u001B[38;5;124m'\u001B[39m]\u001B[38;5;241m.\u001B[39mshape[\u001B[38;5;241m0\u001B[39m]\n\u001B[1;32m      3\u001B[0m y_C \u001B[38;5;241m=\u001B[39m df[df[\u001B[38;5;124m'\u001B[39m\u001B[38;5;124mlineID\u001B[39m\u001B[38;5;124m'\u001B[39m]\u001B[38;5;241m==\u001B[39m\u001B[38;5;124m'\u001B[39m\u001B[38;5;124mC\u001B[39m\u001B[38;5;124m'\u001B[39m]\u001B[38;5;241m.\u001B[39mshape[\u001B[38;5;241m0\u001B[39m]\n",
      "\u001B[0;31mNameError\u001B[0m: name 'df' is not defined"
     ]
    }
   ],
   "execution_count": 14
  },
  {
   "metadata": {},
   "cell_type": "markdown",
   "source": "#### 使用seaborn库绘制地铁各个站点压力分布柱状图",
   "id": "e34d9d956f45e573"
  },
  {
   "metadata": {
    "ExecuteTime": {
     "end_time": "2024-09-07T04:51:47.171386Z",
     "start_time": "2024-09-07T04:51:47.143362Z"
    }
   },
   "cell_type": "code",
   "source": [
    "number_of_stationID = df.stationID.value_count()\n",
    "print(number_of_stationID)\n",
    "fig = plt.figure(figsize=(15, 8), dpi=80)\n",
    "plt.title(\"\")\n",
    "ax = sns.barplot(x=number_of_stationID.index, y=number_of_stationID, label=\"站点压力情况\")\n",
    "text = ax.set_xticklabels(ax.get_xticklabels())\n",
    "plt.xlabel(\"地铁站点（共80个）\")\n",
    "plt.ylabel(\"站点压力值\")\n",
    "plt.legend()\n",
    "plt.show()"
   ],
   "id": "4bf3cad72526b879",
   "outputs": [
    {
     "ename": "NameError",
     "evalue": "name 'df' is not defined",
     "output_type": "error",
     "traceback": [
      "\u001B[0;31m---------------------------------------------------------------------------\u001B[0m",
      "\u001B[0;31mNameError\u001B[0m                                 Traceback (most recent call last)",
      "Cell \u001B[0;32mIn[15], line 1\u001B[0m\n\u001B[0;32m----> 1\u001B[0m number_of_stationID \u001B[38;5;241m=\u001B[39m \u001B[43mdf\u001B[49m\u001B[38;5;241m.\u001B[39mstationID\u001B[38;5;241m.\u001B[39mvalue_count()\n\u001B[1;32m      2\u001B[0m \u001B[38;5;28mprint\u001B[39m(number_of_stationID)\n\u001B[1;32m      3\u001B[0m fig \u001B[38;5;241m=\u001B[39m plt\u001B[38;5;241m.\u001B[39mfigure(figsize\u001B[38;5;241m=\u001B[39m(\u001B[38;5;241m15\u001B[39m, \u001B[38;5;241m8\u001B[39m), dpi\u001B[38;5;241m=\u001B[39m\u001B[38;5;241m80\u001B[39m)\n",
      "\u001B[0;31mNameError\u001B[0m: name 'df' is not defined"
     ]
    }
   ],
   "execution_count": 15
  },
  {
   "metadata": {
    "ExecuteTime": {
     "end_time": "2024-09-07T04:53:50.825664Z",
     "start_time": "2024-09-07T04:53:50.809583Z"
    }
   },
   "cell_type": "code",
   "source": "df.groupby('lineID')['stationID'].nunique()",
   "id": "a813ec49f0b02fe0",
   "outputs": [
    {
     "ename": "NameError",
     "evalue": "name 'df' is not defined",
     "output_type": "error",
     "traceback": [
      "\u001B[0;31m---------------------------------------------------------------------------\u001B[0m",
      "\u001B[0;31mNameError\u001B[0m                                 Traceback (most recent call last)",
      "Cell \u001B[0;32mIn[16], line 1\u001B[0m\n\u001B[0;32m----> 1\u001B[0m \u001B[43mdf\u001B[49m\u001B[38;5;241m.\u001B[39mgroupby(\u001B[38;5;124m'\u001B[39m\u001B[38;5;124mlineID\u001B[39m\u001B[38;5;124m'\u001B[39m)[\u001B[38;5;124m'\u001B[39m\u001B[38;5;124mstationID\u001B[39m\u001B[38;5;124m'\u001B[39m]\u001B[38;5;241m.\u001B[39mnunique()\n",
      "\u001B[0;31mNameError\u001B[0m: name 'df' is not defined"
     ]
    }
   ],
   "execution_count": 16
  },
  {
   "metadata": {
    "ExecuteTime": {
     "end_time": "2024-09-07T04:55:03.268794Z",
     "start_time": "2024-09-07T04:55:03.253Z"
    }
   },
   "cell_type": "code",
   "source": [
    "LineStation = [['A', 14], ['B', 34], ['C', 32]]\n",
    "LineStation = pd.DataFrame(LineStation, columns=['lineID', 'stationNum'])\n",
    "LineStation.head()"
   ],
   "id": "7a289d2751f35d3e",
   "outputs": [
    {
     "data": {
      "text/plain": [
       "  lineID  stationNum\n",
       "0      A          14"
      ],
      "text/html": [
       "<div>\n",
       "<style scoped>\n",
       "    .dataframe tbody tr th:only-of-type {\n",
       "        vertical-align: middle;\n",
       "    }\n",
       "\n",
       "    .dataframe tbody tr th {\n",
       "        vertical-align: top;\n",
       "    }\n",
       "\n",
       "    .dataframe thead th {\n",
       "        text-align: right;\n",
       "    }\n",
       "</style>\n",
       "<table border=\"1\" class=\"dataframe\">\n",
       "  <thead>\n",
       "    <tr style=\"text-align: right;\">\n",
       "      <th></th>\n",
       "      <th>lineID</th>\n",
       "      <th>stationNum</th>\n",
       "    </tr>\n",
       "  </thead>\n",
       "  <tbody>\n",
       "    <tr>\n",
       "      <th>0</th>\n",
       "      <td>A</td>\n",
       "      <td>14</td>\n",
       "    </tr>\n",
       "  </tbody>\n",
       "</table>\n",
       "</div>"
      ]
     },
     "execution_count": 17,
     "metadata": {},
     "output_type": "execute_result"
    }
   ],
   "execution_count": 17
  },
  {
   "metadata": {},
   "cell_type": "markdown",
   "source": "#### 筛选出线路ABC的进出站数据",
   "id": "9bc3e25d7d509842"
  },
  {
   "metadata": {
    "ExecuteTime": {
     "end_time": "2024-09-07T05:00:31.717997Z",
     "start_time": "2024-09-07T05:00:31.693705Z"
    }
   },
   "cell_type": "code",
   "source": [
    "A_status_1 = df[(df['lineID'] == 'A') & df(df['status'] == 1.0)].shape[0]\n",
    "A_status_0 = df[(df['lineID'] == 'A') & df(df['status'] == 0.0)].shape[0]\n",
    "\n",
    "B_status_1 = df[(df['lineID'] == 'B') & df(df['status'] == 1.0)].shape[0]\n",
    "B_status_0 = df[(df['lineID'] == 'B') & df(df['status'] == 0.0)].shape[0]\n",
    "\n",
    "C_status_1 = df[(df['lineID'] == 'C') & df(df['status'] == 1.0)].shape[0]\n",
    "C_status_0 = df[(df['lineID'] == 'C') & df(df['status'] == 0.0)].shape[0]\n",
    "\n",
    "print(\"线路A进出站数据: \", A_status_1, A_status_0)\n",
    "print(\"线路B进出站数据: \", B_status_1, B_status_0)\n",
    "print(\"线路C进出站数据: \", C_status_1, C_status_0)"
   ],
   "id": "4ee126db9fe2872",
   "outputs": [
    {
     "ename": "NameError",
     "evalue": "name 'df' is not defined",
     "output_type": "error",
     "traceback": [
      "\u001B[0;31m---------------------------------------------------------------------------\u001B[0m",
      "\u001B[0;31mNameError\u001B[0m                                 Traceback (most recent call last)",
      "Cell \u001B[0;32mIn[18], line 1\u001B[0m\n\u001B[0;32m----> 1\u001B[0m A_status_1 \u001B[38;5;241m=\u001B[39m \u001B[43mdf\u001B[49m[(df[\u001B[38;5;124m'\u001B[39m\u001B[38;5;124mlineID\u001B[39m\u001B[38;5;124m'\u001B[39m] \u001B[38;5;241m==\u001B[39m \u001B[38;5;124m'\u001B[39m\u001B[38;5;124mA\u001B[39m\u001B[38;5;124m'\u001B[39m) \u001B[38;5;241m&\u001B[39m df(df[\u001B[38;5;124m'\u001B[39m\u001B[38;5;124mstatus\u001B[39m\u001B[38;5;124m'\u001B[39m] \u001B[38;5;241m==\u001B[39m \u001B[38;5;241m1.0\u001B[39m)]\u001B[38;5;241m.\u001B[39mshape[\u001B[38;5;241m0\u001B[39m]\n\u001B[1;32m      2\u001B[0m A_status_0 \u001B[38;5;241m=\u001B[39m df[(df[\u001B[38;5;124m'\u001B[39m\u001B[38;5;124mlineID\u001B[39m\u001B[38;5;124m'\u001B[39m] \u001B[38;5;241m==\u001B[39m \u001B[38;5;124m'\u001B[39m\u001B[38;5;124mA\u001B[39m\u001B[38;5;124m'\u001B[39m) \u001B[38;5;241m&\u001B[39m df(df[\u001B[38;5;124m'\u001B[39m\u001B[38;5;124mstatus\u001B[39m\u001B[38;5;124m'\u001B[39m] \u001B[38;5;241m==\u001B[39m \u001B[38;5;241m0.0\u001B[39m)]\u001B[38;5;241m.\u001B[39mshape[\u001B[38;5;241m0\u001B[39m]\n\u001B[1;32m      4\u001B[0m B_status_1 \u001B[38;5;241m=\u001B[39m df[(df[\u001B[38;5;124m'\u001B[39m\u001B[38;5;124mlineID\u001B[39m\u001B[38;5;124m'\u001B[39m] \u001B[38;5;241m==\u001B[39m \u001B[38;5;124m'\u001B[39m\u001B[38;5;124mB\u001B[39m\u001B[38;5;124m'\u001B[39m) \u001B[38;5;241m&\u001B[39m df(df[\u001B[38;5;124m'\u001B[39m\u001B[38;5;124mstatus\u001B[39m\u001B[38;5;124m'\u001B[39m] \u001B[38;5;241m==\u001B[39m \u001B[38;5;241m1.0\u001B[39m)]\u001B[38;5;241m.\u001B[39mshape[\u001B[38;5;241m0\u001B[39m]\n",
      "\u001B[0;31mNameError\u001B[0m: name 'df' is not defined"
     ]
    }
   ],
   "execution_count": 18
  },
  {
   "metadata": {},
   "cell_type": "markdown",
   "source": "#### 绘制三条线路的进出站情况（柱状图）",
   "id": "81a51752c6e3cc1a"
  },
  {
   "metadata": {
    "ExecuteTime": {
     "end_time": "2024-09-07T05:06:11.380779Z",
     "start_time": "2024-09-07T05:06:11.351922Z"
    }
   },
   "cell_type": "code",
   "source": [
    "x = ['Line A', 'Line B', 'Line C']\n",
    "y_1 = [A_status_1, B_status_1, C_status_1]\n",
    "y_2 = [A_status_0, B_status_0, C_status_0]\n",
    "\n",
    "bar_width = 0.2\n",
    "x_1 = list(range(len(x)))\n",
    "x_2 = [i + bar_width for i in x_1]\n",
    "plt.figure(figsize=(10, 8), dpi=80)\n",
    "plt.grid(alpha=0.5)\n",
    "plt.title(\"\")\n",
    "\n",
    "plt.bar(range(len(x)), y_1, width=bar_width, color='#FFC0FB', label=\"进站情况\")\n",
    "plt.bar(x_2, y_2, width=bar_width, color='#00FFFF', label=\"出站情况\")\n",
    "plt.xlabel(\"地铁线路\")\n",
    "plt.ylabel(\"数值分布\")\n",
    "plt.legend()\n",
    "plt.xticks(range(len(x)), x)\n",
    "plt.show()"
   ],
   "id": "b5952b64ef72b46b",
   "outputs": [
    {
     "ename": "NameError",
     "evalue": "name 'A_status_1' is not defined",
     "output_type": "error",
     "traceback": [
      "\u001B[0;31m---------------------------------------------------------------------------\u001B[0m",
      "\u001B[0;31mNameError\u001B[0m                                 Traceback (most recent call last)",
      "Cell \u001B[0;32mIn[19], line 2\u001B[0m\n\u001B[1;32m      1\u001B[0m x \u001B[38;5;241m=\u001B[39m [\u001B[38;5;124m'\u001B[39m\u001B[38;5;124mLine A\u001B[39m\u001B[38;5;124m'\u001B[39m, \u001B[38;5;124m'\u001B[39m\u001B[38;5;124mLine B\u001B[39m\u001B[38;5;124m'\u001B[39m, \u001B[38;5;124m'\u001B[39m\u001B[38;5;124mLine C\u001B[39m\u001B[38;5;124m'\u001B[39m]\n\u001B[0;32m----> 2\u001B[0m y_1 \u001B[38;5;241m=\u001B[39m [\u001B[43mA_status_1\u001B[49m, B_status_1, C_status_1]\n\u001B[1;32m      3\u001B[0m y_2 \u001B[38;5;241m=\u001B[39m [A_status_0, B_status_0, C_status_0]\n\u001B[1;32m      5\u001B[0m bar_width \u001B[38;5;241m=\u001B[39m \u001B[38;5;241m0.2\u001B[39m\n",
      "\u001B[0;31mNameError\u001B[0m: name 'A_status_1' is not defined"
     ]
    }
   ],
   "execution_count": 19
  },
  {
   "metadata": {
    "ExecuteTime": {
     "end_time": "2024-09-07T05:06:50.556441Z",
     "start_time": "2024-09-07T05:06:50.540401Z"
    }
   },
   "cell_type": "code",
   "source": [
    "pd.set_option('display.max_rows', None)\n",
    "df.groupby('stationID')['deviceID'].nunique()"
   ],
   "id": "df02c28ced437346",
   "outputs": [
    {
     "ename": "NameError",
     "evalue": "name 'df' is not defined",
     "output_type": "error",
     "traceback": [
      "\u001B[0;31m---------------------------------------------------------------------------\u001B[0m",
      "\u001B[0;31mNameError\u001B[0m                                 Traceback (most recent call last)",
      "Cell \u001B[0;32mIn[20], line 2\u001B[0m\n\u001B[1;32m      1\u001B[0m pd\u001B[38;5;241m.\u001B[39mset_option(\u001B[38;5;124m'\u001B[39m\u001B[38;5;124mdisplay.max_rows\u001B[39m\u001B[38;5;124m'\u001B[39m, \u001B[38;5;28;01mNone\u001B[39;00m)\n\u001B[0;32m----> 2\u001B[0m \u001B[43mdf\u001B[49m\u001B[38;5;241m.\u001B[39mgroupby(\u001B[38;5;124m'\u001B[39m\u001B[38;5;124mstationID\u001B[39m\u001B[38;5;124m'\u001B[39m)[\u001B[38;5;124m'\u001B[39m\u001B[38;5;124mdeviceID\u001B[39m\u001B[38;5;124m'\u001B[39m]\u001B[38;5;241m.\u001B[39mnunique()\n",
      "\u001B[0;31mNameError\u001B[0m: name 'df' is not defined"
     ]
    }
   ],
   "execution_count": 20
  },
  {
   "metadata": {},
   "cell_type": "markdown",
   "source": "#### 用户、刷卡类型",
   "id": "2f59828dc283f353"
  },
  {
   "metadata": {
    "ExecuteTime": {
     "end_time": "2024-09-07T05:09:52.351823Z",
     "start_time": "2024-09-07T05:09:52.326583Z"
    }
   },
   "cell_type": "code",
   "source": [
    "print('用户数: ', df.userID.nunique())\n",
    "print('刷卡类型统计: ', df.payType.value_counts())\n",
    "print(\"刷卡类型用户分布: \", df.groupby('payType')['userID'].nunique())"
   ],
   "id": "d30580ec12555899",
   "outputs": [
    {
     "ename": "NameError",
     "evalue": "name 'df' is not defined",
     "output_type": "error",
     "traceback": [
      "\u001B[0;31m---------------------------------------------------------------------------\u001B[0m",
      "\u001B[0;31mNameError\u001B[0m                                 Traceback (most recent call last)",
      "Cell \u001B[0;32mIn[21], line 1\u001B[0m\n\u001B[0;32m----> 1\u001B[0m \u001B[38;5;28mprint\u001B[39m(\u001B[38;5;124m'\u001B[39m\u001B[38;5;124m用户数: \u001B[39m\u001B[38;5;124m'\u001B[39m, \u001B[43mdf\u001B[49m\u001B[38;5;241m.\u001B[39muserID\u001B[38;5;241m.\u001B[39mnunique())\n\u001B[1;32m      2\u001B[0m \u001B[38;5;28mprint\u001B[39m(\u001B[38;5;124m'\u001B[39m\u001B[38;5;124m刷卡类型统计: \u001B[39m\u001B[38;5;124m'\u001B[39m, df\u001B[38;5;241m.\u001B[39mpayType\u001B[38;5;241m.\u001B[39mvalue_counts())\n\u001B[1;32m      3\u001B[0m \u001B[38;5;28mprint\u001B[39m(\u001B[38;5;124m\"\u001B[39m\u001B[38;5;124m刷卡类型用户分布: \u001B[39m\u001B[38;5;124m\"\u001B[39m, df\u001B[38;5;241m.\u001B[39mgroupby(\u001B[38;5;124m'\u001B[39m\u001B[38;5;124mpayType\u001B[39m\u001B[38;5;124m'\u001B[39m)[\u001B[38;5;124m'\u001B[39m\u001B[38;5;124muserID\u001B[39m\u001B[38;5;124m'\u001B[39m]\u001B[38;5;241m.\u001B[39mnunique())\n",
      "\u001B[0;31mNameError\u001B[0m: name 'df' is not defined"
     ]
    }
   ],
   "execution_count": 21
  },
  {
   "metadata": {
    "ExecuteTime": {
     "end_time": "2024-09-07T05:12:58.299311Z",
     "start_time": "2024-09-07T05:12:58.188899Z"
    }
   },
   "cell_type": "code",
   "source": [
    "# 绘制直方图\n",
    "fig = plt.figure()\n",
    "ax = fig.add_subplot(111)\n",
    "ax.hist(df['hours'], bins=16, color='#00CED1', edgecolor='white')\n",
    "plt.title(\"\")\n",
    "plt.xlabel(\"每小时\")\n",
    "plt.ylabel(\"数值分布\")\n",
    "x_list = [x for x in range(7, 23)]\n",
    "plt.xticks(x_list)\n",
    "plt.show()"
   ],
   "id": "e55a90d1a074988f",
   "outputs": [
    {
     "ename": "NameError",
     "evalue": "name 'df' is not defined",
     "output_type": "error",
     "traceback": [
      "\u001B[0;31m---------------------------------------------------------------------------\u001B[0m",
      "\u001B[0;31mNameError\u001B[0m                                 Traceback (most recent call last)",
      "Cell \u001B[0;32mIn[22], line 4\u001B[0m\n\u001B[1;32m      2\u001B[0m fig \u001B[38;5;241m=\u001B[39m plt\u001B[38;5;241m.\u001B[39mfigure()\n\u001B[1;32m      3\u001B[0m ax \u001B[38;5;241m=\u001B[39m fig\u001B[38;5;241m.\u001B[39madd_subplot(\u001B[38;5;241m111\u001B[39m)\n\u001B[0;32m----> 4\u001B[0m ax\u001B[38;5;241m.\u001B[39mhist(\u001B[43mdf\u001B[49m[\u001B[38;5;124m'\u001B[39m\u001B[38;5;124mhours\u001B[39m\u001B[38;5;124m'\u001B[39m], bins\u001B[38;5;241m=\u001B[39m\u001B[38;5;241m16\u001B[39m, color\u001B[38;5;241m=\u001B[39m\u001B[38;5;124m'\u001B[39m\u001B[38;5;124m#00CED1\u001B[39m\u001B[38;5;124m'\u001B[39m, edgecolor\u001B[38;5;241m=\u001B[39m\u001B[38;5;124m'\u001B[39m\u001B[38;5;124mwhite\u001B[39m\u001B[38;5;124m'\u001B[39m)\n\u001B[1;32m      5\u001B[0m plt\u001B[38;5;241m.\u001B[39mtitle(\u001B[38;5;124m\"\u001B[39m\u001B[38;5;124m\"\u001B[39m)\n\u001B[1;32m      6\u001B[0m plt\u001B[38;5;241m.\u001B[39mxlabel(\u001B[38;5;124m\"\u001B[39m\u001B[38;5;124m每小时\u001B[39m\u001B[38;5;124m\"\u001B[39m)\n",
      "\u001B[0;31mNameError\u001B[0m: name 'df' is not defined"
     ]
    },
    {
     "name": "stderr",
     "output_type": "stream",
     "text": [
      "findfont: Font family 'SimHei' not found.\n",
      "findfont: Font family 'SimHei' not found.\n",
      "findfont: Font family 'SimHei' not found.\n",
      "findfont: Font family 'SimHei' not found.\n",
      "findfont: Font family 'SimHei' not found.\n",
      "findfont: Font family 'SimHei' not found.\n",
      "findfont: Font family 'SimHei' not found.\n",
      "findfont: Font family 'SimHei' not found.\n",
      "findfont: Font family 'SimHei' not found.\n",
      "findfont: Font family 'SimHei' not found.\n",
      "findfont: Font family 'SimHei' not found.\n",
      "findfont: Font family 'SimHei' not found.\n",
      "findfont: Font family 'SimHei' not found.\n",
      "findfont: Font family 'SimHei' not found.\n",
      "findfont: Font family 'SimHei' not found.\n",
      "findfont: Font family 'SimHei' not found.\n",
      "findfont: Font family 'SimHei' not found.\n",
      "findfont: Font family 'SimHei' not found.\n",
      "findfont: Font family 'SimHei' not found.\n",
      "findfont: Font family 'SimHei' not found.\n",
      "findfont: Font family 'SimHei' not found.\n",
      "findfont: Font family 'SimHei' not found.\n",
      "findfont: Font family 'SimHei' not found.\n",
      "findfont: Font family 'SimHei' not found.\n",
      "findfont: Font family 'SimHei' not found.\n",
      "findfont: Font family 'SimHei' not found.\n",
      "findfont: Font family 'SimHei' not found.\n",
      "findfont: Font family 'SimHei' not found.\n",
      "findfont: Font family 'SimHei' not found.\n",
      "findfont: Font family 'SimHei' not found.\n",
      "findfont: Font family 'SimHei' not found.\n",
      "findfont: Font family 'SimHei' not found.\n",
      "findfont: Font family 'SimHei' not found.\n",
      "findfont: Font family 'SimHei' not found.\n",
      "findfont: Font family 'SimHei' not found.\n",
      "findfont: Font family 'SimHei' not found.\n",
      "findfont: Font family 'SimHei' not found.\n",
      "findfont: Font family 'SimHei' not found.\n"
     ]
    },
    {
     "data": {
      "text/plain": [
       "<Figure size 640x480 with 1 Axes>"
      ],
      "image/png": "[encoded data removed]"
     },
     "metadata": {},
     "output_type": "display_data"
    }
   ],
   "execution_count": 22
  },
  {
   "metadata": {
    "ExecuteTime": {
     "end_time": "2024-09-07T05:14:52.111478Z",
     "start_time": "2024-09-07T05:14:52.095252Z"
    }
   },
   "cell_type": "code",
   "source": [
    "# 根据进出站状态对直方图进行调整\n",
    "g = sns.FacetGrid(df, col='status')\n",
    "g.map(plt.hist, 'hour', color='#3CB371', edgecolor='white', alpha=.75, bins=16)\n",
    "x_list = [x for x in range(7, 23, 2)]\n",
    "plt.xticks(x_list)\n",
    "plt.show()"
   ],
   "id": "ad40dcd60140af00",
   "outputs": [
    {
     "ename": "NameError",
     "evalue": "name 'sns' is not defined",
     "output_type": "error",
     "traceback": [
      "\u001B[0;31m---------------------------------------------------------------------------\u001B[0m",
      "\u001B[0;31mNameError\u001B[0m                                 Traceback (most recent call last)",
      "Cell \u001B[0;32mIn[23], line 2\u001B[0m\n\u001B[1;32m      1\u001B[0m \u001B[38;5;66;03m# 根据进出站状态对直方图进行调整\u001B[39;00m\n\u001B[0;32m----> 2\u001B[0m g \u001B[38;5;241m=\u001B[39m \u001B[43msns\u001B[49m\u001B[38;5;241m.\u001B[39mFacetGrid(df, col\u001B[38;5;241m=\u001B[39m\u001B[38;5;124m'\u001B[39m\u001B[38;5;124mstatus\u001B[39m\u001B[38;5;124m'\u001B[39m)\n\u001B[1;32m      3\u001B[0m g\u001B[38;5;241m.\u001B[39mmap(plt\u001B[38;5;241m.\u001B[39mhist, \u001B[38;5;124m'\u001B[39m\u001B[38;5;124mhour\u001B[39m\u001B[38;5;124m'\u001B[39m, color\u001B[38;5;241m=\u001B[39m\u001B[38;5;124m'\u001B[39m\u001B[38;5;124m#3CB371\u001B[39m\u001B[38;5;124m'\u001B[39m, edgecolor\u001B[38;5;241m=\u001B[39m\u001B[38;5;124m'\u001B[39m\u001B[38;5;124mwhite\u001B[39m\u001B[38;5;124m'\u001B[39m, alpha\u001B[38;5;241m=\u001B[39m\u001B[38;5;241m.75\u001B[39m, bins\u001B[38;5;241m=\u001B[39m\u001B[38;5;241m16\u001B[39m)\n\u001B[1;32m      4\u001B[0m x_list \u001B[38;5;241m=\u001B[39m [x \u001B[38;5;28;01mfor\u001B[39;00m x \u001B[38;5;129;01min\u001B[39;00m \u001B[38;5;28mrange\u001B[39m(\u001B[38;5;241m7\u001B[39m, \u001B[38;5;241m23\u001B[39m, \u001B[38;5;241m2\u001B[39m)]\n",
      "\u001B[0;31mNameError\u001B[0m: name 'sns' is not defined"
     ]
    }
   ],
   "execution_count": 23
  },
  {
   "metadata": {},
   "cell_type": "code",
   "outputs": [],
   "execution_count": null,
   "source": "",
   "id": "3f020d66dad0c77f"
  }
 ],
 "metadata": {
  "kernelspec": {
   "display_name": "Python 3",
   "language": "python",
   "name": "python3"
  },
  "language_info": {
   "codemirror_mode": {
    "name": "ipython",
    "version": 2
   },
   "file_extension": ".py",
   "mimetype": "text/x-python",
   "name": "python",
   "nbconvert_exporter": "python",
   "pygments_lexer": "ipython2",
   "version": "2.7.6"
  }
 },
 "nbformat": 4,
 "nbformat_minor": 5
}
