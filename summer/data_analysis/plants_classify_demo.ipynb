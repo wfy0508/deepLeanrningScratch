{
 "cells": [
  {
   "cell_type": "code",
   "id": "initial_id",
   "metadata": {
    "collapsed": true,
    "ExecuteTime": {
     "end_time": "2024-09-08T14:55:41.816733Z",
     "start_time": "2024-09-08T14:55:41.811895Z"
    }
   },
   "source": [
    "import os\n",
    "from sklearn.model_selection import train_test_split\n",
    "from sklearn.preprocessing import StandardScaler\n",
    "import matplotlib.pyplot as plt\n",
    "import pandas as pd\n",
    "import numpy as np\n",
    "import torch\n",
    "from torch import nn\n",
    "from torch import optim\n",
    "from torch.utils.data import TensorDataset, DataLoader"
   ],
   "outputs": [],
   "execution_count": 16
  },
  {
   "metadata": {},
   "cell_type": "markdown",
   "source": "#### 1、 将原始《covtype.csv》数据集划分为训练集（70%）和测试集（30%）",
   "id": "2bba2fa34c247c9f"
  },
  {
   "metadata": {
    "ExecuteTime": {
     "end_time": "2024-09-08T15:05:50.314214Z",
     "start_time": "2024-09-08T15:05:46.378733Z"
    }
   },
   "cell_type": "code",
   "source": [
    "# 读取数据集\n",
    "parent_dir = os.path.abspath(os.pardir)\n",
    "data = pd.read_csv(parent_dir + '/dataset/cov_type.csv')\n",
    "data.iloc[:, -1] = data.iloc[:, -1] - 1\n",
    "\n",
    "# 划分特征和标签\n",
    "features = data.iloc[:, :-1]\n",
    "label = data.iloc[:, -1]\n",
    "\n",
    "# 划分数据集\n",
    "train_data, test_data = train_test_split(data, test_size=0.3, random_state=42)\n",
    "\n",
    "# 保存数据集\n",
    "train_data.to_csv(parent_dir + '/dataset/cov_type_train.csv', index=False)\n",
    "test_data.to_csv(parent_dir + '/dataset/cov_type_test.csv', index=False)\n",
    "\n",
    "# 训练集和测试集样本量\n",
    "print('Train data shape', train_data.shape)\n",
    "print('Test data shape', test_data.shape)"
   ],
   "id": "2f78ff82612e0245",
   "outputs": [
    {
     "name": "stdout",
     "output_type": "stream",
     "text": [
      "Train data shape (406708, 55)\n",
      "Test data shape (174304, 55)\n"
     ]
    }
   ],
   "execution_count": 29
  },
  {
   "metadata": {},
   "cell_type": "markdown",
   "source": "#### 2、使用pandas读取《covtype_train.csv》和《covtype_test.csv》数据。",
   "id": "b071bda59bb22b89"
  },
  {
   "metadata": {
    "ExecuteTime": {
     "end_time": "2024-09-08T15:06:57.017873Z",
     "start_time": "2024-09-08T15:06:56.279341Z"
    }
   },
   "cell_type": "code",
   "source": [
    "# 读取训练集和测试集\n",
    "train_data = pd.read_csv(parent_dir + '/dataset/cov_type_train.csv')\n",
    "test_data = pd.read_csv(parent_dir + '/dataset/cov_type_test.csv')\n",
    "\n",
    "# 划分特征和标签\n",
    "train_features = train_data.iloc[:, :-1]\n",
    "train_labels = train_data.iloc[:, -1]\n",
    "test_features = test_data.iloc[:, :-1]\n",
    "test_labels = test_data.iloc[:, -1]\n",
    "print('test label shape', test_labels.shape)"
   ],
   "id": "74e98fc45bf9d98e",
   "outputs": [
    {
     "name": "stdout",
     "output_type": "stream",
     "text": [
      "test label shape (174304,)\n"
     ]
    }
   ],
   "execution_count": 32
  },
  {
   "metadata": {},
   "cell_type": "markdown",
   "source": "#### 3、利用StandardScaler获得训练集特征的均值向量u和标准差向量s",
   "id": "e15023d12782dd16"
  },
  {
   "metadata": {
    "ExecuteTime": {
     "end_time": "2024-09-07T03:30:51.072246Z",
     "start_time": "2024-09-07T03:30:51.041899Z"
    }
   },
   "cell_type": "code",
   "source": [
    "# 创建StandardScaler对象\n",
    "scaler = StandardScaler()\n",
    "\n",
    "# 使用训练数据拟合Scaler\n",
    "scaler.fit(train_features)\n",
    "\n",
    "print(\"训练集特征的均值向量u = \", scaler.mean_)\n",
    "print((\"标准差向量s = \", scaler.var_))"
   ],
   "id": "f49d55942c9a753d",
   "outputs": [
    {
     "ename": "NameError",
     "evalue": "name 'train_features' is not defined",
     "output_type": "error",
     "traceback": [
      "\u001B[0;31m---------------------------------------------------------------------------\u001B[0m",
      "\u001B[0;31mNameError\u001B[0m                                 Traceback (most recent call last)",
      "Cell \u001B[0;32mIn[7], line 5\u001B[0m\n\u001B[1;32m      2\u001B[0m scaler \u001B[38;5;241m=\u001B[39m StandardScaler()\n\u001B[1;32m      4\u001B[0m \u001B[38;5;66;03m# 使用训练数据拟合Scaler\u001B[39;00m\n\u001B[0;32m----> 5\u001B[0m scaler\u001B[38;5;241m.\u001B[39mfit(\u001B[43mtrain_features\u001B[49m)\n\u001B[1;32m      7\u001B[0m \u001B[38;5;28mprint\u001B[39m(\u001B[38;5;124m\"\u001B[39m\u001B[38;5;124m训练集特征的均值向量u = \u001B[39m\u001B[38;5;124m\"\u001B[39m, scaler\u001B[38;5;241m.\u001B[39mmean_)\n\u001B[1;32m      8\u001B[0m \u001B[38;5;28mprint\u001B[39m((\u001B[38;5;124m\"\u001B[39m\u001B[38;5;124m标准差向量s = \u001B[39m\u001B[38;5;124m\"\u001B[39m, scaler\u001B[38;5;241m.\u001B[39mvar_))\n",
      "\u001B[0;31mNameError\u001B[0m: name 'train_features' is not defined"
     ]
    }
   ],
   "execution_count": 7
  },
  {
   "metadata": {},
   "cell_type": "markdown",
   "source": "#### 4、 利用u和s对训练集和测试集特征进行归一化",
   "id": "8befa22cced4da5c"
  },
  {
   "metadata": {
    "ExecuteTime": {
     "end_time": "2024-09-07T03:33:54.283087Z",
     "start_time": "2024-09-07T03:33:54.245203Z"
    }
   },
   "cell_type": "code",
   "source": [
    "# 对训练集特征进行归一化\n",
    "train_features = scaler.transform(train_features)\n",
    "\n",
    "# 对测试集特征进行归一化\n",
    "test_features = scaler.transform(test_features)\n",
    "\n",
    "print(\"归一化后，训练集特征均值向量u = \", np.mean(train_features, axis=0))\n",
    "print(\"归一化后，训练集特征标准差向量s = \", np.std(train_features, axis=0))\n",
    "print(\"归一化后，测试集特征均值向量u = \", np.mean(test_features, axis=0))\n",
    "print(\"归一化后，测试集特征均值向量u = \", np.std(test_features, axis=0))"
   ],
   "id": "61cedecbba0365e0",
   "outputs": [
    {
     "ename": "NameError",
     "evalue": "name 'train_features' is not defined",
     "output_type": "error",
     "traceback": [
      "\u001B[0;31m---------------------------------------------------------------------------\u001B[0m",
      "\u001B[0;31mNameError\u001B[0m                                 Traceback (most recent call last)",
      "Cell \u001B[0;32mIn[8], line 2\u001B[0m\n\u001B[1;32m      1\u001B[0m \u001B[38;5;66;03m# 对训练集特征进行归一化\u001B[39;00m\n\u001B[0;32m----> 2\u001B[0m train_features \u001B[38;5;241m=\u001B[39m scaler\u001B[38;5;241m.\u001B[39mtransform(\u001B[43mtrain_features\u001B[49m)\n\u001B[1;32m      4\u001B[0m \u001B[38;5;66;03m# 对测试集特征进行归一化\u001B[39;00m\n\u001B[1;32m      5\u001B[0m test_features \u001B[38;5;241m=\u001B[39m scaler\u001B[38;5;241m.\u001B[39mtransform(test_features)\n",
      "\u001B[0;31mNameError\u001B[0m: name 'train_features' is not defined"
     ]
    }
   ],
   "execution_count": 8
  },
  {
   "metadata": {},
   "cell_type": "markdown",
   "source": "#### 5、保留10%的训练集作为验证集",
   "id": "1d26012277127a16"
  },
  {
   "metadata": {
    "ExecuteTime": {
     "end_time": "2024-09-07T03:37:44.540305Z",
     "start_time": "2024-09-07T03:37:44.508919Z"
    }
   },
   "cell_type": "code",
   "source": [
    "train_features, valid_features, train_labels, valid_labels = train_test_split(train_features, train_labels,\n",
    "                                                                              test_size=0.1, random_state=42)\n",
    "print(\"训练集特征矩阵维度：\", train_features.shape, \"训练集标签矩阵维度：\", train_labels.shape)\n",
    "print(\"验证集特征矩阵维度：\", valid_features.shape, \"验证集标签矩阵维度：\", valid_labels.shape)\n",
    "print(\"测试集特征矩阵维度：\", test_features.shape, \"测试集标签矩阵维度：\", test_labels.shape)"
   ],
   "id": "8adc1b0921e8e55c",
   "outputs": [
    {
     "ename": "NameError",
     "evalue": "name 'train_features' is not defined",
     "output_type": "error",
     "traceback": [
      "\u001B[0;31m---------------------------------------------------------------------------\u001B[0m",
      "\u001B[0;31mNameError\u001B[0m                                 Traceback (most recent call last)",
      "Cell \u001B[0;32mIn[9], line 1\u001B[0m\n\u001B[0;32m----> 1\u001B[0m train_features, valid_features, train_labels, valid_labels \u001B[38;5;241m=\u001B[39m train_test_split(\u001B[43mtrain_features\u001B[49m, train_labels, test_size\u001B[38;5;241m=\u001B[39m\u001B[38;5;241m0.1\u001B[39m, random_state\u001B[38;5;241m=\u001B[39m\u001B[38;5;241m42\u001B[39m)\n\u001B[1;32m      2\u001B[0m \u001B[38;5;28mprint\u001B[39m(\u001B[38;5;124m\"\u001B[39m\u001B[38;5;124m训练集特征矩阵维度：\u001B[39m\u001B[38;5;124m\"\u001B[39m, train_features\u001B[38;5;241m.\u001B[39mshape, \u001B[38;5;124m\"\u001B[39m\u001B[38;5;124m训练集标签矩阵维度：\u001B[39m\u001B[38;5;124m\"\u001B[39m, train_labels\u001B[38;5;241m.\u001B[39mshape)\n\u001B[1;32m      3\u001B[0m \u001B[38;5;28mprint\u001B[39m(\u001B[38;5;124m\"\u001B[39m\u001B[38;5;124m验证集特征矩阵维度：\u001B[39m\u001B[38;5;124m\"\u001B[39m, valid_features\u001B[38;5;241m.\u001B[39mshape, \u001B[38;5;124m\"\u001B[39m\u001B[38;5;124m验证集标签矩阵维度：\u001B[39m\u001B[38;5;124m\"\u001B[39m, valid_labels\u001B[38;5;241m.\u001B[39mshape)\n",
      "\u001B[0;31mNameError\u001B[0m: name 'train_features' is not defined"
     ]
    }
   ],
   "execution_count": 9
  },
  {
   "metadata": {},
   "cell_type": "markdown",
   "source": "#### 6、定义分类预测神经网络模型",
   "id": "bf0cf89c8f97acde"
  },
  {
   "metadata": {
    "ExecuteTime": {
     "end_time": "2024-09-07T03:42:02.822182Z",
     "start_time": "2024-09-07T03:42:02.804748Z"
    }
   },
   "cell_type": "code",
   "source": [
    "class Net(nn.Module):\n",
    "    def __init__(self, input_size, hidden_size, num_classes):\n",
    "        super(Net, self).__init__()\n",
    "        self.fc1 = nn.Linear(input_size, hidden_size)\n",
    "        self.fc2 = nn.Linear(hidden_size, num_classes)\n",
    "        self.relu = nn.ReLU()\n",
    "\n",
    "    def forward(self, x):\n",
    "        out = self.fc1(x)\n",
    "        out = self.relu(out)\n",
    "        out = self.fc2(out)\n",
    "        return out\n",
    "\n",
    "\n",
    "# 初始化模型\n",
    "net = Net(input_size=54, hidden_size=50, num_classes=7)\n",
    "\n",
    "# 打印模型结构信息及参数量\n",
    "print(\"模型结构信息: \", net)\n",
    "print(\"模型参数量: \", sum(p.numel() for p in net.parameters()))"
   ],
   "id": "c2886ae220146ec5",
   "outputs": [
    {
     "name": "stdout",
     "output_type": "stream",
     "text": [
      "模型结构信息:  Net(\n",
      "  (fc1): Linear(in_features=54, out_features=50, bias=True)\n",
      "  (fc2): Linear(in_features=50, out_features=7, bias=True)\n",
      "  (relu): ReLU()\n",
      ")\n",
      "模型参数量:  3107\n"
     ]
    }
   ],
   "execution_count": 10
  },
  {
   "metadata": {},
   "cell_type": "markdown",
   "source": "#### 7、定义损失函数和优化器",
   "id": "35b2f4d1f7f40cae"
  },
  {
   "metadata": {
    "ExecuteTime": {
     "end_time": "2024-09-07T03:42:58.366243Z",
     "start_time": "2024-09-07T03:42:57.685537Z"
    }
   },
   "cell_type": "code",
   "source": [
    "criterion = nn.CrossEntropyLoss()\n",
    "optimizer = optim.Adam(net.parameters(), lr=0.01)"
   ],
   "id": "b3710715967c6d3f",
   "outputs": [],
   "execution_count": 11
  },
  {
   "metadata": {},
   "cell_type": "markdown",
   "source": "#### 8、将所有数据转换为Tensor",
   "id": "4b05113ca182ab8e"
  },
  {
   "metadata": {
    "ExecuteTime": {
     "end_time": "2024-09-07T03:45:19.603248Z",
     "start_time": "2024-09-07T03:45:19.560545Z"
    }
   },
   "cell_type": "code",
   "source": [
    "# 将数据转换为PyTorch张量\n",
    "train_features_tensor = torch.tensor(train_features, dtype=torch.float32)\n",
    "train_labels_tensor = torch.tensor(train_labels, dtype=torch.int64)\n",
    "valid_features_tensor = torch.tensor(valid_features, dtype=torch.float32)\n",
    "valid_labels_tensor = torch.tensor(valid_labels, dtype=torch.int64)\n",
    "\n",
    "# 创建数据加载器\n",
    "train_data = TensorDataset(train_features_tensor, train_labels_tensor)\n",
    "train_loader = DataLoader(train_data, batch_size=64, shuffle=True)"
   ],
   "id": "1f9e2452122f4f90",
   "outputs": [
    {
     "ename": "NameError",
     "evalue": "name 'train_features' is not defined",
     "output_type": "error",
     "traceback": [
      "\u001B[0;31m---------------------------------------------------------------------------\u001B[0m",
      "\u001B[0;31mNameError\u001B[0m                                 Traceback (most recent call last)",
      "Cell \u001B[0;32mIn[12], line 2\u001B[0m\n\u001B[1;32m      1\u001B[0m \u001B[38;5;66;03m# 将数据转换为PyTorch张量\u001B[39;00m\n\u001B[0;32m----> 2\u001B[0m train_features_tensor \u001B[38;5;241m=\u001B[39m torch\u001B[38;5;241m.\u001B[39mtensor(\u001B[43mtrain_features\u001B[49m, dtype\u001B[38;5;241m=\u001B[39mtorch\u001B[38;5;241m.\u001B[39mfloat32)\n\u001B[1;32m      3\u001B[0m train_labels_tensor \u001B[38;5;241m=\u001B[39m torch\u001B[38;5;241m.\u001B[39mtensor(train_labels, dtype\u001B[38;5;241m=\u001B[39mtorch\u001B[38;5;241m.\u001B[39mint64)\n\u001B[1;32m      4\u001B[0m valid_features_tensor \u001B[38;5;241m=\u001B[39m torch\u001B[38;5;241m.\u001B[39mtensor(valid_features, dtype\u001B[38;5;241m=\u001B[39mtorch\u001B[38;5;241m.\u001B[39mfloat32)\n",
      "\u001B[0;31mNameError\u001B[0m: name 'train_features' is not defined"
     ]
    }
   ],
   "execution_count": 12
  },
  {
   "metadata": {},
   "cell_type": "markdown",
   "source": "#### 9、训练模型，并保存验证集上准确率最有的预测模型",
   "id": "fe1369e109453c4d"
  },
  {
   "metadata": {
    "ExecuteTime": {
     "end_time": "2024-09-07T03:58:54.185159Z",
     "start_time": "2024-09-07T03:58:54.135706Z"
    }
   },
   "cell_type": "code",
   "source": [
    "best_model = None\n",
    "best_acc = 0\n",
    "\n",
    "# 初始化准确率列表\n",
    "train_acc_list = []\n",
    "valid_acc_list = []\n",
    "\n",
    "# 训练模型\n",
    "for epoch in range(20):\n",
    "    running_loss = 0.0\n",
    "    correct_train = 0.0\n",
    "    total_train = 0\n",
    "    for i, data in enumerate(train_loader, 0):\n",
    "        # 获得输入数据\n",
    "        inputs, labels = data\n",
    "        # 梯度清零\n",
    "        optimizer.zero_grad()\n",
    "        # 前向传播 + 反向传播 + 优化\n",
    "        outputs = net(inputs)\n",
    "        loss = criterion(outputs, labels)\n",
    "        loss.backward()\n",
    "        optimizer.step()\n",
    "\n",
    "        running_loss += loss.item()\n",
    "\n",
    "        # 计算训练集准确率\n",
    "        _, predicted = torch.max(outputs.data, 1)\n",
    "        total_train += labels.size(0)\n",
    "        correct_train += (predicted == labels).sum().item()\n",
    "\n",
    "    train_acc = 100 * correct_train / total_train\n",
    "    train_acc_list.append(train_acc)\n",
    "    print(\"======= Epoch %d =======\" % (epoch + 1))\n",
    "    print(\"Train Accuracy: %.2f %% \" % train_acc)\n",
    "\n",
    "    # 使用验证集评估模型\n",
    "    with torch.no_grad():\n",
    "        valid_outputs = net(valid_features_tensor)\n",
    "        _, predicted = torch.max(valid_outputs, 1)\n",
    "\n",
    "        # 计算验证集准确率\n",
    "        correct_valid = (predicted == valid_labels_tensor).sum().item()\n",
    "        valid_acc = 100 * correct_valid / valid_labels_tensor.size(0)\n",
    "        print(\"Validation Accuracy: %.2f %% \" % valid_acc)\n",
    "        valid_acc_list.append(valid_acc)\n",
    "\n",
    "        # 保存最佳验证集上Accuracy最高的模型\n",
    "        if valid_acc > best_acc:\n",
    "            best_acc = valid_acc\n",
    "            best_model = net\n",
    "print(\"Finished Training\")"
   ],
   "id": "1fa3da992763b87",
   "outputs": [
    {
     "ename": "NameError",
     "evalue": "name 'train_loader' is not defined",
     "output_type": "error",
     "traceback": [
      "\u001B[0;31m---------------------------------------------------------------------------\u001B[0m",
      "\u001B[0;31mNameError\u001B[0m                                 Traceback (most recent call last)",
      "Cell \u001B[0;32mIn[13], line 13\u001B[0m\n\u001B[1;32m     11\u001B[0m correct_train \u001B[38;5;241m=\u001B[39m \u001B[38;5;241m0.0\u001B[39m\n\u001B[1;32m     12\u001B[0m total_train \u001B[38;5;241m=\u001B[39m \u001B[38;5;241m0\u001B[39m\n\u001B[0;32m---> 13\u001B[0m \u001B[38;5;28;01mfor\u001B[39;00m i, data \u001B[38;5;129;01min\u001B[39;00m \u001B[38;5;28menumerate\u001B[39m(\u001B[43mtrain_loader\u001B[49m, \u001B[38;5;241m0\u001B[39m):\n\u001B[1;32m     14\u001B[0m     \u001B[38;5;66;03m# 获得输入数据\u001B[39;00m\n\u001B[1;32m     15\u001B[0m     inputs, labels \u001B[38;5;241m=\u001B[39m data\n\u001B[1;32m     16\u001B[0m     \u001B[38;5;66;03m# 梯度清零\u001B[39;00m\n",
      "\u001B[0;31mNameError\u001B[0m: name 'train_loader' is not defined"
     ]
    }
   ],
   "execution_count": 13
  },
  {
   "metadata": {},
   "cell_type": "markdown",
   "source": "#### 10、绘制训练集和验证集的准确率变化曲线",
   "id": "d69fbc4ef7473a56"
  },
  {
   "metadata": {
    "ExecuteTime": {
     "end_time": "2024-09-07T04:02:23.350543Z",
     "start_time": "2024-09-07T04:02:23.237815Z"
    }
   },
   "cell_type": "code",
   "source": [
    "epoch = list(range(1, len(train_acc_list) + 1))\n",
    "plt.plot(epoch, train_acc_list, label='Train Accuracy')\n",
    "plt.plot(epoch, valid_acc_list, label='Validation Accuracy')\n",
    "plt.xlabel('Epoch')\n",
    "plt.ylabel('Accuracy')\n",
    "plt.legend()\n",
    "plt.show()"
   ],
   "id": "68a43b7fc162cb64",
   "outputs": [
    {
     "data": {
      "text/plain": [
       "<Figure size 640x480 with 1 Axes>"
      ],
      "image/png": "[encoded data removed]"
     },
     "metadata": {},
     "output_type": "display_data"
    }
   ],
   "execution_count": 14
  },
  {
   "metadata": {},
   "cell_type": "markdown",
   "source": "#### 11、对测试集样本点进行预测，计算预测准确率。",
   "id": "9a1dc3c56d5a6651"
  },
  {
   "metadata": {},
   "cell_type": "code",
   "outputs": [],
   "execution_count": null,
   "source": [
    "with torch.no_grad():\n",
    "    test_outputs = best_model(torch.tensor(test_features, dtype=torch.float32))\n",
    "    _, predicted = torch.max(test_outputs, 1)\n",
    "    correct_test = (predicted == torch.tensor(test_labels, dtype=torch.int64)).sum().item()\n",
    "    print(\"Test Accuracy: %d %%\" % (100 * correct_test / test_labels.size))"
   ],
   "id": "ef4660aebf8684ad"
  }
 ],
 "metadata": {
  "kernelspec": {
   "display_name": "Python 3",
   "language": "python",
   "name": "python3"
  },
  "language_info": {
   "codemirror_mode": {
    "name": "ipython",
    "version": 2
   },
   "file_extension": ".py",
   "mimetype": "text/x-python",
   "name": "python",
   "nbconvert_exporter": "python",
   "pygments_lexer": "ipython2",
   "version": "2.7.6"
  }
 },
 "nbformat": 4,
 "nbformat_minor": 5
}
