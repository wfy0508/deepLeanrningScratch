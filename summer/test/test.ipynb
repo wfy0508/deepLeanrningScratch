{
 "cells": [
  {
   "cell_type": "code",
   "id": "initial_id",
   "metadata": {
    "collapsed": true,
    "ExecuteTime": {
     "end_time": "2024-08-31T12:30:22.602178Z",
     "start_time": "2024-08-31T12:30:22.596764Z"
    }
   },
   "source": [
    "import os\n",
    "os.path"
   ],
   "outputs": [
    {
     "data": {
      "text/plain": [
       "<module 'posixpath' from '/Users/summer/opt/miniconda3/lib/python3.9/posixpath.py'>"
      ]
     },
     "execution_count": 1,
     "metadata": {},
     "output_type": "execute_result"
    }
   ],
   "execution_count": 1
  },
  {
   "metadata": {
    "ExecuteTime": {
     "end_time": "2024-08-31T12:30:31.906023Z",
     "start_time": "2024-08-31T12:30:31.902829Z"
    }
   },
   "cell_type": "code",
   "source": "os.pardir",
   "id": "6cb09e9d44ba98b7",
   "outputs": [
    {
     "data": {
      "text/plain": [
       "'..'"
      ]
     },
     "execution_count": 2,
     "metadata": {},
     "output_type": "execute_result"
    }
   ],
   "execution_count": 2
  },
  {
   "metadata": {
    "ExecuteTime": {
     "end_time": "2024-08-31T12:31:14.425459Z",
     "start_time": "2024-08-31T12:31:14.422337Z"
    }
   },
   "cell_type": "code",
   "source": "os.path",
   "id": "4ccb14487722a152",
   "outputs": [
    {
     "data": {
      "text/plain": [
       "<module 'posixpath' from '/Users/summer/opt/miniconda3/lib/python3.9/posixpath.py'>"
      ]
     },
     "execution_count": 6,
     "metadata": {},
     "output_type": "execute_result"
    }
   ],
   "execution_count": 6
  },
  {
   "metadata": {
    "ExecuteTime": {
     "end_time": "2024-08-31T12:32:02.804905Z",
     "start_time": "2024-08-31T12:32:02.794975Z"
    }
   },
   "cell_type": "code",
   "source": "os.path.dirname(os.path.abspath(__file__))",
   "id": "c68922b2bb41c2dd",
   "outputs": [
    {
     "ename": "NameError",
     "evalue": "name '__file__' is not defined",
     "output_type": "error",
     "traceback": [
      "\u001B[0;31m---------------------------------------------------------------------------\u001B[0m",
      "\u001B[0;31mNameError\u001B[0m                                 Traceback (most recent call last)",
      "Cell \u001B[0;32mIn[7], line 1\u001B[0m\n\u001B[0;32m----> 1\u001B[0m os\u001B[38;5;241m.\u001B[39mpath\u001B[38;5;241m.\u001B[39mdirname(os\u001B[38;5;241m.\u001B[39mpath\u001B[38;5;241m.\u001B[39mabspath(\u001B[38;5;18;43m__file__\u001B[39;49m))\n",
      "\u001B[0;31mNameError\u001B[0m: name '__file__' is not defined"
     ]
    }
   ],
   "execution_count": 7
  },
  {
   "metadata": {
    "ExecuteTime": {
     "end_time": "2024-08-31T12:55:46.332615Z",
     "start_time": "2024-08-31T12:55:46.251408Z"
    }
   },
   "cell_type": "code",
   "source": [
    "import numpy as np\n",
    "from matplotlib import pyplot as plt\n",
    "\n",
    "\n",
    "def sigmoid_test(x):\n",
    "    return 1 / (1 + np.exp(-x))\n",
    "\n",
    "\n",
    "x = np.arange(-10, 10, 0.01)\n",
    "plt.figure(figsize=(8, 6))\n",
    "plt.plot(x, sigmoid_test(x))\n",
    "plt.grid(True)\n",
    "plt.legend(['sigmoid'])"
   ],
   "id": "7063f1ff5d0ad9b2",
   "outputs": [
    {
     "data": {
      "text/plain": [
       "<matplotlib.legend.Legend at 0x11aacb9a0>"
      ]
     },
     "execution_count": 19,
     "metadata": {},
     "output_type": "execute_result"
    },
    {
     "data": {
      "text/plain": [
       "<Figure size 800x600 with 1 Axes>"
      ],
      "image/png": "[encoded data removed]"
     },
     "metadata": {},
     "output_type": "display_data"
    }
   ],
   "execution_count": 19
  },
  {
   "metadata": {
    "ExecuteTime": {
     "end_time": "2024-08-31T13:12:33.569749Z",
     "start_time": "2024-08-31T13:12:33.562724Z"
    }
   },
   "cell_type": "code",
   "source": "x.ndim",
   "id": "6c1022d026ec27cc",
   "outputs": [
    {
     "data": {
      "text/plain": [
       "1"
      ]
     },
     "execution_count": 20,
     "metadata": {},
     "output_type": "execute_result"
    }
   ],
   "execution_count": 20
  },
  {
   "metadata": {
    "ExecuteTime": {
     "end_time": "2024-08-31T13:13:01.972109Z",
     "start_time": "2024-08-31T13:13:01.966389Z"
    }
   },
   "cell_type": "code",
   "source": [
    "a = np.array([[1, 2, 3, 4], [5, 6, 7, 8]])\n",
    "a"
   ],
   "id": "d9129671a329e956",
   "outputs": [
    {
     "data": {
      "text/plain": [
       "array([[1, 2, 3, 4],\n",
       "       [5, 6, 7, 8]])"
      ]
     },
     "execution_count": 21,
     "metadata": {},
     "output_type": "execute_result"
    }
   ],
   "execution_count": 21
  },
  {
   "metadata": {
    "ExecuteTime": {
     "end_time": "2024-08-31T13:13:19.886809Z",
     "start_time": "2024-08-31T13:13:19.881524Z"
    }
   },
   "cell_type": "code",
   "source": "a[1]",
   "id": "c497ace15d0bfbd9",
   "outputs": [
    {
     "data": {
      "text/plain": [
       "array([5, 6, 7, 8])"
      ]
     },
     "execution_count": 23,
     "metadata": {},
     "output_type": "execute_result"
    }
   ],
   "execution_count": 23
  },
  {
   "metadata": {
    "ExecuteTime": {
     "end_time": "2024-08-31T13:13:32.966275Z",
     "start_time": "2024-08-31T13:13:32.961768Z"
    }
   },
   "cell_type": "code",
   "source": "a[0]",
   "id": "cc9dfe92e3aa0d77",
   "outputs": [
    {
     "data": {
      "text/plain": [
       "array([1, 2, 3, 4])"
      ]
     },
     "execution_count": 24,
     "metadata": {},
     "output_type": "execute_result"
    }
   ],
   "execution_count": 24
  },
  {
   "metadata": {
    "ExecuteTime": {
     "end_time": "2024-08-31T13:13:45.285683Z",
     "start_time": "2024-08-31T13:13:45.282973Z"
    }
   },
   "cell_type": "code",
   "source": "a[0][2]",
   "id": "cf6bb6743e4c8942",
   "outputs": [
    {
     "data": {
      "text/plain": [
       "3"
      ]
     },
     "execution_count": 25,
     "metadata": {},
     "output_type": "execute_result"
    }
   ],
   "execution_count": 25
  },
  {
   "metadata": {
    "ExecuteTime": {
     "end_time": "2024-08-31T13:17:33.059488Z",
     "start_time": "2024-08-31T13:17:33.055249Z"
    }
   },
   "cell_type": "code",
   "source": "np.max(a)",
   "id": "72b1ea901c07a2e1",
   "outputs": [
    {
     "data": {
      "text/plain": [
       "8"
      ]
     },
     "execution_count": 26,
     "metadata": {},
     "output_type": "execute_result"
    }
   ],
   "execution_count": 26
  },
  {
   "metadata": {
    "ExecuteTime": {
     "end_time": "2024-08-31T13:17:46.737035Z",
     "start_time": "2024-08-31T13:17:46.733660Z"
    }
   },
   "cell_type": "code",
   "source": "np.max(a.T)",
   "id": "eef5e960f793f44a",
   "outputs": [
    {
     "data": {
      "text/plain": [
       "8"
      ]
     },
     "execution_count": 27,
     "metadata": {},
     "output_type": "execute_result"
    }
   ],
   "execution_count": 27
  },
  {
   "metadata": {
    "ExecuteTime": {
     "end_time": "2024-08-31T13:18:15.984199Z",
     "start_time": "2024-08-31T13:18:15.981370Z"
    }
   },
   "cell_type": "code",
   "source": "a.ndim",
   "id": "ac1af43e78d518f0",
   "outputs": [
    {
     "data": {
      "text/plain": [
       "2"
      ]
     },
     "execution_count": 28,
     "metadata": {},
     "output_type": "execute_result"
    }
   ],
   "execution_count": 28
  },
  {
   "metadata": {
    "ExecuteTime": {
     "end_time": "2024-08-31T13:18:26.439136Z",
     "start_time": "2024-08-31T13:18:26.436249Z"
    }
   },
   "cell_type": "code",
   "source": "np.exp(a)",
   "id": "53644bd18323c6d8",
   "outputs": [
    {
     "data": {
      "text/plain": [
       "array([[2.71828183e+00, 7.38905610e+00, 2.00855369e+01, 5.45981500e+01],\n",
       "       [1.48413159e+02, 4.03428793e+02, 1.09663316e+03, 2.98095799e+03]])"
      ]
     },
     "execution_count": 29,
     "metadata": {},
     "output_type": "execute_result"
    }
   ],
   "execution_count": 29
  },
  {
   "metadata": {
    "ExecuteTime": {
     "end_time": "2024-08-31T13:18:35.806156Z",
     "start_time": "2024-08-31T13:18:35.802702Z"
    }
   },
   "cell_type": "code",
   "source": "np.exp(a.T)",
   "id": "fc6885775470e471",
   "outputs": [
    {
     "data": {
      "text/plain": [
       "array([[2.71828183e+00, 1.48413159e+02],\n",
       "       [7.38905610e+00, 4.03428793e+02],\n",
       "       [2.00855369e+01, 1.09663316e+03],\n",
       "       [5.45981500e+01, 2.98095799e+03]])"
      ]
     },
     "execution_count": 30,
     "metadata": {},
     "output_type": "execute_result"
    }
   ],
   "execution_count": 30
  },
  {
   "metadata": {},
   "cell_type": "code",
   "outputs": [],
   "execution_count": null,
   "source": [
    "def init_network():\n",
    "    network = dict()\n",
    "    network[\"w1\"] = np.array([[0.2, 0.8, 0.1], [-0.2, 0.4, 0.5]])\n",
    "    network[\"b1\"] = np.array([1, -1, 2])\n",
    "    network[\"w2\"] = np.array([[0, 5, 0.1], [0.6, 0.2], [0.2, 0.1]])\n",
    "    network[\"b2\"] = np.array([1, 0.5])\n",
    "    network['w3'] = np.array([[0.1, 0.3],[0.2, 0.4]])\n",
    "    network[\"b3\"] = np.array([0.1, 0.2])"
   ],
   "id": "819a4843589c477"
  },
  {
   "metadata": {},
   "cell_type": "markdown",
   "source": "",
   "id": "498dd5271503687d"
  }
 ],
 "metadata": {
  "kernelspec": {
   "display_name": "Python 3",
   "language": "python",
   "name": "python3"
  },
  "language_info": {
   "codemirror_mode": {
    "name": "ipython",
    "version": 2
   },
   "file_extension": ".py",
   "mimetype": "text/x-python",
   "name": "python",
   "nbconvert_exporter": "python",
   "pygments_lexer": "ipython2",
   "version": "2.7.6"
  }
 },
 "nbformat": 4,
 "nbformat_minor": 5
}
